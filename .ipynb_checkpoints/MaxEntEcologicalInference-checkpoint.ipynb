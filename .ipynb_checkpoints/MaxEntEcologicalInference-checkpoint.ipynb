{
 "cells": [
  {
   "cell_type": "code",
   "execution_count": 1,
   "metadata": {
    "collapsed": true
   },
   "outputs": [],
   "source": [
    "%load_ext autoreload\n",
    "%autoreload 2\n",
    "%matplotlib inline\n",
    "\n",
    "\n",
    "import os\n",
    "import sys\n",
    "import time\n",
    "import datetime\n",
    "import pickle\n",
    "import pandas as pd\n",
    "import numpy as np\n",
    "import numpy.linalg as linalg\n",
    "from numpy.linalg import matrix_power as matpower\n",
    "from math import fsum\n",
    "import sympy as sym\n",
    "import matplotlib.pyplot as plt\n",
    "import matplotlib as mpl\n",
    "from mpl_toolkits.axes_grid1 import make_axes_locatable\n",
    "from mpl_toolkits.mplot3d import Axes3D\n",
    "import seaborn as sns\n",
    "import itertools\n",
    "import collections\n",
    "import warnings\n",
    "import IPython.display\n",
    "\n",
    "import scipy.stats\n",
    "from scipy.stats import pearsonr, spearmanr\n",
    "from scipy.optimize import minimize\n",
    "\n",
    "import networkx as nx\n",
    "from operator import itemgetter\n",
    "\n",
    "plt.style.use('seaborn-white')\n",
    "plt.rc('font', family='serif', serif='Times')\n",
    "plt.rc('text', usetex=True)\n",
    "plt.rc('xtick', labelsize=8)\n",
    "plt.rc('ytick', labelsize=8)\n",
    "plt.rc('axes', labelsize=9)\n",
    "\n",
    "\n",
    "\n",
    "from sklearn.preprocessing import StandardScaler, RobustScaler, FunctionTransformer, PolynomialFeatures\n",
    "from sklearn.decomposition import PCA, NMF\n",
    "from sklearn.pipeline import Pipeline\n",
    "from sklearn.linear_model import LinearRegression\n",
    "from sklearn.kernel_ridge import KernelRidge\n",
    "from sklearn.svm import SVR\n",
    "from sklearn.ensemble import RandomForestRegressor, ExtraTreesRegressor, GradientBoostingRegressor, AdaBoostRegressor\n",
    "from sklearn.model_selection import GridSearchCV, cross_val_score, RandomizedSearchCV\n",
    "from sklearn.metrics import mean_squared_error, mean_absolute_error\n",
    "import sklearn.ensemble\n",
    "from sklearn.multioutput import MultiOutputRegressor\n",
    "from sklearn.externals import joblib\n",
    "\n",
    "\n",
    "import pdb"
   ]
  },
  {
   "cell_type": "code",
   "execution_count": 29,
   "metadata": {
    "collapsed": true
   },
   "outputs": [],
   "source": [
    "def ChoJudge(alphavec, norig, ndest):\n",
    "    \"\"\"\n",
    "    Concentrated objective function from Cho and Judge (2008)\n",
    "    Recoverging Vote Choice from Partial Incomplete Data\n",
    "    page 167\n",
    "    \n",
    "    p_{jk}, where\n",
    "        j = origin node\n",
    "        k = destination node\n",
    "    \n",
    "    Constraints:\n",
    "    n_{k} = sum_j n_{j} p_{jk}   [walkers in k that got there from all the nodes j]\n",
    "    1     = sum_k p_{jk}         [all walkers in j have to go somewhere = rowsums equal to 1]\n",
    "    n_{j} = sum_k n_{k} p_{jk}   \n",
    "    \n",
    "    General solution from MaxEnt:\n",
    "    p_{jk} \\propto q_{jk} exp(a_{k} n_{j})\n",
    "    \n",
    "    where q_{jk} may be prior information, but typically is taken as 1 (i.e., uniform prior)\n",
    "    \n",
    "    \n",
    "    To solve the Lagrange multipliers:\n",
    "    F(avec) = \\sum_k a_{k} n_{k} + \\sum_j ln( \\sum_k exp(-a_{k}n_j) )\n",
    "    \n",
    "    \"\"\"\n",
    "    numorigs = len(norig) # num of j's\n",
    "    numdests = len(ndest) # num of k's\n",
    "    \n",
    "    #pdb.set_trace()\n",
    "    \n",
    "    # \\sum_k a_{k} n_{k} \n",
    "    term1 = np.dot(alphavec, ndest)\n",
    "    \n",
    "    # exp(-a_{k} n_{j})\n",
    "    tempmat = np.array([ [np.exp(-alphavec[k]*norig[j]) for j in range(numorigs)] for k in range(numdests)])\n",
    "    \n",
    "    # ln( \\sum_k exp(-a_{k}n_j) )\n",
    "    templog = np.log(np.sum(tempmat, axis=0))\n",
    "    # \\sum_j ln( \\sum_k exp(-a_{k}n_j) )\n",
    "    term2 = np.sum(templog)\n",
    "    \n",
    "    return(term1 + term2)\n",
    "\n",
    "def pT(norig, ndest):\n",
    "    # This generates a left-stochastic matrix\n",
    "    \n",
    "    x0 = 1.0/(np.ones(len(ndest)) + 2.0*ndest)\n",
    "    res = minimize(lambda x: ChoJudge(x, norig, ndest), x0, \n",
    "                   method='Nelder-Mead',\n",
    "                  options={'disp': True, \n",
    "                           'maxiter': 1000000, \n",
    "                           'xatol': 0.0000001, \n",
    "                           'fatol': 0.0000001, \n",
    "                           'maxfev': 1000000})\n",
    "\n",
    "    numorigs = len(norig) # num of j's\n",
    "    numdests = len(ndest) # num of k's\n",
    "\n",
    "    Pjk = np.array([ [np.exp(-res.x[k]*norig[j]) for k in range(numdests)] for j in range(numorigs)]  )\n",
    "    print(Pjk)\n",
    "#     rowsumj = np.sum(Pjk, axis=1)\n",
    "#     Pjk = np.dot(np.diag(1.0/rowsumj), Pjk)\n",
    "    Pjk /= Pjk.sum()\n",
    "    \n",
    "    return(Pjk.T)\n",
    "    "
   ]
  },
  {
   "cell_type": "code",
   "execution_count": 30,
   "metadata": {
    "collapsed": false
   },
   "outputs": [
    {
     "name": "stdout",
     "output_type": "stream",
     "text": [
      "Optimization terminated successfully.\n",
      "         Current function value: 3.770947\n",
      "         Iterations: 159\n",
      "         Function evaluations: 280\n",
      "[[  2.30683843e-01   3.80700289e-02   2.54556810e-04   1.11106131e-05\n",
      "    3.53854463e-02]\n",
      " [  7.54890782e-01   5.34421384e-01   2.04622576e-01   1.12258493e-01\n",
      "    5.26981543e-01]\n",
      " [  9.61496666e-01   9.16224278e-01   8.01275385e-01   7.36839590e-01\n",
      "    9.14432411e-01]]\n"
     ]
    }
   ],
   "source": [
    "# From ChoJudge 2008, Table 2\n",
    "ndest = np.array([963.0, 207.0, 28.0, 17.0, 196.0])\n",
    "norig = np.array([1158.0, 222.0, 31.0])\n",
    "Pjk = pT(norig, ndest).T"
   ]
  },
  {
   "cell_type": "code",
   "execution_count": 48,
   "metadata": {
    "collapsed": false
   },
   "outputs": [
    {
     "data": {
      "text/plain": [
       "array([[  48.,    8.,    0.,    0.,    7.],\n",
       "       [ 157.,  111.,   43.,   23.,  110.],\n",
       "       [ 200.,  191.,  167.,  154.,  191.]])"
      ]
     },
     "execution_count": 48,
     "metadata": {},
     "output_type": "execute_result"
    }
   ],
   "source": [
    "Prd = np.around(Pjk*1411,0)\n",
    "Prd"
   ]
  },
  {
   "cell_type": "code",
   "execution_count": 49,
   "metadata": {
    "collapsed": false
   },
   "outputs": [
    {
     "data": {
      "text/plain": [
       "array([  63.,  444.,  903.])"
      ]
     },
     "execution_count": 49,
     "metadata": {},
     "output_type": "execute_result"
    }
   ],
   "source": [
    "Prd.sum(axis = 1)"
   ]
  },
  {
   "cell_type": "code",
   "execution_count": 50,
   "metadata": {
    "collapsed": false
   },
   "outputs": [
    {
     "data": {
      "text/plain": [
       "array([ 405.,  310.,  210.,  177.,  308.])"
      ]
     },
     "execution_count": 50,
     "metadata": {},
     "output_type": "execute_result"
    }
   ],
   "source": [
    "Prd.sum(axis = 0)"
   ]
  },
  {
   "cell_type": "code",
   "execution_count": 51,
   "metadata": {
    "collapsed": false
   },
   "outputs": [
    {
     "data": {
      "text/plain": [
       "1410.0"
      ]
     },
     "execution_count": 51,
     "metadata": {},
     "output_type": "execute_result"
    }
   ],
   "source": [
    "Prd.sum()"
   ]
  },
  {
   "cell_type": "code",
   "execution_count": null,
   "metadata": {
    "collapsed": true
   },
   "outputs": [],
   "source": []
  }
 ],
 "metadata": {
  "kernelspec": {
   "display_name": "Python 2",
   "language": "python",
   "name": "python2"
  },
  "language_info": {
   "codemirror_mode": {
    "name": "ipython",
    "version": 2
   },
   "file_extension": ".py",
   "mimetype": "text/x-python",
   "name": "python",
   "nbconvert_exporter": "python",
   "pygments_lexer": "ipython2",
   "version": "2.7.13"
  }
 },
 "nbformat": 4,
 "nbformat_minor": 2
}
