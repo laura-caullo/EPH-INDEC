{
 "cells": [
  {
   "cell_type": "code",
   "execution_count": 1,
   "metadata": {
    "collapsed": true
   },
   "outputs": [],
   "source": [
    "import pandas as pd\n",
    "import matplotlib.pyplot as plt\n",
    "%matplotlib inline"
   ]
  },
  {
   "cell_type": "code",
   "execution_count": 2,
   "metadata": {
    "collapsed": false
   },
   "outputs": [],
   "source": [
    "piram_pob = pd.read_csv('./piram_pob_2010.csv', index_col = 0).iloc[:, :-1]\n",
    "adulto_eq = pd.read_csv('./adulto_eq.csv', index_col = 0)"
   ]
  },
  {
   "cell_type": "code",
   "execution_count": 37,
   "metadata": {
    "collapsed": false
   },
   "outputs": [
    {
     "data": {
      "text/plain": [
       "0.30772820064158646"
      ]
     },
     "execution_count": 37,
     "metadata": {},
     "output_type": "execute_result"
    }
   ],
   "source": [
    "piram_pob[:18].sum().sum()/float(piram_pob[18:60].sum().sum())"
   ]
  },
  {
   "cell_type": "code",
   "execution_count": 13,
   "metadata": {
    "collapsed": false
   },
   "outputs": [
    {
     "data": {
      "text/plain": [
       "-7.4851772794956268"
      ]
     },
     "execution_count": 13,
     "metadata": {},
     "output_type": "execute_result"
    }
   ],
   "source": [
    "from numpy import log10\n",
    "-log10(piram_pob.sum()[18:].sum()*1.1)"
   ]
  },
  {
   "cell_type": "code",
   "execution_count": 33,
   "metadata": {
    "collapsed": true
   },
   "outputs": [
    {
     "data": {
      "text/plain": [
       "EDAD\n",
       "0      0.350\n",
       "1      0.370\n",
       "2      0.460\n",
       "3      0.510\n",
       "4      0.550\n",
       "5      0.600\n",
       "6      0.640\n",
       "7      0.660\n",
       "8      0.680\n",
       "9      0.690\n",
       "10     0.745\n",
       "11     0.770\n",
       "12     0.795\n",
       "13     0.830\n",
       "14     0.860\n",
       "15     0.885\n",
       "16     0.900\n",
       "17     0.905\n",
       "18     0.890\n",
       "19     0.890\n",
       "20     0.890\n",
       "21     0.890\n",
       "22     0.890\n",
       "23     0.890\n",
       "24     0.890\n",
       "25     0.890\n",
       "26     0.890\n",
       "27     0.890\n",
       "28     0.890\n",
       "29     0.890\n",
       "       ...  \n",
       "81     0.685\n",
       "82     0.685\n",
       "83     0.685\n",
       "84     0.685\n",
       "85     0.685\n",
       "86     0.685\n",
       "87     0.685\n",
       "88     0.685\n",
       "89     0.685\n",
       "90     0.685\n",
       "91     0.685\n",
       "92     0.685\n",
       "93     0.685\n",
       "94     0.685\n",
       "95     0.685\n",
       "96     0.685\n",
       "97     0.685\n",
       "98     0.685\n",
       "99     0.685\n",
       "100    0.685\n",
       "101    0.685\n",
       "102    0.685\n",
       "103    0.685\n",
       "104    0.685\n",
       "105    0.685\n",
       "106    0.685\n",
       "107    0.685\n",
       "108    0.685\n",
       "109    0.685\n",
       "110    0.685\n",
       "Length: 111, dtype: float64"
      ]
     },
     "execution_count": 33,
     "metadata": {},
     "output_type": "execute_result"
    }
   ],
   "source": [
    "adulto_eq.mean(axis = 1)"
   ]
  },
  {
   "cell_type": "code",
   "execution_count": 81,
   "metadata": {
    "collapsed": false
   },
   "outputs": [],
   "source": [
    "raciones = pd.DataFrame(piram_pob.sum().values * adulto_eq.mean(axis = 1).values, columns = ['raciones']).astype(int)\n",
    "# raciones[:18].sum().sum()/float(raciones[18:60].sum().sum())\n",
    "# raciones[18:60] += raciones[:18].sum().sum()/(60 - 18)\n",
    "# raciones[:18].sum().sum()/(60 - 18)\n",
    "# raciones = raciones[18:]"
   ]
  },
  {
   "cell_type": "code",
   "execution_count": 79,
   "metadata": {
    "collapsed": false
   },
   "outputs": [
    {
     "data": {
      "text/plain": [
       "<matplotlib.axes._subplots.AxesSubplot at 0x7f5cd1216c90>"
      ]
     },
     "execution_count": 79,
     "metadata": {},
     "output_type": "execute_result"
    },
    {
     "data": {
      "image/png": "[encoded data removed]",
      "text/plain": [
       "<matplotlib.figure.Figure at 0x7f5cd1216650>"
      ]
     },
     "metadata": {},
     "output_type": "display_data"
    }
   ],
   "source": [
    "raciones.plot()"
   ]
  },
  {
   "cell_type": "code",
   "execution_count": null,
   "metadata": {
    "collapsed": true
   },
   "outputs": [],
   "source": []
  }
 ],
 "metadata": {
  "kernelspec": {
   "display_name": "Python 2",
   "language": "python",
   "name": "python2"
  },
  "language_info": {
   "codemirror_mode": {
    "name": "ipython",
    "version": 2
   },
   "file_extension": ".py",
   "mimetype": "text/x-python",
   "name": "python",
   "nbconvert_exporter": "python",
   "pygments_lexer": "ipython2",
   "version": "2.7.13"
  }
 },
 "nbformat": 4,
 "nbformat_minor": 2
}
