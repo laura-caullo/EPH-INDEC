{
 "cells": [
  {
   "cell_type": "code",
   "execution_count": 7,
   "metadata": {
    "collapsed": true
   },
   "outputs": [],
   "source": [
    "import pandas as pd\n",
    "import numpy as np\n",
    "import matplotlib.pyplot as plt\n",
    "%matplotlib inline"
   ]
  },
  {
   "cell_type": "code",
   "execution_count": 4,
   "metadata": {},
   "outputs": [
    {
     "name": "stderr",
     "output_type": "stream",
     "text": [
      "/home/miglesia/anaconda2/lib/python2.7/site-packages/IPython/core/interactiveshell.py:2723: DtypeWarning: Columns (84) have mixed types. Specify dtype option on import or set low_memory=False.\n",
      "  interactivity=interactivity, compiler=compiler, result=result)\n"
     ]
    }
   ],
   "source": [
    "Ingresos = pd.read_csv('./ENGHo - Ingresos.txt', delimiter = '|')\n",
    "Hogares = pd.read_csv('./ENGHo - Hogares.txt', delimiter = '|')\n",
    "Personas = pd.read_csv('./ENGHo - Personas.txt', delimiter = '|')\n",
    "# Hogares.nunique()\n",
    "# Personas.nunique()"
   ]
  },
  {
   "cell_type": "code",
   "execution_count": 5,
   "metadata": {},
   "outputs": [
    {
     "name": "stderr",
     "output_type": "stream",
     "text": [
      "/home/miglesia/anaconda2/lib/python2.7/site-packages/IPython/core/interactiveshell.py:2723: DtypeWarning: Columns (69,76) have mixed types. Specify dtype option on import or set low_memory=False.\n",
      "  interactivity=interactivity, compiler=compiler, result=result)\n",
      "/home/miglesia/anaconda2/lib/python2.7/site-packages/IPython/core/interactiveshell.py:2723: DtypeWarning: Columns (102,105,134,137,143,146) have mixed types. Specify dtype option on import or set low_memory=False.\n",
      "  interactivity=interactivity, compiler=compiler, result=result)\n"
     ]
    }
   ],
   "source": [
    "hogar = pd.read_csv('./usu_hogar_t118.txt', delimiter = ';')\n",
    "indiv = pd.read_csv('./usu_individual_t118.txt', delimiter = ';')\n"
   ]
  },
  {
   "cell_type": "code",
   "execution_count": 30,
   "metadata": {
    "collapsed": true
   },
   "outputs": [
    {
     "data": {
      "text/plain": [
       "['IX_TOT',\n",
       " 'IX_MEN10',\n",
       " 'IX_MAYEQ10',\n",
       " 'ITF',\n",
       " 'DECIFR',\n",
       " 'IDECIFR',\n",
       " 'RDECIFR',\n",
       " 'GDECIFR',\n",
       " 'PDECIFR',\n",
       " 'ADECIFR',\n",
       " 'IPCF',\n",
       " 'DECCFR',\n",
       " 'IDECCFR',\n",
       " 'RDECCFR',\n",
       " 'GDECCFR',\n",
       " 'PDECCFR',\n",
       " 'ADECCFR',\n",
       " 'PONDIH',\n",
       " 'VII1_1',\n",
       " 'VII1_2',\n",
       " 'VII2_1',\n",
       " 'VII2_2',\n",
       " 'VII2_3',\n",
       " 'VII2_4']"
      ]
     },
     "execution_count": 30,
     "metadata": {},
     "output_type": "execute_result"
    }
   ],
   "source": []
  },
  {
   "cell_type": "code",
   "execution_count": 34,
   "metadata": {},
   "outputs": [],
   "source": [
    "pd.options.display.max_columns = 999"
   ]
  },
  {
   "cell_type": "code",
   "execution_count": 40,
   "metadata": {},
   "outputs": [],
   "source": [
    "cols = [u'CODUSU', u'ANO4', u'TRIMESTRE', u'NRO_HOGAR', u'REALIZADA', u'REGION',\n",
    "       u'MAS_500', u'AGLOMERADO']+list(hogar.columns[ 64:68])\n",
    "\n",
    "hogar_  =hogar.loc[hogar.AGLOMERADO == 33][cols]"
   ]
  },
  {
   "cell_type": "code",
   "execution_count": 55,
   "metadata": {},
   "outputs": [
    {
     "data": {
      "image/png": "[encoded data removed]",
      "text/plain": [
       "<matplotlib.figure.Figure at 0x7f4b66e9bed0>"
      ]
     },
     "metadata": {},
     "output_type": "display_data"
    }
   ],
   "source": [
    "\n",
    "\n",
    "plt.figure(figsize = (15, 8))\n",
    "# plt.hist((hogar['ITF']/hogar['IX_TOT']).values, 60)\n",
    "plt.hist((hogar['ITF']).values, 100)\n",
    "plt.yscale('log')\n",
    "plt.show()"
   ]
  },
  {
   "cell_type": "code",
   "execution_count": 1,
   "metadata": {},
   "outputs": [],
   "source": [
    "# hogar['ITF']/hogar['IX_TOT']\n",
    "# indiv.loc[indiv. == 33].sample(20)\n",
    "# indiv.loc[indiv.AGLOMERADO == 33].sample(20)"
   ]
  },
  {
   "cell_type": "code",
   "execution_count": 10,
   "metadata": {
    "collapsed": true
   },
   "outputs": [],
   "source": [
    "# Distribution in the upper tail \n",
    "indiv = indiv.loc[indiv.CH06 >= 18]\n",
    "df = indiv[['P47T']]\n",
    "\n",
    "# df['x1']\n",
    "# df['pdf']\n",
    "# df['x2']\n",
    "# df['cdf']\n",
    "\n",
    "\n",
    "\n",
    "# P = 1 - df.rank(pct = True)\n",
    "# df['log_top_perc'] = -np.log10(P)\n",
    "# df['log_G'] = np.log10(df[['P47T']]) #gross income\n",
    "# A = 9.6e+03;a = -0.37040834;B = 0;b = -0.09;\n",
    "# df['model'] = np.log10((A * np.power(P, a) + B * np.power(P, b))*(1 - P))\n",
    "# df_ = df.replace([-np.inf, np.inf], np.nan).dropna().sort_values(by = 'log_top_perc')\n",
    "\n",
    "# fig, ax = plt.subplots(1, figsize = (8, 6))\n",
    "# df_.plot(marker = '.', x = 'log_top_perc', y = 'log_G', mec = 'None', ax = ax)\n",
    "# df_.plot(marker = '.', x = 'log_top_perc', y = 'model', mec = 'None', ax = ax)\n",
    "# ax.set_xlim(0, 5)\n",
    "# plt.show()"
   ]
  },
  {
   "cell_type": "code",
   "execution_count": 49,
   "metadata": {},
   "outputs": [
    {
     "data": {
      "image/png": "[encoded data removed]",
      "text/plain": [
       "<matplotlib.figure.Figure at 0x7fd6b4914b90>"
      ]
     },
     "metadata": {},
     "output_type": "display_data"
    }
   ],
   "source": [
    "df1 = pd.DataFrame([])\n",
    "hist = np.histogram(df.dropna(), 150)\n",
    "df1['pdf'] = hist[0]/float(sum(hist[0]))\n",
    "df1['x1'] = (hist[1][:-1] + hist[1][1:])/2.\n",
    "df1['cdf'] = np.log10(1 - np.cumsum(df1['pdf']))\n",
    "df1['x2'] = np.log10(df1['x1'])\n",
    "\n",
    "fig, axs = plt.subplots(1, 2, figsize = (12, 5))\n",
    "ax = axs[0]\n",
    "df1.plot(marker = '.', x = 'x1', y = 'pdf', mec = 'None', ax = ax)\n",
    "ax = axs[1]\n",
    "df1.plot(marker = '.', x = 'x2', y = 'cdf', mec = 'None', ax = ax)\n",
    "# ax.set_xlim(0, 5)\n",
    "plt.show()"
   ]
  },
  {
   "cell_type": "code",
   "execution_count": 8,
   "metadata": {},
   "outputs": [
    {
     "name": "stderr",
     "output_type": "stream",
     "text": [
      "/home/miglesia/anaconda2/lib/python2.7/site-packages/IPython/kernel/__main__.py:5: RuntimeWarning: divide by zero encountered in log10\n",
      "/home/miglesia/anaconda2/lib/python2.7/site-packages/IPython/kernel/__main__.py:5: SettingWithCopyWarning: \n",
      "A value is trying to be set on a copy of a slice from a DataFrame.\n",
      "Try using .loc[row_indexer,col_indexer] = value instead\n",
      "\n",
      "See the caveats in the documentation: http://pandas.pydata.org/pandas-docs/stable/indexing.html#indexing-view-versus-copy\n",
      "/home/miglesia/anaconda2/lib/python2.7/site-packages/IPython/kernel/__main__.py:6: RuntimeWarning: divide by zero encountered in log10\n",
      "/home/miglesia/anaconda2/lib/python2.7/site-packages/IPython/kernel/__main__.py:6: RuntimeWarning: invalid value encountered in log10\n",
      "/home/miglesia/anaconda2/lib/python2.7/site-packages/IPython/kernel/__main__.py:6: SettingWithCopyWarning: \n",
      "A value is trying to be set on a copy of a slice from a DataFrame.\n",
      "Try using .loc[row_indexer,col_indexer] = value instead\n",
      "\n",
      "See the caveats in the documentation: http://pandas.pydata.org/pandas-docs/stable/indexing.html#indexing-view-versus-copy\n",
      "/home/miglesia/anaconda2/lib/python2.7/site-packages/IPython/kernel/__main__.py:8: RuntimeWarning: divide by zero encountered in power\n",
      "/home/miglesia/anaconda2/lib/python2.7/site-packages/IPython/kernel/__main__.py:8: SettingWithCopyWarning: \n",
      "A value is trying to be set on a copy of a slice from a DataFrame.\n",
      "Try using .loc[row_indexer,col_indexer] = value instead\n",
      "\n",
      "See the caveats in the documentation: http://pandas.pydata.org/pandas-docs/stable/indexing.html#indexing-view-versus-copy\n"
     ]
    },
    {
     "data": {
      "image/png": "[encoded data removed]",
      "text/plain": [
       "<matplotlib.figure.Figure at 0x7fd6c49bcf90>"
      ]
     },
     "metadata": {},
     "output_type": "display_data"
    }
   ],
   "source": [
    "# Distribution in the upper tail \n",
    "indiv = indiv.loc[indiv.CH06 >= 18]\n",
    "df = indiv[['P47T']]\n",
    "P = 1 - df.rank(pct = True)\n",
    "df['log_top_perc'] = -np.log10(P)\n",
    "df['log_G'] = np.log10(df[['P47T']]) #gross income\n",
    "A = 9.6e+03;a = -0.37040834;B = 0;b = -0.09;\n",
    "df['model'] = np.log10((A * np.power(P, a) + B * np.power(P, b))*(1 - P))\n",
    "df_ = df.replace([-np.inf, np.inf], np.nan).dropna().sort_values(by = 'log_top_perc')\n",
    "\n",
    "fig, ax = plt.subplots(1, figsize = (8, 6))\n",
    "df_.plot(marker = '.', x = 'log_top_perc', y = 'log_G', mec = 'None', ax = ax)\n",
    "df_.plot(marker = '.', x = 'log_top_perc', y = 'model', mec = 'None', ax = ax)\n",
    "ax.set_xlim(0, 5)\n",
    "plt.show()"
   ]
  },
  {
   "cell_type": "code",
   "execution_count": 231,
   "metadata": {},
   "outputs": [
    {
     "data": {
      "text/plain": [
       "(array([  1.30000000e+04,  -3.20000000e-01]), array([[ inf,  inf],\n",
       "        [ inf,  inf]]))"
      ]
     },
     "execution_count": 231,
     "metadata": {},
     "output_type": "execute_result"
    }
   ],
   "source": [
    "from scipy import optimize\n",
    "\n",
    "df_sample = df_#.sample(20)\n",
    "\n",
    "# optimize.curve_fit(func_2, df_sample['log_top_perc'], df_sample['P47T'], p0=(13000, -0.32, 100, -0.1))\n",
    "optimize.curve_fit(func, df_sample['log_top_perc'], df_sample['log_G'], p0=(13000, -0.32))\n"
   ]
  },
  {
   "cell_type": "code",
   "execution_count": 227,
   "metadata": {},
   "outputs": [],
   "source": [
    "def func(x, A, a):\n",
    "    return np.log10(A * np.power(x, a)*(1 - x))\n",
    "#     return A * np.power(x, a)*(1 - x)\n",
    "\n",
    "def func_2(x, A, a, B, b):\n",
    "#     return np.log10((A * np.power(x, a) + B * np.power(x, b))*(1 - x))\n",
    "    return (A * np.power(x, a) + B * np.power(x, b))*(1 - x)"
   ]
  },
  {
   "cell_type": "code",
   "execution_count": 187,
   "metadata": {},
   "outputs": [
    {
     "data": {
      "image/png": "[encoded data removed]",
      "text/plain": [
       "<matplotlib.figure.Figure at 0x7f4b7576bfd0>"
      ]
     },
     "metadata": {},
     "output_type": "display_data"
    }
   ],
   "source": [
    "# population distribution\n",
    "\n",
    "plt.figure(figsize = (15, 8))\n",
    "# plt.hist((hogar['ITF']/hogar['IX_TOT']).values, 60)\n",
    "plt.hist((df_['P47T']).values, 100)\n",
    "plt.yscale('log')\n",
    "# plt.xscale('log')\n",
    "plt.show()"
   ]
  },
  {
   "cell_type": "code",
   "execution_count": 9,
   "metadata": {},
   "outputs": [],
   "source": [
    "import warnings\n",
    "warnings.filterwarnings('ignore')"
   ]
  },
  {
   "cell_type": "code",
   "execution_count": 175,
   "metadata": {},
   "outputs": [
    {
     "data": {
      "text/plain": [
       "bins\n",
       "(1.841, 1.995]          140.0\n",
       "(1.995, 2.146]         1220.0\n",
       "(2.146, 2.296]         1456.0\n",
       "(2.296, 2.446]         2650.0\n",
       "(2.446, 2.596]         3900.0\n",
       "(2.596, 2.747]        30530.0\n",
       "(2.747, 2.897]       169300.0\n",
       "(2.897, 3.047]       439078.0\n",
       "(3.047, 3.198]       536490.0\n",
       "(3.198, 3.348]      1162908.0\n",
       "(3.348, 3.498]      2473513.0\n",
       "(3.498, 3.648]      4469437.0\n",
       "(3.648, 3.799]     13817621.0\n",
       "(3.799, 3.949]     33580101.0\n",
       "(3.949, 4.099]     55529173.0\n",
       "(4.099, 4.25]      62569607.0\n",
       "(4.25, 4.4]       105129899.0\n",
       "(4.4, 4.55]        78100760.0\n",
       "(4.55, 4.7]        58463992.0\n",
       "(4.7, 4.851]       26727692.0\n",
       "(4.851, 5.001]     13623350.0\n",
       "(5.001, 5.151]      5330500.0\n",
       "(5.151, 5.302]      3576000.0\n",
       "(5.302, 5.452]      1283900.0\n",
       "(5.452, 5.602]      1084750.0\n",
       "Name: P47T, dtype: float64"
      ]
     },
     "execution_count": 175,
     "metadata": {},
     "output_type": "execute_result"
    }
   ],
   "source": [
    "df_['bins'] = pd.cut(df_['log_G'], 25)\n",
    "df_.groupby('bins')['P47T'].sum()\n"
   ]
  },
  {
   "cell_type": "code",
   "execution_count": 173,
   "metadata": {},
   "outputs": [
    {
     "data": {
      "text/plain": [
       "<matplotlib.axes._subplots.AxesSubplot at 0x7f4b6747aed0>"
      ]
     },
     "execution_count": 173,
     "metadata": {},
     "output_type": "execute_result"
    },
    {
     "data": {
      "image/png": "[encoded data removed]",
      "text/plain": [
       "<matplotlib.figure.Figure at 0x7f4b64a26bd0>"
      ]
     },
     "metadata": {},
     "output_type": "display_data"
    }
   ],
   "source": [
    "df_.groupby('bins')['P47T'].sum().plot(marker = 'o')\n",
    "df_['model_summable'] = np.power(10, df_['model'])\n",
    "df_.groupby('bins')['model_summable'].sum().plot(marker = 'o')"
   ]
  },
  {
   "cell_type": "code",
   "execution_count": 182,
   "metadata": {
    "collapsed": true
   },
   "outputs": [
    {
     "data": {
      "text/html": [
       "<div>\n",
       "<style scoped>\n",
       "    .dataframe tbody tr th:only-of-type {\n",
       "        vertical-align: middle;\n",
       "    }\n",
       "\n",
       "    .dataframe tbody tr th {\n",
       "        vertical-align: top;\n",
       "    }\n",
       "\n",
       "    .dataframe thead th {\n",
       "        text-align: right;\n",
       "    }\n",
       "</style>\n",
       "<table border=\"1\" class=\"dataframe\">\n",
       "  <thead>\n",
       "    <tr style=\"text-align: right;\">\n",
       "      <th></th>\n",
       "      <th>log_G</th>\n",
       "      <th>model</th>\n",
       "    </tr>\n",
       "  </thead>\n",
       "  <tbody>\n",
       "    <tr>\n",
       "      <th>0</th>\n",
       "      <td>2.0</td>\n",
       "      <td>4.749579</td>\n",
       "    </tr>\n",
       "    <tr>\n",
       "      <th>1</th>\n",
       "      <td>2.1</td>\n",
       "      <td>4.782480</td>\n",
       "    </tr>\n",
       "    <tr>\n",
       "      <th>2</th>\n",
       "      <td>2.2</td>\n",
       "      <td>4.815194</td>\n",
       "    </tr>\n",
       "    <tr>\n",
       "      <th>3</th>\n",
       "      <td>2.3</td>\n",
       "      <td>4.847761</td>\n",
       "    </tr>\n",
       "    <tr>\n",
       "      <th>4</th>\n",
       "      <td>2.4</td>\n",
       "      <td>4.880211</td>\n",
       "    </tr>\n",
       "    <tr>\n",
       "      <th>5</th>\n",
       "      <td>2.5</td>\n",
       "      <td>4.912568</td>\n",
       "    </tr>\n",
       "    <tr>\n",
       "      <th>6</th>\n",
       "      <td>2.6</td>\n",
       "      <td>4.944851</td>\n",
       "    </tr>\n",
       "    <tr>\n",
       "      <th>7</th>\n",
       "      <td>2.7</td>\n",
       "      <td>4.977076</td>\n",
       "    </tr>\n",
       "    <tr>\n",
       "      <th>8</th>\n",
       "      <td>2.8</td>\n",
       "      <td>5.009254</td>\n",
       "    </tr>\n",
       "    <tr>\n",
       "      <th>9</th>\n",
       "      <td>2.9</td>\n",
       "      <td>5.041396</td>\n",
       "    </tr>\n",
       "    <tr>\n",
       "      <th>10</th>\n",
       "      <td>3.0</td>\n",
       "      <td>5.073509</td>\n",
       "    </tr>\n",
       "    <tr>\n",
       "      <th>11</th>\n",
       "      <td>3.1</td>\n",
       "      <td>5.105598</td>\n",
       "    </tr>\n",
       "    <tr>\n",
       "      <th>12</th>\n",
       "      <td>3.2</td>\n",
       "      <td>5.137669</td>\n",
       "    </tr>\n",
       "    <tr>\n",
       "      <th>13</th>\n",
       "      <td>3.3</td>\n",
       "      <td>5.169726</td>\n",
       "    </tr>\n",
       "    <tr>\n",
       "      <th>14</th>\n",
       "      <td>3.4</td>\n",
       "      <td>5.201770</td>\n",
       "    </tr>\n",
       "    <tr>\n",
       "      <th>15</th>\n",
       "      <td>3.5</td>\n",
       "      <td>5.233806</td>\n",
       "    </tr>\n",
       "    <tr>\n",
       "      <th>16</th>\n",
       "      <td>3.6</td>\n",
       "      <td>5.265834</td>\n",
       "    </tr>\n",
       "    <tr>\n",
       "      <th>17</th>\n",
       "      <td>3.7</td>\n",
       "      <td>5.297857</td>\n",
       "    </tr>\n",
       "    <tr>\n",
       "      <th>18</th>\n",
       "      <td>3.8</td>\n",
       "      <td>5.329875</td>\n",
       "    </tr>\n",
       "    <tr>\n",
       "      <th>19</th>\n",
       "      <td>3.9</td>\n",
       "      <td>5.361889</td>\n",
       "    </tr>\n",
       "    <tr>\n",
       "      <th>20</th>\n",
       "      <td>4.0</td>\n",
       "      <td>5.393900</td>\n",
       "    </tr>\n",
       "    <tr>\n",
       "      <th>21</th>\n",
       "      <td>4.1</td>\n",
       "      <td>5.425909</td>\n",
       "    </tr>\n",
       "    <tr>\n",
       "      <th>22</th>\n",
       "      <td>4.2</td>\n",
       "      <td>5.457916</td>\n",
       "    </tr>\n",
       "    <tr>\n",
       "      <th>23</th>\n",
       "      <td>4.3</td>\n",
       "      <td>5.489922</td>\n",
       "    </tr>\n",
       "    <tr>\n",
       "      <th>24</th>\n",
       "      <td>4.4</td>\n",
       "      <td>5.521926</td>\n",
       "    </tr>\n",
       "    <tr>\n",
       "      <th>25</th>\n",
       "      <td>4.5</td>\n",
       "      <td>5.553930</td>\n",
       "    </tr>\n",
       "    <tr>\n",
       "      <th>26</th>\n",
       "      <td>4.6</td>\n",
       "      <td>5.585932</td>\n",
       "    </tr>\n",
       "    <tr>\n",
       "      <th>27</th>\n",
       "      <td>4.7</td>\n",
       "      <td>5.617935</td>\n",
       "    </tr>\n",
       "    <tr>\n",
       "      <th>28</th>\n",
       "      <td>4.8</td>\n",
       "      <td>5.649936</td>\n",
       "    </tr>\n",
       "    <tr>\n",
       "      <th>29</th>\n",
       "      <td>4.9</td>\n",
       "      <td>5.681938</td>\n",
       "    </tr>\n",
       "    <tr>\n",
       "      <th>30</th>\n",
       "      <td>5.0</td>\n",
       "      <td>5.713939</td>\n",
       "    </tr>\n",
       "    <tr>\n",
       "      <th>31</th>\n",
       "      <td>5.1</td>\n",
       "      <td>5.745940</td>\n",
       "    </tr>\n",
       "    <tr>\n",
       "      <th>32</th>\n",
       "      <td>5.2</td>\n",
       "      <td>5.777941</td>\n",
       "    </tr>\n",
       "    <tr>\n",
       "      <th>33</th>\n",
       "      <td>5.3</td>\n",
       "      <td>5.809941</td>\n",
       "    </tr>\n",
       "    <tr>\n",
       "      <th>34</th>\n",
       "      <td>5.4</td>\n",
       "      <td>5.841942</td>\n",
       "    </tr>\n",
       "    <tr>\n",
       "      <th>35</th>\n",
       "      <td>5.5</td>\n",
       "      <td>5.873942</td>\n",
       "    </tr>\n",
       "    <tr>\n",
       "      <th>36</th>\n",
       "      <td>5.6</td>\n",
       "      <td>5.905942</td>\n",
       "    </tr>\n",
       "    <tr>\n",
       "      <th>37</th>\n",
       "      <td>5.7</td>\n",
       "      <td>5.937942</td>\n",
       "    </tr>\n",
       "    <tr>\n",
       "      <th>38</th>\n",
       "      <td>5.8</td>\n",
       "      <td>5.969943</td>\n",
       "    </tr>\n",
       "    <tr>\n",
       "      <th>39</th>\n",
       "      <td>5.9</td>\n",
       "      <td>6.001943</td>\n",
       "    </tr>\n",
       "    <tr>\n",
       "      <th>40</th>\n",
       "      <td>6.0</td>\n",
       "      <td>6.033943</td>\n",
       "    </tr>\n",
       "    <tr>\n",
       "      <th>41</th>\n",
       "      <td>6.1</td>\n",
       "      <td>6.065943</td>\n",
       "    </tr>\n",
       "    <tr>\n",
       "      <th>42</th>\n",
       "      <td>6.2</td>\n",
       "      <td>6.097943</td>\n",
       "    </tr>\n",
       "    <tr>\n",
       "      <th>43</th>\n",
       "      <td>6.3</td>\n",
       "      <td>6.129943</td>\n",
       "    </tr>\n",
       "    <tr>\n",
       "      <th>44</th>\n",
       "      <td>6.4</td>\n",
       "      <td>6.161943</td>\n",
       "    </tr>\n",
       "    <tr>\n",
       "      <th>45</th>\n",
       "      <td>6.5</td>\n",
       "      <td>6.193943</td>\n",
       "    </tr>\n",
       "    <tr>\n",
       "      <th>46</th>\n",
       "      <td>6.6</td>\n",
       "      <td>6.225943</td>\n",
       "    </tr>\n",
       "    <tr>\n",
       "      <th>47</th>\n",
       "      <td>6.7</td>\n",
       "      <td>6.257943</td>\n",
       "    </tr>\n",
       "    <tr>\n",
       "      <th>48</th>\n",
       "      <td>6.8</td>\n",
       "      <td>6.289943</td>\n",
       "    </tr>\n",
       "    <tr>\n",
       "      <th>49</th>\n",
       "      <td>6.9</td>\n",
       "      <td>6.321943</td>\n",
       "    </tr>\n",
       "  </tbody>\n",
       "</table>\n",
       "</div>"
      ],
      "text/plain": [
       "    log_G     model\n",
       "0     2.0  4.749579\n",
       "1     2.1  4.782480\n",
       "2     2.2  4.815194\n",
       "3     2.3  4.847761\n",
       "4     2.4  4.880211\n",
       "5     2.5  4.912568\n",
       "6     2.6  4.944851\n",
       "7     2.7  4.977076\n",
       "8     2.8  5.009254\n",
       "9     2.9  5.041396\n",
       "10    3.0  5.073509\n",
       "11    3.1  5.105598\n",
       "12    3.2  5.137669\n",
       "13    3.3  5.169726\n",
       "14    3.4  5.201770\n",
       "15    3.5  5.233806\n",
       "16    3.6  5.265834\n",
       "17    3.7  5.297857\n",
       "18    3.8  5.329875\n",
       "19    3.9  5.361889\n",
       "20    4.0  5.393900\n",
       "21    4.1  5.425909\n",
       "22    4.2  5.457916\n",
       "23    4.3  5.489922\n",
       "24    4.4  5.521926\n",
       "25    4.5  5.553930\n",
       "26    4.6  5.585932\n",
       "27    4.7  5.617935\n",
       "28    4.8  5.649936\n",
       "29    4.9  5.681938\n",
       "30    5.0  5.713939\n",
       "31    5.1  5.745940\n",
       "32    5.2  5.777941\n",
       "33    5.3  5.809941\n",
       "34    5.4  5.841942\n",
       "35    5.5  5.873942\n",
       "36    5.6  5.905942\n",
       "37    5.7  5.937942\n",
       "38    5.8  5.969943\n",
       "39    5.9  6.001943\n",
       "40    6.0  6.033943\n",
       "41    6.1  6.065943\n",
       "42    6.2  6.097943\n",
       "43    6.3  6.129943\n",
       "44    6.4  6.161943\n",
       "45    6.5  6.193943\n",
       "46    6.6  6.225943\n",
       "47    6.7  6.257943\n",
       "48    6.8  6.289943\n",
       "49    6.9  6.321943"
      ]
     },
     "execution_count": 182,
     "metadata": {},
     "output_type": "execute_result"
    }
   ],
   "source": [
    "# full distribution based on model\n",
    "dg = pd.DataFrame(np.arange(2, 7, .1), columns = ['log_G'])\n",
    "P = np.power(10, -dg['log_G'])\n",
    "dg['model'] = np.log10((A * np.power(P, a) + B * np.power(P, b))*(1 - P))\n",
    "dg"
   ]
  },
  {
   "cell_type": "code",
   "execution_count": null,
   "metadata": {
    "collapsed": true
   },
   "outputs": [],
   "source": []
  }
 ],
 "metadata": {
  "kernelspec": {
   "display_name": "Python 2",
   "language": "python",
   "name": "python2"
  },
  "language_info": {
   "codemirror_mode": {
    "name": "ipython",
    "version": 2
   },
   "file_extension": ".py",
   "mimetype": "text/x-python",
   "name": "python",
   "nbconvert_exporter": "python",
   "pygments_lexer": "ipython2",
   "version": "2.7.15"
  }
 },
 "nbformat": 4,
 "nbformat_minor": 2
}
