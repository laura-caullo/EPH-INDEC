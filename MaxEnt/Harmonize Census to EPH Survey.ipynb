{
 "cells": [
  {
   "cell_type": "code",
   "execution_count": 1,
   "metadata": {
    "collapsed": true
   },
   "outputs": [],
   "source": [
    "import pandas as pd\n",
    "import numpy as np"
   ]
  },
  {
   "cell_type": "markdown",
   "metadata": {},
   "source": [
    "## EPH survey data"
   ]
  },
  {
   "cell_type": "code",
   "execution_count": 19,
   "metadata": {
    "collapsed": false
   },
   "outputs": [],
   "source": [
    "df = pd.read_csv('./../resumen_EPH_hogar.csv')\n",
    "df = df.loc[df.IV1 != 9]\n",
    "df['IV10'] = df['IV10'].map({1: 1, 2: 2, 3: 2, 0: 0, 9: 9})\n",
    "df['II9'] = df['II9'].map({1: 1, 2: 2, 3: 2, 4: 4, 0: 0})\n",
    "df['II7'] = df['II7'].map({1: 1, 2: 2, 3: 3, 4: 4, 5: 5, 6: 6, 7: 6, 8: 6, 9: 6, 0: 0})\n",
    "df['IX_TOT'] = df['IX_TOT'].clip(0, 8)\n"
   ]
  },
  {
   "cell_type": "code",
   "execution_count": 4,
   "metadata": {
    "collapsed": false
   },
   "outputs": [],
   "source": [
    "# df.groupby(['AGLOMERADO']).nunique()"
   ]
  },
  {
   "cell_type": "code",
   "execution_count": 3,
   "metadata": {
    "collapsed": false
   },
   "outputs": [],
   "source": [
    "# for col in df.iloc[:, 2:].columns:\n",
    "#     print col\n",
    "#     print sorted(df[col].unique())"
   ]
  },
  {
   "cell_type": "markdown",
   "metadata": {},
   "source": [
    "## 2010 ARG Census data"
   ]
  },
  {
   "cell_type": "code",
   "execution_count": 3,
   "metadata": {
    "collapsed": true
   },
   "outputs": [],
   "source": [
    "path = './../../Datos_censo/Preguntas/'\n",
    "\n",
    "VIVIENDA_V01 = pd.read_csv(path + 'VIVIENDA-V01.csv', encoding = 'latin-1')\n",
    "HOGAR_H05 = pd.read_csv(path + 'HOGAR-H05.csv', encoding = 'latin-1') # Pisos\n",
    "HOGAR_H06 = pd.read_csv(path + 'HOGAR-H06.csv', encoding = 'latin-1') # Cubierta techos\n",
    "HOGAR_H07 = pd.read_csv(path + 'HOGAR-H07.csv', encoding = 'latin-1') # Cielorraso\n",
    "HOGAR_H08 = pd.read_csv(path + 'HOGAR-H08.csv', encoding = 'latin-1') # Agua\n",
    "HOGAR_H09 = pd.read_csv(path + 'HOGAR-H09.csv', encoding = 'latin-1') # Procedencia agua\n",
    "HOGAR_H10 = pd.read_csv(path + 'HOGAR-H10.csv', encoding = 'latin-1') # Tiene baño\n",
    "HOGAR_H11 = pd.read_csv(path + 'HOGAR-H11.csv', encoding = 'latin-1') # Baño con cadena\n",
    "HOGAR_H12 = pd.read_csv(path + 'HOGAR-H12.csv', encoding = 'latin-1') # Desague baño\n",
    "HOGAR_H13 = pd.read_csv(path + 'HOGAR-H13.csv', encoding = 'latin-1') # Baño uso exclusivo\n",
    "HOGAR_H14 = pd.read_csv(path + 'HOGAR-H14.csv', encoding = 'latin-1') # Combustible cocina\n",
    "HOGAR_PROP = pd.read_csv(path + 'HOGAR-PROP.csv', encoding = 'latin-1') # Regimen tenencia\n",
    "HOGAR_TOTPERS = pd.read_csv(path + 'HOGAR-TOTPERS.csv', encoding = 'latin-1') # Personas en hogar\n",
    "\n",
    "df_list = [VIVIENDA_V01, HOGAR_H05, HOGAR_H06, HOGAR_H07, HOGAR_H08, HOGAR_H09, \n",
    "          HOGAR_H10, HOGAR_H11, HOGAR_H12, HOGAR_H13, HOGAR_H14, HOGAR_PROP, HOGAR_TOTPERS]"
   ]
  },
  {
   "cell_type": "markdown",
   "metadata": {},
   "source": [
    "## Harmonise variables (let valid answers match exactly in both datasets)"
   ]
  },
  {
   "cell_type": "code",
   "execution_count": 4,
   "metadata": {
    "collapsed": false
   },
   "outputs": [],
   "source": [
    "\n",
    "VIVIENDA_V01['2 Departamento'] = VIVIENDA_V01['4 Departamento']\n",
    "VIVIENDA_V01['3 Pieza de inquilinato'] = VIVIENDA_V01['5 Pieza en inquilinato']\n",
    "VIVIENDA_V01[u'4 Pieza en hotel / pensión'] = VIVIENDA_V01[u'6 Pieza en hotel familiar o pensión']\n",
    "VIVIENDA_V01[u'5 Local no construido para habitación'] = VIVIENDA_V01[u'7 Local no construido para habitación']\n",
    "VIVIENDA_V01['6 Otros'] = VIVIENDA_V01['2 Rancho'] + VIVIENDA_V01['3 Casilla'] + VIVIENDA_V01[u'8 Vivienda móvil'] + VIVIENDA_V01['9 Persona/s viviendo en la calle']\n",
    "\n",
    "IV1_censo = VIVIENDA_V01[['radio', '1 Casa', '2 Departamento', '3 Pieza de inquilinato', u'4 Pieza en hotel / pensión',\n",
    "                         u'5 Local no construido para habitación', '6 Otros', 'TOTAL']]\n",
    "IV3_censo = HOGAR_H05\n",
    "IV3_censo.columns = ['radio', '1 Mosaico / baldosa / madera / cerámica / alfombra', \n",
    "                    '2 Cemento / ladrillo fijo', '3 Ladrillo suelto / tierra', '4 Otro', 'TOTAL']\n",
    "\n",
    "IV4_censo = HOGAR_H06\n",
    "IV4_censo.columns = ['radio', '1 Membrana / cubierta asfáltica', '2 Baldosa / losa sin cubierta', '3 Pizarra / teja', \n",
    "                     '4 Chapa de metal sin cubierta', '5 Chapa de fibrocemento / plástico', '6 Chapa de cartón', \n",
    "                     '7 Caña / tabla / paja con barro / paja sola', '9 N/S. Depto en propiedad horizontal', 'TOTAL']\n",
    "\n",
    "IV5_censo = HOGAR_H07\n",
    "IV6_censo = HOGAR_H08\n",
    "IV7_censo = HOGAR_H09\n",
    "IV7_censo['4 Otra fuente'] = HOGAR_H09['4 Pozo'] + HOGAR_H09['5 Transporte por cisterna'] + \\\n",
    " HOGAR_H09[u'6 Agua de lluvia, río, canal, arroyo o acequia']\n",
    "IV7_censo = IV7_censo[[u'radio', u'1 Red pública', u'2 Perforación con bomba a motor',\n",
    "                      u'3 Perforación con bomba manual', u'4 Otra fuente', u'TOTAL']]\n",
    "\n",
    "IV8_censo = HOGAR_H10\n",
    "IV10_censo = HOGAR_H11\n",
    "IV11_censo = HOGAR_H12\n",
    "II9_censo = HOGAR_H13\n",
    "\n",
    "II8_censo = HOGAR_H14\n",
    "II8_censo['2 Gas de tubo / garrafa'] = HOGAR_H14['3 Gas en tubo'] + HOGAR_H14['4 Gas en garrafa']\n",
    "II8_censo[u'3 Kerosene / leña/ carbón'] = HOGAR_H14[u'6 Leña o carbón']\n",
    "II8_censo['4 Otro'] = HOGAR_H14[u'2 Gas a granel (zeppelin)'] + HOGAR_H14[u'5 Electricidad'] + HOGAR_H14[u'7 Otro']\n",
    "\n",
    "II8_censo = II8_censo[['radio', '1 Gas de red', '2 Gas de tubo / garrafa', u'3 Kerosene / leña/ carbón', '4 Otro', 'TOTAL']]\n",
    "\n",
    "II7_censo = HOGAR_PROP\n",
    "\n",
    "IX_TOT_censo = HOGAR_TOTPERS"
   ]
  },
  {
   "cell_type": "markdown",
   "metadata": {},
   "source": [
    "## Intento Max Ent\n",
    "\n",
    "#### Margins"
   ]
  },
  {
   "cell_type": "code",
   "execution_count": 551,
   "metadata": {
    "collapsed": false
   },
   "outputs": [
    {
     "data": {
      "text/plain": [
       "1 Sí     0.723948\n",
       "2 No     0.276052\n",
       "TOTAL    1.000000\n",
       "dtype: float64"
      ]
     },
     "execution_count": 551,
     "metadata": {},
     "output_type": "execute_result"
    }
   ],
   "source": [
    "# From whole country data, we can only have margins. Same for a given district or precint.\n",
    "\n",
    "tot_viviendas = 12171675.\n",
    "IV5_censo.iloc[:, 1:].sum()/tot_viviendas"
   ]
  },
  {
   "cell_type": "code",
   "execution_count": 214,
   "metadata": {
    "collapsed": false
   },
   "outputs": [
    {
     "data": {
      "text/plain": [
       "1 Mosaico / baldosa / madera / cerámica / alfombra    0.765829\n",
       "2 Cemento / ladrillo fijo                             0.202845\n",
       "3 Ladrillo suelto / tierra                            0.025842\n",
       "4 Otro                                                0.005484\n",
       "TOTAL                                                 1.000000\n",
       "dtype: float64"
      ]
     },
     "execution_count": 214,
     "metadata": {},
     "output_type": "execute_result"
    }
   ],
   "source": [
    "IV3_censo.iloc[:, 1:].sum()/tot_viviendas"
   ]
  },
  {
   "cell_type": "code",
   "execution_count": 231,
   "metadata": {
    "collapsed": false
   },
   "outputs": [
    {
     "data": {
      "text/plain": [
       "1 Por cañeria dentro de la vivienda               0.885473\n",
       "2 Fuera de la vivienda pero dentro del terreno    0.092493\n",
       "3 Fuera del terreno                               0.022033\n",
       "TOTAL                                             1.000000\n",
       "dtype: float64"
      ]
     },
     "execution_count": 231,
     "metadata": {},
     "output_type": "execute_result"
    }
   ],
   "source": [
    "IV6_censo.iloc[:, 1:].sum()/tot_viviendas"
   ]
  },
  {
   "cell_type": "markdown",
   "metadata": {},
   "source": [
    "#### Prior probabilities (matrix entries) from survey info"
   ]
  },
  {
   "cell_type": "code",
   "execution_count": 603,
   "metadata": {
    "collapsed": false
   },
   "outputs": [],
   "source": [
    "qjkl = df.groupby(['IV4', 'IV3', 'IV6'])[['CODUSU']].nunique() # how many IDs with each combination\n",
    "qjkl /= qjkl.sum()\n",
    "\n",
    "q_ix = pd.MultiIndex.from_product(qjkl.index.levels, names=qjkl.index.names)\n",
    "qjkl = qjkl.reindex(q_ix, fill_value = 0)\n",
    "\n",
    "qjkl = qjkl.unstack([2, 1]).sort_index(axis = 1)\n",
    "\n",
    "info_dfs = [IV4_censo, IV6_censo, IV3_censo]\n",
    "T = len(info_dfs)\n",
    "\n",
    "margins_s = []\n",
    "margins_v = []\n",
    "shape_ = np.zeros(T, dtype = int)\n",
    "\n",
    "for t in range(T):\n",
    "    margin_series = (info_dfs[t].iloc[:, 1:-1].sum()/info_dfs[t].TOTAL.sum())\n",
    "    margins_s += [margin_series]\n",
    "    margins_v += [margin_series.values]\n",
    "    shape_[t] = len(margin_series)\n",
    "    \n",
    "a, b, c = tuple([m.values for m in margins_s])\n",
    "df_ = pd.DataFrame(np.prod(np.ix_(a, b, c)).reshape(qjkl.values.shape), \n",
    "                  columns = qjkl.columns, index = qjkl.index)\n",
    "uncorr_fill_p = df_\n",
    "\n",
    "uncorr_fill_q = df_ * (qjkl == 0).astype(int)\n",
    "qjkl = (1 - uncorr_fill_q.sum().sum())*qjkl + uncorr_fill_q"
   ]
  },
  {
   "cell_type": "code",
   "execution_count": 554,
   "metadata": {
    "collapsed": false
   },
   "outputs": [],
   "source": [
    "l = np.prod(shape_)\n",
    "cube = np.arange(l).reshape(shape_)\n",
    "# cube[:, 2, :].flatten()"
   ]
  },
  {
   "cell_type": "code",
   "execution_count": 431,
   "metadata": {
    "collapsed": false
   },
   "outputs": [],
   "source": [
    "for t in range(T):\n",
    "    cube_tr = cube.transpose(tuple(np.roll(np.arange(T), - (t))))"
   ]
  },
  {
   "cell_type": "code",
   "execution_count": 163,
   "metadata": {
    "collapsed": false
   },
   "outputs": [
    {
     "data": {
      "text/plain": [
       "array([ 3,  7, 11, 15, 19, 23, 27, 31, 35, 39, 43, 47, 51, 55, 59, 63, 67,\n",
       "       71, 75, 79, 83, 87, 91, 95])"
      ]
     },
     "execution_count": 163,
     "metadata": {},
     "output_type": "execute_result"
    }
   ],
   "source": [
    "slic.flatten()"
   ]
  },
  {
   "cell_type": "code",
   "execution_count": 432,
   "metadata": {
    "collapsed": false
   },
   "outputs": [],
   "source": [
    "p_0 = q_mat.flatten()"
   ]
  },
  {
   "cell_type": "code",
   "execution_count": 263,
   "metadata": {
    "collapsed": false
   },
   "outputs": [
    {
     "name": "stdout",
     "output_type": "stream",
     "text": [
      "<function f at 0x7f4ad8de5ed8>\n",
      "<function f at 0x7f4ad8de5c80>\n",
      "<function f at 0x7f4ad8de5b90>\n",
      "<function f at 0x7f4ad8de5c08>\n",
      "<function f at 0x7f4ad8de5f50>\n",
      "<function f at 0x7f4ae006f5f0>\n",
      "<function f at 0x7f4ae006f578>\n",
      "<function f at 0x7f4ae006f6e0>\n",
      "<function f at 0x7f4ae006f668>\n",
      "<function f at 0x7f4ae006f320>\n",
      "<function f at 0x7f4ae006f500>\n",
      "<function f at 0x7f4ae006faa0>\n",
      "<function f at 0x7f4ae006f398>\n",
      "<function f at 0x7f4ae006f2a8>\n",
      "<function f at 0x7f4ae006f488>\n"
     ]
    }
   ],
   "source": [
    "constraints = []\n",
    "for dim in range(T):\n",
    "    cube_tr = cube.transpose(tuple(np.roll(np.arange(T), - (dim))))\n",
    "    ix = cube_tr[i].flatten()\n",
    "    for j in range(shape_[dim]):\n",
    "        ix = cube_tr[j].flatten()\n",
    "        marcond = margins[dim][j]\n",
    "        def f(p, ix = ix):\n",
    "            return p[ix].sum() - marcond\n",
    "        \n",
    "        \n",
    "#     for j in shape_[dim]: # j in (0, J), k in (0, K), etc.\n",
    "#         def f(p, dim = dim):\n",
    "#             return p_mat.sum(axis = tuple([t for t in range(len(shape)) if t != dim])) - margins[dim].values\n",
    "        constraints.append(f)\n",
    "cons = [{'type':'eq', 'fun': con} for con in constraints]"
   ]
  },
  {
   "cell_type": "code",
   "execution_count": 433,
   "metadata": {
    "collapsed": true
   },
   "outputs": [
    {
     "name": "stdout",
     "output_type": "stream",
     "text": [
      "1\n"
     ]
    },
    {
     "name": "stderr",
     "output_type": "stream",
     "text": [
      "/home/miglesia/anaconda2/lib/python2.7/site-packages/IPython/kernel/__main__.py:18: RuntimeWarning: invalid value encountered in log\n"
     ]
    },
    {
     "data": {
      "text/plain": [
       "array([[[  2.39420239e-01,   1.25704273e-02,   8.12146613e-04,\n",
       "           5.53879338e-04],\n",
       "        [  3.18155942e-03,   4.09274079e-03,   2.21958013e-04,\n",
       "           3.79529481e-04],\n",
       "        [  2.70973492e-04,   6.74479942e-05,   4.70843956e-04,\n",
       "           9.60623093e-05]],\n",
       "\n",
       "       [[  1.88981967e-01,   1.97959212e-02,   3.48031954e-04,\n",
       "           3.07030977e-04],\n",
       "        [  5.75843454e-03,   9.38602774e-03,   4.78377923e-04,\n",
       "           6.33436412e-04],\n",
       "        [  2.57279000e-04,   1.32994602e-03,   8.48609324e-05,\n",
       "           1.78678788e-04]],\n",
       "\n",
       "       [[  6.33243338e-02,   1.80699211e-03,   6.28310010e-05,\n",
       "           1.15463593e-04],\n",
       "        [  3.12105169e-04,   5.50747703e-04,   8.33212021e-04,\n",
       "           1.69962807e-04],\n",
       "        [  7.85391094e-03,   1.02622849e-03,   3.06232807e-04,\n",
       "           6.57841655e-05]],\n",
       "\n",
       "       [[  2.22934582e-01,   5.10439201e-02,   7.60562970e-04,\n",
       "           4.50599532e-04],\n",
       "        [  1.08009894e-02,   4.14838298e-02,   3.33316007e-03,\n",
       "           1.61128830e-04],\n",
       "        [  1.74682511e-03,   2.97705920e-03,   5.59264467e-04,\n",
       "           2.13755221e-04]],\n",
       "\n",
       "       [[  9.06928192e-03,   1.90755795e-03,   4.55523818e-05,\n",
       "           2.04476350e-04],\n",
       "        [  1.06217180e-03,   1.63390906e-03,   6.93505351e-04,\n",
       "           5.40635678e-05],\n",
       "        [  6.90754143e-05,   1.68612189e-04,   1.76411550e-04,\n",
       "           5.87420397e-05]],\n",
       "\n",
       "       [[  4.49092755e-04,   4.82039246e-04,   7.41949502e-05,\n",
       "           2.30322389e-05],\n",
       "        [  1.27247077e-04,   9.58546982e-04,   8.61780671e-04,\n",
       "           5.54206998e-05],\n",
       "        [  7.87862859e-04,   1.52268002e-04,   2.16374488e-04,\n",
       "           9.97706525e-06]],\n",
       "\n",
       "       [[  2.78626911e-03,   2.24774193e-03,   1.63035918e-04,\n",
       "           2.96207886e-05],\n",
       "        [  4.58815303e-04,   1.71522362e-03,   1.08540557e-03,\n",
       "           5.71513172e-05],\n",
       "        [  1.17095148e-03,   3.23351418e-04,   1.79047125e-04,\n",
       "           1.16822358e-05]],\n",
       "\n",
       "       [[  6.38634226e-02,   4.35916620e-04,   1.49968216e-05,\n",
       "           3.88285461e-04],\n",
       "        [  1.47591093e-03,   3.55506822e-04,   8.61886761e-05,\n",
       "           3.51384325e-05],\n",
       "        [  8.98144744e-04,   2.25512865e-04,   7.70517362e-05,\n",
       "           3.15035354e-06]]])"
      ]
     },
     "execution_count": 433,
     "metadata": {},
     "output_type": "execute_result"
    }
   ],
   "source": [
    "# M_0 = np.array([[1, 0.1], [0.1, 1]])\n",
    "\n",
    "cube_tr = cube.transpose(tuple(np.roll(np.arange(T), - (dim))))\n",
    "# ix = cube_tr[i].flatten()\n",
    "    \n",
    "print dim\n",
    "constraints = []\n",
    "for j in range(shape_[dim]):\n",
    "    marconds = margins_v[dim]\n",
    "    def f(p, cube_tr = cube_tr, marg = marg, j = j):\n",
    "        return p[cube_tr[j].flatten()].sum() - marconds[j]\n",
    "    constraints.append(f)\n",
    "    \n",
    "cons = [{'type':'eq', 'fun': con} for con in constraints]\n",
    "\n",
    "def MaxEnt(p_mat, q_mat = q_mat):\n",
    "    p_mat = np.array(p_mat).reshape(q_mat.shape)\n",
    "    return (p_mat*np.log(p_mat/q_mat)).sum()\n",
    "    \n",
    "res = minimize(lambda M: MaxEnt(M), q_mat, constraints = cons)\n",
    "res['x'].reshape(q_mat.shape)"
   ]
  },
  {
   "cell_type": "code",
   "execution_count": 379,
   "metadata": {
    "collapsed": false
   },
   "outputs": [
    {
     "data": {
      "text/plain": [
       "array([ 3,  7, 11, 15, 19, 23, 27, 31, 35, 39, 43, 47, 51, 55, 59, 63, 67,\n",
       "       71, 75, 79, 83, 87, 91, 95])"
      ]
     },
     "execution_count": 379,
     "metadata": {},
     "output_type": "execute_result"
    }
   ],
   "source": [
    "ix\n",
    "cube_tr[j].flatten()"
   ]
  },
  {
   "cell_type": "code",
   "execution_count": 393,
   "metadata": {
    "collapsed": false
   },
   "outputs": [
    {
     "data": {
      "text/plain": [
       "array([[ 0,  1,  2,  3],\n",
       "       [ 4,  5,  6,  7],\n",
       "       [ 8,  9, 10, 11],\n",
       "       [12, 13, 14, 15],\n",
       "       [16, 17, 18, 19],\n",
       "       [20, 21, 22, 23],\n",
       "       [24, 25, 26, 27],\n",
       "       [28, 29, 30, 31]])"
      ]
     },
     "execution_count": 393,
     "metadata": {},
     "output_type": "execute_result"
    }
   ],
   "source": [
    "np.arange(32).reshape(8, 4)"
   ]
  },
  {
   "cell_type": "code",
   "execution_count": 507,
   "metadata": {
    "collapsed": false
   },
   "outputs": [
    {
     "data": {
      "text/plain": [
       "array([[  2.65412417e-01,   1.28106749e-02,   8.10802208e-04,\n",
       "          7.07609200e-04],\n",
       "       [  8.55027783e-04,   1.12038123e-03,   5.89674333e-05,\n",
       "          9.09375621e-05],\n",
       "       [  4.42255750e-05,   1.47418583e-05,   1.02083567e-04,\n",
       "          2.16627937e-05]])"
      ]
     },
     "execution_count": 507,
     "metadata": {},
     "output_type": "execute_result"
    }
   ],
   "source": [
    "q_mat[0]"
   ]
  },
  {
   "cell_type": "code",
   "execution_count": 525,
   "metadata": {
    "collapsed": false
   },
   "outputs": [
    {
     "name": "stdout",
     "output_type": "stream",
     "text": [
      "(3, 4, 8)\n",
      "[ 0.88547345  0.09249319  0.02203337]\n",
      "0\n",
      "1\n",
      "2\n",
      "(4, 8, 3)\n",
      "[ 0.76582935  0.20284505  0.0258418   0.0054838 ]\n",
      "0\n",
      "1\n",
      "2\n",
      "3\n",
      "0.0352245665055\n"
     ]
    },
    {
     "name": "stderr",
     "output_type": "stream",
     "text": [
      "/home/miglesia/anaconda2/lib/python2.7/site-packages/IPython/kernel/__main__.py:26: RuntimeWarning: invalid value encountered in log\n"
     ]
    }
   ],
   "source": [
    "M_0 = q_mat + 0.01\n",
    "\n",
    "constraints = []\n",
    "\n",
    "shape_ = M_0.shape\n",
    "l = np.prod(shape_)\n",
    "cube = np.arange(l).reshape(shape_)\n",
    "\n",
    "for dim in range(1, T):\n",
    "    cube_tr = cube.transpose(tuple(np.roll(np.arange(T), - (dim)))) \n",
    "    print cube_tr.shape\n",
    "    marg = margins_v[dim]\n",
    "    print marg\n",
    "\n",
    "    for j in range(shape_[dim]):\n",
    "        print j\n",
    "        def f(M, cube_tr = cube_tr, marg = marg, j = j):\n",
    "            return M[cube_tr[j]].sum() - marg[j]\n",
    "\n",
    "        constraints.append(f)\n",
    "    \n",
    "cons = [{'type':'eq', 'fun': con} for con in constraints]\n",
    "\n",
    "def MaxEnt(p_mat, q_mat = M_0):\n",
    "    p_mat = np.array(p_mat).reshape(q_mat.shape)\n",
    "    return (p_mat*np.log(p_mat/q_mat)).sum()\n",
    "    \n",
    "res = minimize(lambda M: MaxEnt(M), M_0, constraints = cons)\n",
    "# res['x'].reshape(M_0.shape)\n",
    "print res['x'][cube_tr[j]].sum() - marg[j]"
   ]
  },
  {
   "cell_type": "code",
   "execution_count": 540,
   "metadata": {
    "collapsed": false
   },
   "outputs": [],
   "source": []
  },
  {
   "cell_type": "code",
   "execution_count": 594,
   "metadata": {
    "collapsed": false
   },
   "outputs": [
    {
     "name": "stdout",
     "output_type": "stream",
     "text": [
      "(2, 3, 4)\n",
      "[ 0.72394753  0.27605247]\n",
      "(3, 4, 2)\n",
      "[ 0.88547345  0.09249319  0.02203337]\n",
      "(4, 2, 3)\n",
      "[ 0.76582935  0.20284505  0.0258418   0.0054838 ]\n"
     ]
    },
    {
     "data": {
      "text/plain": [
       "array([ 0.82082022,  0.06215215,  0.01100549,  0.01201097,  0.01344527,\n",
       "        0.01433246,  0.01017744,  0.01002957,  0.01026616,  0.01023658,\n",
       "        0.0104122 ,  0.01008747,  0.07256187,  0.0550546 ,  0.01125686,\n",
       "        0.01031052,  0.01241021,  0.02064631,  0.01162652,  0.01005915,\n",
       "        0.01016265,  0.01068018,  0.0102218 ,  0.01003335])"
      ]
     },
     "execution_count": 594,
     "metadata": {},
     "output_type": "execute_result"
    }
   ],
   "source": [
    "M_0 = qjkl['CODUSU'].values + 0.01\n",
    "\n",
    "cons = []\n",
    "\n",
    "shape_ = (2, 3, 4)\n",
    "l = np.prod(shape_)\n",
    "cube = np.arange(l).reshape(shape_)\n",
    "for dim in [0, 1, 2]:\n",
    "    cube_tr = cube.transpose(tuple(np.roll(np.arange(T), - (dim)))) \n",
    "    print cube_tr.shape\n",
    "    marg = margins_v[dim]\n",
    "    print marg\n",
    "    \n",
    "    def cons_j(M, j):\n",
    "        return M[cube_tr[j]].sum() - marg[j]\n",
    "    \n",
    "    cons_per_j = [{'type':'eq', 'fun': lambda M, j=j: cons_j(M, j)} for j in np.arange(shape_[dim])]\n",
    "\n",
    "#     for j in range(shape_[dim]):\n",
    "#         print j\n",
    "#         def f(M, cube_tr = cube_tr, marg = marg, j = j):\n",
    "#             return M[cube_tr[j]].sum() - marg[j]\n",
    "\n",
    "    cons += cons_per_j\n",
    "        \n",
    "def f_norm(M, cube_tr = cube_tr, marg = marg, j = j):\n",
    "            return M[cube_tr[j]].sum() - marg[j]\n",
    "    \n",
    "# cons = [{'type':'eq', 'fun': con} for con in constraints]\n",
    "\n",
    "def MaxEnt(p, q = M_0.flatten()):\n",
    "#     p_mat = np.array(p_mat).reshape(q_mat.shape)\n",
    "    return (p*np.log(p/q)).sum()\n",
    "    \n",
    "res = minimize(lambda M: MaxEnt(M), M_0, constraints = cons)\n",
    "res['x']\n"
   ]
  },
  {
   "cell_type": "code",
   "execution_count": 595,
   "metadata": {
    "collapsed": false
   },
   "outputs": [
    {
     "name": "stdout",
     "output_type": "stream",
     "text": [
      "[ 0.99497598  0.24502402]\n",
      "[ 1.05517268  0.10272692  0.0821004 ]\n",
      "[ 0.93966638  0.17310229  0.0647003   0.06253103]\n"
     ]
    }
   ],
   "source": [
    "print res['x'].reshape(2, 3, 4).sum(axis = (1,2))\n",
    "print res['x'].reshape(2, 3, 4).sum(axis = (0,2))\n",
    "print res['x'].reshape(2, 3, 4).sum(axis = (0,1))"
   ]
  },
  {
   "cell_type": "code",
   "execution_count": 596,
   "metadata": {
    "collapsed": false
   },
   "outputs": [
    {
     "name": "stdout",
     "output_type": "stream",
     "text": [
      "[array([ 0.72394753,  0.27605247]), array([ 0.88547345,  0.09249319,  0.02203337]), array([ 0.76582935,  0.20284505,  0.0258418 ,  0.0054838 ])]\n"
     ]
    }
   ],
   "source": [
    "print [margins_v[dim] for dim in range(T)]"
   ]
  },
  {
   "cell_type": "code",
   "execution_count": 597,
   "metadata": {
    "collapsed": false
   },
   "outputs": [
    {
     "name": "stdout",
     "output_type": "stream",
     "text": [
      "(2, 4)\n",
      "[ 0.72394753  0.27605247]\n",
      "(4, 2)\n",
      "[ 0.76582935  0.20284505  0.0258418   0.0054838 ]\n"
     ]
    },
    {
     "data": {
      "text/plain": [
       "array([[ 0.821,  0.062,  0.011,  0.012],\n",
       "       [ 0.073,  0.055,  0.011,  0.01 ]])"
      ]
     },
     "execution_count": 597,
     "metadata": {},
     "output_type": "execute_result"
    }
   ],
   "source": [
    "M_0 = qjkl['CODUSU'][1].values + 0.01\n",
    "\n",
    "constraints = []\n",
    "\n",
    "shape_ = M_0.shape\n",
    "l = np.prod(shape_)\n",
    "cube = np.arange(l).reshape(shape_)\n",
    "for dim in [0, 1]:\n",
    "    cube_tr = cube.transpose(tuple(np.roll(np.arange(2), - (dim)))) \n",
    "    print cube_tr.shape\n",
    "    if dim == 0:\n",
    "        marg = margins_v[0]\n",
    "    elif dim == 1:\n",
    "        marg = margins_v[2]\n",
    "\n",
    "    print marg\n",
    "    for j in range(shape_[dim]):\n",
    "        def f(M, cube_tr = cube_tr, marg = marg, j = j):\n",
    "            return M[cube_tr[j]].sum() - marg[j]\n",
    "\n",
    "        constraints.append(f)\n",
    "    \n",
    "cons = [{'type':'eq', 'fun': con} for con in constraints]\n",
    "\n",
    "def MaxEnt(p, q = M_0.flatten()):\n",
    "#     p_mat = np.array(p_mat).reshape(q_mat.shape)\n",
    "    return (p*np.log(p/q)).sum()\n",
    "    \n",
    "res = minimize(lambda M: MaxEnt(M), M_0, constraints = cons)\n",
    "res['x'].round(3).reshape(M_0.shape)"
   ]
  },
  {
   "cell_type": "code",
   "execution_count": 588,
   "metadata": {
    "collapsed": false
   },
   "outputs": [
    {
     "data": {
      "text/plain": [
       "[{'fun': <function __main__.f>, 'type': 'eq'},\n",
       " {'fun': <function __main__.f>, 'type': 'eq'},\n",
       " {'fun': <function __main__.f>, 'type': 'eq'},\n",
       " {'fun': <function __main__.f>, 'type': 'eq'},\n",
       " {'fun': <function __main__.f>, 'type': 'eq'},\n",
       " {'fun': <function __main__.f>, 'type': 'eq'}]"
      ]
     },
     "execution_count": 588,
     "metadata": {},
     "output_type": "execute_result"
    }
   ],
   "source": [
    "cons"
   ]
  },
  {
   "cell_type": "code",
   "execution_count": 592,
   "metadata": {
    "collapsed": false
   },
   "outputs": [
    {
     "data": {
      "text/plain": [
       "[{'fun': <function __main__.<lambda>>, 'type': 'eq'},\n",
       " {'fun': <function __main__.<lambda>>, 'type': 'eq'},\n",
       " {'fun': <function __main__.<lambda>>, 'type': 'eq'},\n",
       " {'fun': <function __main__.<lambda>>, 'type': 'eq'},\n",
       " {'fun': <function __main__.<lambda>>, 'type': 'eq'},\n",
       " {'fun': <function __main__.<lambda>>, 'type': 'eq'},\n",
       " {'fun': <function __main__.<lambda>>, 'type': 'eq'},\n",
       " {'fun': <function __main__.<lambda>>, 'type': 'eq'},\n",
       " {'fun': <function __main__.<lambda>>, 'type': 'eq'}]"
      ]
     },
     "execution_count": 592,
     "metadata": {},
     "output_type": "execute_result"
    }
   ],
   "source": [
    "constraints"
   ]
  },
  {
   "cell_type": "code",
   "execution_count": 560,
   "metadata": {
    "collapsed": false
   },
   "outputs": [
    {
     "data": {
      "text/plain": [
       "0    0.893382\n",
       "1    0.117207\n",
       "2    0.022262\n",
       "3    0.022321\n",
       "dtype: float64"
      ]
     },
     "execution_count": 560,
     "metadata": {},
     "output_type": "execute_result"
    }
   ],
   "source": [
    "pd.DataFrame(res['x'].reshape(2, 4)).sum(axis = 0)"
   ]
  },
  {
   "cell_type": "code",
   "execution_count": 561,
   "metadata": {
    "collapsed": false
   },
   "outputs": [
    {
     "data": {
      "text/plain": [
       "0    0.905989\n",
       "1    0.149184\n",
       "dtype: float64"
      ]
     },
     "execution_count": 561,
     "metadata": {},
     "output_type": "execute_result"
    }
   ],
   "source": [
    "pd.DataFrame(res['x'].reshape(2, 4)).sum(axis = 1)"
   ]
  },
  {
   "cell_type": "code",
   "execution_count": 566,
   "metadata": {
    "collapsed": false
   },
   "outputs": [
    {
     "data": {
      "text/plain": [
       "array([ 0.82082022,  0.06215215,  0.01100549,  0.01201097,  0.07256187,\n",
       "        0.0550546 ,  0.01125686,  0.01031052])"
      ]
     },
     "execution_count": 566,
     "metadata": {},
     "output_type": "execute_result"
    }
   ],
   "source": [
    "res['x']"
   ]
  },
  {
   "cell_type": "code",
   "execution_count": 569,
   "metadata": {
    "collapsed": false
   },
   "outputs": [],
   "source": [
    "result_p = pd.DataFrame(res['x'].reshape(2, 4))#, columns=qjkl.columns, index = qjkl.index)\n",
    "result_p/= result_p.sum().sum()"
   ]
  },
  {
   "cell_type": "code",
   "execution_count": 570,
   "metadata": {
    "collapsed": false
   },
   "outputs": [
    {
     "data": {
      "text/html": [
       "<div>\n",
       "<style scoped>\n",
       "    .dataframe tbody tr th:only-of-type {\n",
       "        vertical-align: middle;\n",
       "    }\n",
       "\n",
       "    .dataframe tbody tr th {\n",
       "        vertical-align: top;\n",
       "    }\n",
       "\n",
       "    .dataframe thead tr th {\n",
       "        text-align: left;\n",
       "    }\n",
       "\n",
       "    .dataframe thead tr:last-of-type th {\n",
       "        text-align: right;\n",
       "    }\n",
       "</style>\n",
       "<table border=\"1\" class=\"dataframe\">\n",
       "  <thead>\n",
       "    <tr>\n",
       "      <th></th>\n",
       "      <th colspan=\"12\" halign=\"left\">CODUSU</th>\n",
       "    </tr>\n",
       "    <tr>\n",
       "      <th>IV6</th>\n",
       "      <th colspan=\"4\" halign=\"left\">1</th>\n",
       "      <th colspan=\"4\" halign=\"left\">2</th>\n",
       "      <th colspan=\"4\" halign=\"left\">3</th>\n",
       "    </tr>\n",
       "    <tr>\n",
       "      <th>IV3</th>\n",
       "      <th>1</th>\n",
       "      <th>2</th>\n",
       "      <th>3</th>\n",
       "      <th>4</th>\n",
       "      <th>1</th>\n",
       "      <th>2</th>\n",
       "      <th>3</th>\n",
       "      <th>4</th>\n",
       "      <th>1</th>\n",
       "      <th>2</th>\n",
       "      <th>3</th>\n",
       "      <th>4</th>\n",
       "    </tr>\n",
       "    <tr>\n",
       "      <th>IV5</th>\n",
       "      <th></th>\n",
       "      <th></th>\n",
       "      <th></th>\n",
       "      <th></th>\n",
       "      <th></th>\n",
       "      <th></th>\n",
       "      <th></th>\n",
       "      <th></th>\n",
       "      <th></th>\n",
       "      <th></th>\n",
       "      <th></th>\n",
       "      <th></th>\n",
       "    </tr>\n",
       "  </thead>\n",
       "  <tbody>\n",
       "    <tr>\n",
       "      <th>1</th>\n",
       "      <td>0.810820</td>\n",
       "      <td>0.052152</td>\n",
       "      <td>0.001005</td>\n",
       "      <td>0.002011</td>\n",
       "      <td>0.003445</td>\n",
       "      <td>0.004332</td>\n",
       "      <td>0.000177</td>\n",
       "      <td>0.000030</td>\n",
       "      <td>0.000266</td>\n",
       "      <td>0.000237</td>\n",
       "      <td>0.000412</td>\n",
       "      <td>0.000087</td>\n",
       "    </tr>\n",
       "    <tr>\n",
       "      <th>2</th>\n",
       "      <td>0.062562</td>\n",
       "      <td>0.045055</td>\n",
       "      <td>0.001257</td>\n",
       "      <td>0.000311</td>\n",
       "      <td>0.002410</td>\n",
       "      <td>0.010646</td>\n",
       "      <td>0.001627</td>\n",
       "      <td>0.000059</td>\n",
       "      <td>0.000163</td>\n",
       "      <td>0.000680</td>\n",
       "      <td>0.000222</td>\n",
       "      <td>0.000033</td>\n",
       "    </tr>\n",
       "  </tbody>\n",
       "</table>\n",
       "</div>"
      ],
      "text/plain": [
       "       CODUSU                                                              \\\n",
       "IV6         1                                       2                       \n",
       "IV3         1         2         3         4         1         2         3   \n",
       "IV5                                                                         \n",
       "1    0.810820  0.052152  0.001005  0.002011  0.003445  0.004332  0.000177   \n",
       "2    0.062562  0.045055  0.001257  0.000311  0.002410  0.010646  0.001627   \n",
       "\n",
       "                                                       \n",
       "IV6                   3                                \n",
       "IV3         4         1         2         3         4  \n",
       "IV5                                                    \n",
       "1    0.000030  0.000266  0.000237  0.000412  0.000087  \n",
       "2    0.000059  0.000163  0.000680  0.000222  0.000033  "
      ]
     },
     "execution_count": 570,
     "metadata": {},
     "output_type": "execute_result"
    }
   ],
   "source": [
    "qjkl"
   ]
  },
  {
   "cell_type": "code",
   "execution_count": 573,
   "metadata": {
    "collapsed": false
   },
   "outputs": [
    {
     "data": {
      "text/html": [
       "<div>\n",
       "<style scoped>\n",
       "    .dataframe tbody tr th:only-of-type {\n",
       "        vertical-align: middle;\n",
       "    }\n",
       "\n",
       "    .dataframe tbody tr th {\n",
       "        vertical-align: top;\n",
       "    }\n",
       "\n",
       "    .dataframe thead th {\n",
       "        text-align: right;\n",
       "    }\n",
       "</style>\n",
       "<table border=\"1\" class=\"dataframe\">\n",
       "  <thead>\n",
       "    <tr style=\"text-align: right;\">\n",
       "      <th></th>\n",
       "      <th>0</th>\n",
       "      <th>1</th>\n",
       "      <th>2</th>\n",
       "      <th>3</th>\n",
       "    </tr>\n",
       "  </thead>\n",
       "  <tbody>\n",
       "    <tr>\n",
       "      <th>0</th>\n",
       "      <td>0.777901</td>\n",
       "      <td>0.058902</td>\n",
       "      <td>0.010430</td>\n",
       "      <td>0.011383</td>\n",
       "    </tr>\n",
       "    <tr>\n",
       "      <th>1</th>\n",
       "      <td>0.068768</td>\n",
       "      <td>0.052176</td>\n",
       "      <td>0.010668</td>\n",
       "      <td>0.009771</td>\n",
       "    </tr>\n",
       "  </tbody>\n",
       "</table>\n",
       "</div>"
      ],
      "text/plain": [
       "          0         1         2         3\n",
       "0  0.777901  0.058902  0.010430  0.011383\n",
       "1  0.068768  0.052176  0.010668  0.009771"
      ]
     },
     "execution_count": 573,
     "metadata": {},
     "output_type": "execute_result"
    }
   ],
   "source": [
    "result_p_st = result_p.stack().stack().reset_index()\n",
    "\n",
    "result_p_st.groupby('IV5')['CODUSU'].sum()"
   ]
  },
  {
   "cell_type": "code",
   "execution_count": 516,
   "metadata": {
    "collapsed": false
   },
   "outputs": [
    {
     "data": {
      "text/plain": [
       "IV3\n",
       "1    0.716227\n",
       "2    0.197093\n",
       "3    0.051049\n",
       "4    0.035632\n",
       "Name: CODUSU, dtype: float64"
      ]
     },
     "execution_count": 516,
     "metadata": {},
     "output_type": "execute_result"
    }
   ],
   "source": [
    "result_p_st.groupby('IV3')['CODUSU'].sum()"
   ]
  },
  {
   "cell_type": "code",
   "execution_count": 517,
   "metadata": {
    "collapsed": false
   },
   "outputs": [
    {
     "data": {
      "text/plain": [
       "IV6\n",
       "1    0.827886\n",
       "2    0.113528\n",
       "3    0.058586\n",
       "Name: CODUSU, dtype: float64"
      ]
     },
     "execution_count": 517,
     "metadata": {},
     "output_type": "execute_result"
    }
   ],
   "source": [
    "result_p_st.groupby('IV6')['CODUSU'].sum()"
   ]
  },
  {
   "cell_type": "code",
   "execution_count": 604,
   "metadata": {
    "collapsed": false
   },
   "outputs": [
    {
     "name": "stderr",
     "output_type": "stream",
     "text": [
      "/home/miglesia/anaconda2/lib/python2.7/site-packages/IPython/kernel/__main__.py:24: RuntimeWarning: invalid value encountered in log\n"
     ]
    },
    {
     "data": {
      "text/plain": [
       "array([[ 0.157,  0.011,  0.006,  0.006],\n",
       "       [ 0.249,  0.034,  0.011,  0.011],\n",
       "       [ 0.07 ,  0.009,  0.009,  0.009],\n",
       "       [ 0.274,  0.066,  0.011,  0.011],\n",
       "       [ 0.01 ,  0.005,  0.005,  0.005],\n",
       "       [ 0.002,  0.002,  0.002,  0.002],\n",
       "       [ 0.004,  0.004,  0.004,  0.004],\n",
       "       [ 0.007,  0.001,  0.001,  0.001]])"
      ]
     },
     "execution_count": 604,
     "metadata": {},
     "output_type": "execute_result"
    }
   ],
   "source": [
    "M_0 = qjkl['CODUSU'][1].round(2).values + 0.01\n",
    "marg = np.array([ 0.17928839,  0.30580031,  0.09560977,  0.3615159 ,  0.02412938,\n",
    "        0.00890009,  0.01495176,  0.0098044 ])\n",
    "ix = [[ 0,  1,  2,  3],\n",
    "       [ 4,  5,  6,  7],\n",
    "       [ 8,  9, 10, 11],\n",
    "       [12, 13, 14, 15],\n",
    "       [16, 17, 18, 19],\n",
    "       [20, 21, 22, 23],\n",
    "       [24, 25, 26, 27],\n",
    "       [28, 29, 30, 31]]\n",
    "\n",
    "constraints = []\n",
    "for j in range(8):\n",
    "    def f(M, ix = ix, marg = marg, j = j):\n",
    "        return M[ix[j]].sum() - marg[j]\n",
    "\n",
    "    constraints.append(f)\n",
    "    \n",
    "cons = [{'type':'eq', 'fun': con} for con in constraints]\n",
    "\n",
    "def MaxEnt(p_mat, q_mat = M_0):\n",
    "    p_mat = np.array(p_mat).reshape(q_mat.shape)\n",
    "    return (p_mat*np.log(p_mat/q_mat)).sum()\n",
    "    \n",
    "res = minimize(lambda M: MaxEnt(M), M_0, constraints = cons)\n",
    "res['x'].round(3).reshape(M_0.shape)"
   ]
  },
  {
   "cell_type": "code",
   "execution_count": 611,
   "metadata": {
    "collapsed": false
   },
   "outputs": [
    {
     "name": "stdout",
     "output_type": "stream",
     "text": [
      "[ 0.17928839  0.30580031  0.09560977  0.3615159   0.02412938  0.00890009\n",
      "  0.01495176  0.0098044 ]\n",
      "[ 0.77193675  0.13154095  0.04827543  0.04824687]\n"
     ]
    }
   ],
   "source": [
    "print res['x'].reshape(M_0.shape).sum(axis = 1)\n",
    "print res['x'].reshape(M_0.shape).sum(axis = 0)"
   ]
  },
  {
   "cell_type": "code",
   "execution_count": null,
   "metadata": {
    "collapsed": true
   },
   "outputs": [],
   "source": []
  },
  {
   "cell_type": "code",
   "execution_count": 605,
   "metadata": {
    "collapsed": false
   },
   "outputs": [
    {
     "data": {
      "text/plain": [
       "array([[ 0.27,  0.01,  0.  ,  0.  ],\n",
       "       [ 0.21,  0.02,  0.  ,  0.  ],\n",
       "       [ 0.07,  0.  ,  0.  ,  0.  ],\n",
       "       [ 0.24,  0.05,  0.  ,  0.  ],\n",
       "       [ 0.01,  0.  ,  0.  ,  0.  ],\n",
       "       [ 0.  ,  0.  ,  0.  ,  0.  ],\n",
       "       [ 0.  ,  0.  ,  0.  ,  0.  ],\n",
       "       [ 0.07,  0.  ,  0.  ,  0.  ]])"
      ]
     },
     "execution_count": 605,
     "metadata": {},
     "output_type": "execute_result"
    }
   ],
   "source": [
    "qjkl['CODUSU'][1].round(2).values"
   ]
  },
  {
   "cell_type": "code",
   "execution_count": 398,
   "metadata": {
    "collapsed": false
   },
   "outputs": [
    {
     "data": {
      "text/plain": [
       "array([ 0.18 ,  0.305,  0.097,  0.362,  0.025,  0.008,  0.016,  0.01 ])"
      ]
     },
     "execution_count": 398,
     "metadata": {},
     "output_type": "execute_result"
    }
   ],
   "source": [
    "np.array([[ 0.157,  0.011,  0.006,  0.006],\n",
    "       [ 0.249,  0.034,  0.011,  0.011],\n",
    "       [ 0.07 ,  0.009,  0.009,  0.009],\n",
    "       [ 0.274,  0.066,  0.011,  0.011],\n",
    "       [ 0.01 ,  0.005,  0.005,  0.005],\n",
    "       [ 0.002,  0.002,  0.002,  0.002],\n",
    "       [ 0.004,  0.004,  0.004,  0.004],\n",
    "       [ 0.007,  0.001,  0.001,  0.001]]).sum(axis  =1)\n",
    "\n",
    "([ 0.17928839,  0.30580031,  0.09560977,  0.3615159 ,  0.02412938,\n",
    "        0.00890009,  0.01495176,  0.0098044 ])"
   ]
  },
  {
   "cell_type": "code",
   "execution_count": 345,
   "metadata": {
    "collapsed": false
   },
   "outputs": [
    {
     "name": "stderr",
     "output_type": "stream",
     "text": [
      "/home/miglesia/anaconda2/lib/python2.7/site-packages/IPython/kernel/__main__.py:14: RuntimeWarning: invalid value encountered in log\n"
     ]
    },
    {
     "data": {
      "text/plain": [
       "array([[ 0.27,  0.03],\n",
       "       [ 0.06,  0.64]])"
      ]
     },
     "execution_count": 345,
     "metadata": {},
     "output_type": "execute_result"
    }
   ],
   "source": [
    "M_0 = np.array([[1, 0.1], [0.1, 1]])\n",
    "\n",
    "constraints = []\n",
    "for i in [0, 1]:\n",
    "    def f(M, ix = ix, marg = marg, i = i):\n",
    "        return M[ix[i]].sum() - marg[i]\n",
    "\n",
    "    constraints.append(f)\n",
    "    \n",
    "cons = [{'type':'eq', 'fun': con} for con in constraints]\n",
    "\n",
    "def MaxEnt(p_mat, q_mat = M_0):\n",
    "    p_mat = np.array(p_mat).reshape(q_mat.shape)\n",
    "    return (p_mat*np.log(p_mat/q_mat)).sum()\n",
    "    \n",
    "res = minimize(lambda M: MaxEnt(M), M_0, constraints = cons)\n",
    "res['x'].round(2).reshape(M_0.shape)"
   ]
  },
  {
   "cell_type": "code",
   "execution_count": 335,
   "metadata": {
    "collapsed": false
   },
   "outputs": [
    {
     "data": {
      "text/plain": [
       "array([[ 1. ,  0.1],\n",
       "       [ 0.1,  1. ]])"
      ]
     },
     "execution_count": 335,
     "metadata": {},
     "output_type": "execute_result"
    }
   ],
   "source": [
    "M_0"
   ]
  },
  {
   "cell_type": "code",
   "execution_count": 264,
   "metadata": {
    "collapsed": false
   },
   "outputs": [
    {
     "name": "stderr",
     "output_type": "stream",
     "text": [
      "/home/miglesia/anaconda2/lib/python2.7/site-packages/IPython/kernel/__main__.py:3: RuntimeWarning: invalid value encountered in log\n",
      "  app.launch_new_instance()\n"
     ]
    },
    {
     "data": {
      "text/plain": [
       "array([  2.09754849e-01,   1.28741285e-02,   1.25216252e-03,\n",
       "         8.53911549e-04,   5.57725191e-04,   7.59823300e-04,\n",
       "         3.85516512e-05,   2.85302347e-04,   6.78548664e-06,\n",
       "         5.80962004e-06,   4.78594649e-05,   5.65118931e-06,\n",
       "         1.62202731e-01,   1.52433604e-02,   1.24559200e-04,\n",
       "         2.27937691e-04,   4.46327927e-04,   7.14422172e-04,\n",
       "         5.14872019e-05,   1.05571447e-04,   2.52575476e-05,\n",
       "         1.32705092e-04,   1.40739768e-05,   5.80474848e-05,\n",
       "         6.39401203e-02,   3.17060616e-03,   1.79186862e-05,\n",
       "         1.00260016e-05,   2.08108399e-05,   1.17536930e-04,\n",
       "         2.37065770e-04,   7.33754460e-05,   1.95948894e-03,\n",
       "         7.26899000e-05,   9.95382222e-06,   6.51507140e-06,\n",
       "         1.90489370e-01,   4.81708429e-02,   7.24254893e-04,\n",
       "         2.27937691e-04,   4.02750006e-04,   6.41580750e-03,\n",
       "         4.20581685e-04,   5.20637281e-06,   3.40221122e-04,\n",
       "         4.71758458e-04,   7.01878927e-05,   2.28394137e-05,\n",
       "         7.25023228e-03,   2.37135810e-04,   3.41713276e-05,\n",
       "         1.12200487e-04,   4.93553428e-05,   3.34656681e-04,\n",
       "         9.87741044e-06,   1.12982315e-07,   6.91503698e-06,\n",
       "         1.36234539e-05,   1.12156924e-06,   4.21767194e-06,\n",
       "         7.13330360e-04,   3.30251253e-04,   1.62152907e-05,\n",
       "         9.11068224e-06,   2.12963351e-06,   2.87744205e-04,\n",
       "         1.48517297e-04,   4.23576092e-06,   1.49394184e-04,\n",
       "         2.35502498e-05,   1.16275615e-05,   7.32434589e-06,\n",
       "         3.27907366e-03,   3.53494404e-03,   2.51509768e-05,\n",
       "         7.46534438e-05,   1.00137581e-04,   4.13246018e-04,\n",
       "         6.06477961e-05,   1.40828058e-06,   2.38133347e-05,\n",
       "         4.47901870e-05,   4.78351542e-06,   3.45793090e-06,\n",
       "         5.84543665e-02,   6.42555685e-04,   2.06409826e-05,\n",
       "         8.99134016e-04,   6.30700233e-05,   1.14948178e-05,\n",
       "         1.02350789e-05,   2.52266706e-06,   1.76318491e-04,\n",
       "         2.28105150e-05,   7.57164048e-05,   2.13098088e-06])"
      ]
     },
     "execution_count": 264,
     "metadata": {},
     "output_type": "execute_result"
    }
   ],
   "source": [
    "from scipy.optimize import minimize\n",
    "p_0 = q_mat.flatten()\n",
    "res = minimize(lambda p: MaxEnt(p, q_mat), p_0, constraints = {'type':'eq', 'fun': f})\n",
    "res['x']"
   ]
  },
  {
   "cell_type": "code",
   "execution_count": 288,
   "metadata": {
    "collapsed": false
   },
   "outputs": [
    {
     "data": {
      "text/plain": [
       "0.0054837974231155533"
      ]
     },
     "execution_count": 288,
     "metadata": {},
     "output_type": "execute_result"
    }
   ],
   "source": [
    "# f(res['x'], ix = ix)\n",
    "marcond\n",
    "# res['x'][ix].sum()"
   ]
  },
  {
   "cell_type": "code",
   "execution_count": 437,
   "metadata": {
    "collapsed": false
   },
   "outputs": [
    {
     "data": {
      "text/plain": [
       "IV3\n",
       "1    0.827061\n",
       "2    0.156737\n",
       "3    0.011945\n",
       "4    0.004256\n",
       "Name: CODUSU, dtype: float64"
      ]
     },
     "execution_count": 437,
     "metadata": {},
     "output_type": "execute_result"
    }
   ],
   "source": [
    "pd.DataFrame(res['x'].reshape(8, 12), columns = qjkl.columns).stack().stack().reset_index().groupby('IV3')['CODUSU'].sum()"
   ]
  },
  {
   "cell_type": "code",
   "execution_count": 435,
   "metadata": {
    "collapsed": false
   },
   "outputs": [
    {
     "data": {
      "text/plain": [
       "1 Por cañeria dentro de la vivienda               0.885473\n",
       "2 Fuera de la vivienda pero dentro del terreno    0.092493\n",
       "3 Fuera del terreno                               0.022033\n",
       "dtype: float64"
      ]
     },
     "execution_count": 435,
     "metadata": {},
     "output_type": "execute_result"
    }
   ],
   "source": [
    "margins[dim]"
   ]
  },
  {
   "cell_type": "code",
   "execution_count": 438,
   "metadata": {
    "collapsed": false
   },
   "outputs": [
    {
     "data": {
      "text/html": [
       "<div>\n",
       "<style scoped>\n",
       "    .dataframe tbody tr th:only-of-type {\n",
       "        vertical-align: middle;\n",
       "    }\n",
       "\n",
       "    .dataframe tbody tr th {\n",
       "        vertical-align: top;\n",
       "    }\n",
       "\n",
       "    .dataframe thead tr th {\n",
       "        text-align: left;\n",
       "    }\n",
       "\n",
       "    .dataframe thead tr:last-of-type th {\n",
       "        text-align: right;\n",
       "    }\n",
       "</style>\n",
       "<table border=\"1\" class=\"dataframe\">\n",
       "  <thead>\n",
       "    <tr>\n",
       "      <th></th>\n",
       "      <th colspan=\"12\" halign=\"left\">CODUSU</th>\n",
       "    </tr>\n",
       "    <tr>\n",
       "      <th>IV6</th>\n",
       "      <th colspan=\"4\" halign=\"left\">1</th>\n",
       "      <th colspan=\"4\" halign=\"left\">2</th>\n",
       "      <th colspan=\"4\" halign=\"left\">3</th>\n",
       "    </tr>\n",
       "    <tr>\n",
       "      <th>IV3</th>\n",
       "      <th>1</th>\n",
       "      <th>2</th>\n",
       "      <th>3</th>\n",
       "      <th>4</th>\n",
       "      <th>1</th>\n",
       "      <th>2</th>\n",
       "      <th>3</th>\n",
       "      <th>4</th>\n",
       "      <th>1</th>\n",
       "      <th>2</th>\n",
       "      <th>3</th>\n",
       "      <th>4</th>\n",
       "    </tr>\n",
       "    <tr>\n",
       "      <th>IV4</th>\n",
       "      <th></th>\n",
       "      <th></th>\n",
       "      <th></th>\n",
       "      <th></th>\n",
       "      <th></th>\n",
       "      <th></th>\n",
       "      <th></th>\n",
       "      <th></th>\n",
       "      <th></th>\n",
       "      <th></th>\n",
       "      <th></th>\n",
       "      <th></th>\n",
       "    </tr>\n",
       "  </thead>\n",
       "  <tbody>\n",
       "    <tr>\n",
       "      <th>1</th>\n",
       "      <td>0.265412</td>\n",
       "      <td>0.012811</td>\n",
       "      <td>0.000811</td>\n",
       "      <td>0.000708</td>\n",
       "      <td>0.000855</td>\n",
       "      <td>0.001120</td>\n",
       "      <td>0.000059</td>\n",
       "      <td>0.000091</td>\n",
       "      <td>0.000044</td>\n",
       "      <td>0.000015</td>\n",
       "      <td>0.000102</td>\n",
       "      <td>0.000022</td>\n",
       "    </tr>\n",
       "    <tr>\n",
       "      <th>2</th>\n",
       "      <td>0.207639</td>\n",
       "      <td>0.021671</td>\n",
       "      <td>0.000295</td>\n",
       "      <td>0.000428</td>\n",
       "      <td>0.001459</td>\n",
       "      <td>0.002329</td>\n",
       "      <td>0.000133</td>\n",
       "      <td>0.000155</td>\n",
       "      <td>0.000059</td>\n",
       "      <td>0.000236</td>\n",
       "      <td>0.000015</td>\n",
       "      <td>0.000037</td>\n",
       "    </tr>\n",
       "    <tr>\n",
       "      <th>3</th>\n",
       "      <td>0.069758</td>\n",
       "      <td>0.002020</td>\n",
       "      <td>0.000074</td>\n",
       "      <td>0.000118</td>\n",
       "      <td>0.000074</td>\n",
       "      <td>0.000133</td>\n",
       "      <td>0.000229</td>\n",
       "      <td>0.000048</td>\n",
       "      <td>0.001613</td>\n",
       "      <td>0.000427</td>\n",
       "      <td>0.000054</td>\n",
       "      <td>0.000012</td>\n",
       "    </tr>\n",
       "    <tr>\n",
       "      <th>4</th>\n",
       "      <td>0.244096</td>\n",
       "      <td>0.054707</td>\n",
       "      <td>0.000737</td>\n",
       "      <td>0.000428</td>\n",
       "      <td>0.002742</td>\n",
       "      <td>0.010231</td>\n",
       "      <td>0.000899</td>\n",
       "      <td>0.000044</td>\n",
       "      <td>0.000310</td>\n",
       "      <td>0.000604</td>\n",
       "      <td>0.000103</td>\n",
       "      <td>0.000044</td>\n",
       "    </tr>\n",
       "    <tr>\n",
       "      <th>5</th>\n",
       "      <td>0.009862</td>\n",
       "      <td>0.002226</td>\n",
       "      <td>0.000059</td>\n",
       "      <td>0.000177</td>\n",
       "      <td>0.000221</td>\n",
       "      <td>0.000354</td>\n",
       "      <td>0.000177</td>\n",
       "      <td>0.000015</td>\n",
       "      <td>0.000015</td>\n",
       "      <td>0.000029</td>\n",
       "      <td>0.000029</td>\n",
       "      <td>0.000003</td>\n",
       "    </tr>\n",
       "    <tr>\n",
       "      <th>6</th>\n",
       "      <td>0.000516</td>\n",
       "      <td>0.000486</td>\n",
       "      <td>0.000088</td>\n",
       "      <td>0.000029</td>\n",
       "      <td>0.000029</td>\n",
       "      <td>0.000251</td>\n",
       "      <td>0.000206</td>\n",
       "      <td>0.000015</td>\n",
       "      <td>0.000150</td>\n",
       "      <td>0.000029</td>\n",
       "      <td>0.000044</td>\n",
       "      <td>0.000001</td>\n",
       "    </tr>\n",
       "    <tr>\n",
       "      <th>7</th>\n",
       "      <td>0.003096</td>\n",
       "      <td>0.002565</td>\n",
       "      <td>0.000177</td>\n",
       "      <td>0.000029</td>\n",
       "      <td>0.000118</td>\n",
       "      <td>0.000428</td>\n",
       "      <td>0.000324</td>\n",
       "      <td>0.000015</td>\n",
       "      <td>0.000252</td>\n",
       "      <td>0.000067</td>\n",
       "      <td>0.000029</td>\n",
       "      <td>0.000002</td>\n",
       "    </tr>\n",
       "    <tr>\n",
       "      <th>9</th>\n",
       "      <td>0.070363</td>\n",
       "      <td>0.000428</td>\n",
       "      <td>0.000015</td>\n",
       "      <td>0.000398</td>\n",
       "      <td>0.000339</td>\n",
       "      <td>0.000088</td>\n",
       "      <td>0.000023</td>\n",
       "      <td>0.000005</td>\n",
       "      <td>0.000165</td>\n",
       "      <td>0.000044</td>\n",
       "      <td>0.000006</td>\n",
       "      <td>0.000001</td>\n",
       "    </tr>\n",
       "  </tbody>\n",
       "</table>\n",
       "</div>"
      ],
      "text/plain": [
       "       CODUSU                                                              \\\n",
       "IV6         1                                       2                       \n",
       "IV3         1         2         3         4         1         2         3   \n",
       "IV4                                                                         \n",
       "1    0.265412  0.012811  0.000811  0.000708  0.000855  0.001120  0.000059   \n",
       "2    0.207639  0.021671  0.000295  0.000428  0.001459  0.002329  0.000133   \n",
       "3    0.069758  0.002020  0.000074  0.000118  0.000074  0.000133  0.000229   \n",
       "4    0.244096  0.054707  0.000737  0.000428  0.002742  0.010231  0.000899   \n",
       "5    0.009862  0.002226  0.000059  0.000177  0.000221  0.000354  0.000177   \n",
       "6    0.000516  0.000486  0.000088  0.000029  0.000029  0.000251  0.000206   \n",
       "7    0.003096  0.002565  0.000177  0.000029  0.000118  0.000428  0.000324   \n",
       "9    0.070363  0.000428  0.000015  0.000398  0.000339  0.000088  0.000023   \n",
       "\n",
       "                                                       \n",
       "IV6                   3                                \n",
       "IV3         4         1         2         3         4  \n",
       "IV4                                                    \n",
       "1    0.000091  0.000044  0.000015  0.000102  0.000022  \n",
       "2    0.000155  0.000059  0.000236  0.000015  0.000037  \n",
       "3    0.000048  0.001613  0.000427  0.000054  0.000012  \n",
       "4    0.000044  0.000310  0.000604  0.000103  0.000044  \n",
       "5    0.000015  0.000015  0.000029  0.000029  0.000003  \n",
       "6    0.000015  0.000150  0.000029  0.000044  0.000001  \n",
       "7    0.000015  0.000252  0.000067  0.000029  0.000002  \n",
       "9    0.000005  0.000165  0.000044  0.000006  0.000001  "
      ]
     },
     "execution_count": 438,
     "metadata": {},
     "output_type": "execute_result"
    }
   ],
   "source": [
    "qjkl"
   ]
  },
  {
   "cell_type": "code",
   "execution_count": 439,
   "metadata": {
    "collapsed": false
   },
   "outputs": [
    {
     "data": {
      "text/html": [
       "<div>\n",
       "<style scoped>\n",
       "    .dataframe tbody tr th:only-of-type {\n",
       "        vertical-align: middle;\n",
       "    }\n",
       "\n",
       "    .dataframe tbody tr th {\n",
       "        vertical-align: top;\n",
       "    }\n",
       "\n",
       "    .dataframe thead tr th {\n",
       "        text-align: left;\n",
       "    }\n",
       "</style>\n",
       "<table border=\"1\" class=\"dataframe\">\n",
       "  <thead>\n",
       "    <tr>\n",
       "      <th></th>\n",
       "      <th colspan=\"12\" halign=\"left\">CODUSU</th>\n",
       "    </tr>\n",
       "    <tr>\n",
       "      <th>IV6</th>\n",
       "      <th colspan=\"4\" halign=\"left\">1</th>\n",
       "      <th colspan=\"4\" halign=\"left\">2</th>\n",
       "      <th colspan=\"4\" halign=\"left\">3</th>\n",
       "    </tr>\n",
       "    <tr>\n",
       "      <th>IV3</th>\n",
       "      <th>1</th>\n",
       "      <th>2</th>\n",
       "      <th>3</th>\n",
       "      <th>4</th>\n",
       "      <th>1</th>\n",
       "      <th>2</th>\n",
       "      <th>3</th>\n",
       "      <th>4</th>\n",
       "      <th>1</th>\n",
       "      <th>2</th>\n",
       "      <th>3</th>\n",
       "      <th>4</th>\n",
       "    </tr>\n",
       "  </thead>\n",
       "  <tbody>\n",
       "    <tr>\n",
       "      <th>0</th>\n",
       "      <td>0.239420</td>\n",
       "      <td>0.012570</td>\n",
       "      <td>0.000812</td>\n",
       "      <td>0.000554</td>\n",
       "      <td>0.003182</td>\n",
       "      <td>0.004093</td>\n",
       "      <td>0.000222</td>\n",
       "      <td>0.000380</td>\n",
       "      <td>0.000271</td>\n",
       "      <td>0.000067</td>\n",
       "      <td>0.000471</td>\n",
       "      <td>0.000096</td>\n",
       "    </tr>\n",
       "    <tr>\n",
       "      <th>1</th>\n",
       "      <td>0.188982</td>\n",
       "      <td>0.019796</td>\n",
       "      <td>0.000348</td>\n",
       "      <td>0.000307</td>\n",
       "      <td>0.005758</td>\n",
       "      <td>0.009386</td>\n",
       "      <td>0.000478</td>\n",
       "      <td>0.000633</td>\n",
       "      <td>0.000257</td>\n",
       "      <td>0.001330</td>\n",
       "      <td>0.000085</td>\n",
       "      <td>0.000179</td>\n",
       "    </tr>\n",
       "    <tr>\n",
       "      <th>2</th>\n",
       "      <td>0.063324</td>\n",
       "      <td>0.001807</td>\n",
       "      <td>0.000063</td>\n",
       "      <td>0.000115</td>\n",
       "      <td>0.000312</td>\n",
       "      <td>0.000551</td>\n",
       "      <td>0.000833</td>\n",
       "      <td>0.000170</td>\n",
       "      <td>0.007854</td>\n",
       "      <td>0.001026</td>\n",
       "      <td>0.000306</td>\n",
       "      <td>0.000066</td>\n",
       "    </tr>\n",
       "    <tr>\n",
       "      <th>3</th>\n",
       "      <td>0.222935</td>\n",
       "      <td>0.051044</td>\n",
       "      <td>0.000761</td>\n",
       "      <td>0.000451</td>\n",
       "      <td>0.010801</td>\n",
       "      <td>0.041484</td>\n",
       "      <td>0.003333</td>\n",
       "      <td>0.000161</td>\n",
       "      <td>0.001747</td>\n",
       "      <td>0.002977</td>\n",
       "      <td>0.000559</td>\n",
       "      <td>0.000214</td>\n",
       "    </tr>\n",
       "    <tr>\n",
       "      <th>4</th>\n",
       "      <td>0.009069</td>\n",
       "      <td>0.001908</td>\n",
       "      <td>0.000046</td>\n",
       "      <td>0.000204</td>\n",
       "      <td>0.001062</td>\n",
       "      <td>0.001634</td>\n",
       "      <td>0.000694</td>\n",
       "      <td>0.000054</td>\n",
       "      <td>0.000069</td>\n",
       "      <td>0.000169</td>\n",
       "      <td>0.000176</td>\n",
       "      <td>0.000059</td>\n",
       "    </tr>\n",
       "    <tr>\n",
       "      <th>5</th>\n",
       "      <td>0.000449</td>\n",
       "      <td>0.000482</td>\n",
       "      <td>0.000074</td>\n",
       "      <td>0.000023</td>\n",
       "      <td>0.000127</td>\n",
       "      <td>0.000959</td>\n",
       "      <td>0.000862</td>\n",
       "      <td>0.000055</td>\n",
       "      <td>0.000788</td>\n",
       "      <td>0.000152</td>\n",
       "      <td>0.000216</td>\n",
       "      <td>0.000010</td>\n",
       "    </tr>\n",
       "    <tr>\n",
       "      <th>6</th>\n",
       "      <td>0.002786</td>\n",
       "      <td>0.002248</td>\n",
       "      <td>0.000163</td>\n",
       "      <td>0.000030</td>\n",
       "      <td>0.000459</td>\n",
       "      <td>0.001715</td>\n",
       "      <td>0.001085</td>\n",
       "      <td>0.000057</td>\n",
       "      <td>0.001171</td>\n",
       "      <td>0.000323</td>\n",
       "      <td>0.000179</td>\n",
       "      <td>0.000012</td>\n",
       "    </tr>\n",
       "    <tr>\n",
       "      <th>7</th>\n",
       "      <td>0.063863</td>\n",
       "      <td>0.000436</td>\n",
       "      <td>0.000015</td>\n",
       "      <td>0.000388</td>\n",
       "      <td>0.001476</td>\n",
       "      <td>0.000356</td>\n",
       "      <td>0.000086</td>\n",
       "      <td>0.000035</td>\n",
       "      <td>0.000898</td>\n",
       "      <td>0.000226</td>\n",
       "      <td>0.000077</td>\n",
       "      <td>0.000003</td>\n",
       "    </tr>\n",
       "  </tbody>\n",
       "</table>\n",
       "</div>"
      ],
      "text/plain": [
       "       CODUSU                                                              \\\n",
       "IV6         1                                       2                       \n",
       "IV3         1         2         3         4         1         2         3   \n",
       "0    0.239420  0.012570  0.000812  0.000554  0.003182  0.004093  0.000222   \n",
       "1    0.188982  0.019796  0.000348  0.000307  0.005758  0.009386  0.000478   \n",
       "2    0.063324  0.001807  0.000063  0.000115  0.000312  0.000551  0.000833   \n",
       "3    0.222935  0.051044  0.000761  0.000451  0.010801  0.041484  0.003333   \n",
       "4    0.009069  0.001908  0.000046  0.000204  0.001062  0.001634  0.000694   \n",
       "5    0.000449  0.000482  0.000074  0.000023  0.000127  0.000959  0.000862   \n",
       "6    0.002786  0.002248  0.000163  0.000030  0.000459  0.001715  0.001085   \n",
       "7    0.063863  0.000436  0.000015  0.000388  0.001476  0.000356  0.000086   \n",
       "\n",
       "                                                       \n",
       "IV6                   3                                \n",
       "IV3         4         1         2         3         4  \n",
       "0    0.000380  0.000271  0.000067  0.000471  0.000096  \n",
       "1    0.000633  0.000257  0.001330  0.000085  0.000179  \n",
       "2    0.000170  0.007854  0.001026  0.000306  0.000066  \n",
       "3    0.000161  0.001747  0.002977  0.000559  0.000214  \n",
       "4    0.000054  0.000069  0.000169  0.000176  0.000059  \n",
       "5    0.000055  0.000788  0.000152  0.000216  0.000010  \n",
       "6    0.000057  0.001171  0.000323  0.000179  0.000012  \n",
       "7    0.000035  0.000898  0.000226  0.000077  0.000003  "
      ]
     },
     "execution_count": 439,
     "metadata": {},
     "output_type": "execute_result"
    }
   ],
   "source": [
    "pd.DataFrame(res['x'].reshape(8, 12), columns = qjkl.columns)"
   ]
  },
  {
   "cell_type": "markdown",
   "metadata": {},
   "source": [
    "### Lagrangian function"
   ]
  },
  {
   "cell_type": "code",
   "execution_count": 427,
   "metadata": {
    "collapsed": false
   },
   "outputs": [],
   "source": [
    "# L(x0, q_mat, margins)"
   ]
  },
  {
   "cell_type": "code",
   "execution_count": 529,
   "metadata": {
    "collapsed": true
   },
   "outputs": [],
   "source": [
    "def L(x, q_mat, margins):\n",
    "    shape = np.array(q_mat.shape)\n",
    "    len_a = shape.sum()\n",
    "    p_mat = np.array(x[:-len_a]).reshape(shape)\n",
    "    a = np.array(x[-len_a:])\n",
    "    \n",
    "    if np.random.rand() < 0.0001:\n",
    "        print p_mat\n",
    "        print a\n",
    "\n",
    "    MaxEnt = (p_mat*np.log(p_mat/q_mat))\n",
    "    \n",
    "    a_ix = np.insert(shape.cumsum(), [0], 0)\n",
    "    \n",
    "    lambda_terms = np.zeros(len(shape))\n",
    "    for dim in range(len(shape)):\n",
    "        lambda_terms[dim] = np.dot(a[a_ix[dim]:a_ix[dim + 1]], \n",
    "                                   margins[dim].values - p_mat.sum(axis = tuple([i for i in range(len(shape)) if i != dim])))\n",
    "\n",
    "    return MaxEnt.sum() + lambda_terms.sum()"
   ]
  },
  {
   "cell_type": "code",
   "execution_count": null,
   "metadata": {
    "collapsed": true
   },
   "outputs": [],
   "source": [
    "margins[dim].values - p_mat.sum(axis = tuple([i for i in range(len(shape)) if i != dim]))"
   ]
  },
  {
   "cell_type": "code",
   "execution_count": 540,
   "metadata": {
    "collapsed": false
   },
   "outputs": [
    {
     "data": {
      "text/plain": [
       "array([ 0.05428839,  0.18080031, -0.02939023,  0.2365159 , -0.10087062,\n",
       "       -0.11609991, -0.11004824, -0.1151956 ])"
      ]
     },
     "execution_count": 540,
     "metadata": {},
     "output_type": "execute_result"
    }
   ],
   "source": [
    "margins[dim].values - p_mat.sum(axis = tuple([i for i in range(len(shape)) if i != dim]))"
   ]
  },
  {
   "cell_type": "code",
   "execution_count": 549,
   "metadata": {
    "collapsed": false
   },
   "outputs": [],
   "source": [
    "constraints = []\n",
    "for dim in range(len(shape)):\n",
    "    def f(p_mat, dim = dim):\n",
    "        return p_mat.sum(axis = tuple([t for t in range(len(shape)) if t != dim])) - margins[dim].values\n",
    "    constraints.append(f)"
   ]
  },
  {
   "cell_type": "code",
   "execution_count": 550,
   "metadata": {
    "collapsed": false
   },
   "outputs": [
    {
     "data": {
      "text/plain": [
       "[<function __main__.f>, <function __main__.f>, <function __main__.f>]"
      ]
     },
     "execution_count": 550,
     "metadata": {},
     "output_type": "execute_result"
    }
   ],
   "source": [
    "constraints"
   ]
  },
  {
   "cell_type": "code",
   "execution_count": 165,
   "metadata": {
    "collapsed": false
   },
   "outputs": [
    {
     "ename": "NameError",
     "evalue": "name 'x' is not defined",
     "output_type": "error",
     "traceback": [
      "\u001b[1;31m---------------------------------------------------------------------------\u001b[0m",
      "\u001b[1;31mNameError\u001b[0m                                 Traceback (most recent call last)",
      "\u001b[1;32m<ipython-input-165-9eecb1a3e3d0>\u001b[0m in \u001b[0;36m<module>\u001b[1;34m()\u001b[0m\n\u001b[0;32m      1\u001b[0m \u001b[0mshape\u001b[0m \u001b[1;33m=\u001b[0m \u001b[0mnp\u001b[0m\u001b[1;33m.\u001b[0m\u001b[0marray\u001b[0m\u001b[1;33m(\u001b[0m\u001b[0mq_mat\u001b[0m\u001b[1;33m.\u001b[0m\u001b[0mshape\u001b[0m\u001b[1;33m)\u001b[0m\u001b[1;33m\u001b[0m\u001b[0m\n\u001b[0;32m      2\u001b[0m \u001b[0mlen_a\u001b[0m \u001b[1;33m=\u001b[0m \u001b[0mshape\u001b[0m\u001b[1;33m.\u001b[0m\u001b[0msum\u001b[0m\u001b[1;33m(\u001b[0m\u001b[1;33m)\u001b[0m\u001b[1;33m\u001b[0m\u001b[0m\n\u001b[1;32m----> 3\u001b[1;33m \u001b[0mp_mat\u001b[0m \u001b[1;33m=\u001b[0m \u001b[0mnp\u001b[0m\u001b[1;33m.\u001b[0m\u001b[0marray\u001b[0m\u001b[1;33m(\u001b[0m\u001b[0mx\u001b[0m\u001b[1;33m[\u001b[0m\u001b[1;33m:\u001b[0m\u001b[1;33m-\u001b[0m\u001b[0mlen_a\u001b[0m\u001b[1;33m]\u001b[0m\u001b[1;33m)\u001b[0m\u001b[1;33m.\u001b[0m\u001b[0mreshape\u001b[0m\u001b[1;33m(\u001b[0m\u001b[0mshape\u001b[0m\u001b[1;33m)\u001b[0m\u001b[1;33m\u001b[0m\u001b[0m\n\u001b[0m\u001b[0;32m      4\u001b[0m \u001b[1;33m\u001b[0m\u001b[0m\n\u001b[0;32m      5\u001b[0m \u001b[1;32mdef\u001b[0m \u001b[0mMaxEnt\u001b[0m\u001b[1;33m(\u001b[0m\u001b[0mp_mat\u001b[0m\u001b[1;33m,\u001b[0m \u001b[0mq_mat\u001b[0m\u001b[1;33m)\u001b[0m\u001b[1;33m:\u001b[0m\u001b[1;33m\u001b[0m\u001b[0m\n",
      "\u001b[1;31mNameError\u001b[0m: name 'x' is not defined"
     ]
    }
   ],
   "source": [
    "shape = np.array(q_mat.shape)\n",
    "len_a = shape.sum()\n",
    "p_mat = np.array(x[:-len_a]).reshape(shape)\n",
    "    \n",
    "def MaxEnt(p_mat, q_mat):\n",
    "    p_mat = np.array(p_mat).reshape(q_mat.shape)\n",
    "    return (p_mat*np.log(p_mat/q_mat)).sum()"
   ]
  },
  {
   "cell_type": "code",
   "execution_count": 291,
   "metadata": {
    "collapsed": false
   },
   "outputs": [
    {
     "data": {
      "text/plain": [
       "[{'fun': <function __main__.f>, 'type': 'eq'}]"
      ]
     },
     "execution_count": 291,
     "metadata": {},
     "output_type": "execute_result"
    }
   ],
   "source": [
    "ix = cube_tr[i].flatten()\n",
    "\n",
    "def f(p, ix = ix):\n",
    "    return p[ix].sum() - .1\n",
    "\n",
    "con = [{'type':'eq', 'fun': f}]\n",
    "con"
   ]
  },
  {
   "cell_type": "code",
   "execution_count": 212,
   "metadata": {
    "collapsed": false
   },
   "outputs": [],
   "source": [
    "# def make_f(kwargs, k):\n",
    "#     def f():\n",
    "#         print(k, kwargs[k])\n",
    "#     return f\n",
    "\n",
    "# for i in [0, 1]:\n",
    "#     f = make_f(cube_tr[i].flatten(), cube.flatten())"
   ]
  },
  {
   "cell_type": "code",
   "execution_count": 183,
   "metadata": {
    "collapsed": true
   },
   "outputs": [],
   "source": [
    "constraints = []\n",
    "for i in [0, 1]:\n",
    "    def f(p_, shape = shape, i = i):\n",
    "#         p_mat = p_.reshape(shape)\n",
    "        \n",
    "        # There should be a translator of the indices from cube jkl to plain index.\n",
    "        # For each axis, fix the axis, then do a for loop in which the L (or J, K) equations are written as functions\n",
    "        # This should be done in paper first\n",
    "        \n",
    "#         return p_mat.sum(axis = tuple([t for t in range(len(shape)) if t != dim])) - margins[dim].values\n",
    "\n",
    "        return M[i] + M[3] - .5\n",
    "    constraints.append(f)\n",
    "    \n",
    "cons = [{'type':'eq', 'fun': con} for con in constraints]"
   ]
  },
  {
   "cell_type": "code",
   "execution_count": 328,
   "metadata": {
    "collapsed": true
   },
   "outputs": [],
   "source": [
    "ix = [[0, 2], [1, 3]]"
   ]
  },
  {
   "cell_type": "code",
   "execution_count": 330,
   "metadata": {
    "collapsed": false
   },
   "outputs": [
    {
     "data": {
      "text/plain": [
       "array([[ 0. ,  0.5],\n",
       "       [-0. ,  0.5]])"
      ]
     },
     "execution_count": 330,
     "metadata": {},
     "output_type": "execute_result"
    }
   ],
   "source": [
    "M_0 = np.array([[1, 0], [0, 1]])\n",
    "\n",
    "constraints = []\n",
    "for i in [0, 1]:\n",
    "    def f(M, i = i):\n",
    "#         return M[1] + M[3] - .5\n",
    "        return M[ix[i]].sum() - i\n",
    "\n",
    "    constraints.append(f)\n",
    "    \n",
    "cons = [{'type':'eq', 'fun': con} for con in constraints]\n",
    "\n",
    "def Test(M):\n",
    "    return (M**2).sum()\n",
    "    \n",
    "res = minimize(lambda M: Test(M), M_0, constraints = cons)\n",
    "res['x'].round(2).reshape(M_0.shape)"
   ]
  },
  {
   "cell_type": "code",
   "execution_count": null,
   "metadata": {
    "collapsed": true
   },
   "outputs": [],
   "source": []
  },
  {
   "cell_type": "code",
   "execution_count": 325,
   "metadata": {
    "collapsed": false
   },
   "outputs": [
    {
     "ename": "IndexError",
     "evalue": "list index out of range",
     "output_type": "error",
     "traceback": [
      "\u001b[1;31m---------------------------------------------------------------------------\u001b[0m",
      "\u001b[1;31mIndexError\u001b[0m                                Traceback (most recent call last)",
      "\u001b[1;32m<ipython-input-325-3018b658aaad>\u001b[0m in \u001b[0;36m<module>\u001b[1;34m()\u001b[0m\n\u001b[1;32m----> 1\u001b[1;33m \u001b[0mix\u001b[0m\u001b[1;33m[\u001b[0m\u001b[0mi\u001b[0m\u001b[1;33m]\u001b[0m\u001b[1;33m\u001b[0m\u001b[0m\n\u001b[0m\u001b[0;32m      2\u001b[0m \u001b[1;31m# M_0[ix[i]]\u001b[0m\u001b[1;33m\u001b[0m\u001b[1;33m\u001b[0m\u001b[0m\n",
      "\u001b[1;31mIndexError\u001b[0m: list index out of range"
     ]
    }
   ],
   "source": [
    "# ix[i]\n",
    "# M_0[ix[i]]\n"
   ]
  },
  {
   "cell_type": "code",
   "execution_count": 599,
   "metadata": {
    "collapsed": false
   },
   "outputs": [
    {
     "name": "stdout",
     "output_type": "stream",
     "text": [
      "Warning: Desired error not necessarily achieved due to precision loss.\n",
      "         Current function value: nan\n",
      "         Iterations: 1\n",
      "         Function evaluations: 10976\n",
      "         Gradient evaluations: 112\n"
     ]
    },
    {
     "name": "stderr",
     "output_type": "stream",
     "text": [
      "/home/miglesia/anaconda2/lib/python2.7/site-packages/IPython/kernel/__main__.py:8: OptimizeWarning: Unknown solver options: fatol, xatol, maxfev\n",
      "/home/miglesia/anaconda2/lib/python2.7/site-packages/IPython/kernel/__main__.py:7: RuntimeWarning: invalid value encountered in log\n"
     ]
    }
   ],
   "source": [
    "p_0 = uncorr_fill_p.values.reshape(shape)\n",
    "\n",
    "res = minimize(lambda p_mat: MaxEnt(p_mat, q_mat), p_0,# constraints = constraints,\n",
    "                   method='Nelder-Mead',\n",
    "                  options={'disp': True, \n",
    "                           'maxiter': 10000000, \n",
    "                           'xatol': 0.00001, \n",
    "                           'fatol': 0.00001, \n",
    "                           'maxfev': 1000000})"
   ]
  },
  {
   "cell_type": "code",
   "execution_count": 600,
   "metadata": {
    "collapsed": false
   },
   "outputs": [],
   "source": [
    "p_mat_ = np.array(res['x']).reshape(shape)\n",
    "p_= pd.DataFrame(p_mat_.reshape(qjkl.shape), \n",
    "             columns = qjkl.columns, index = qjkl.index)\n",
    "p_ = p_/p_.sum().sum()\n"
   ]
  },
  {
   "cell_type": "code",
   "execution_count": 601,
   "metadata": {
    "collapsed": false
   },
   "outputs": [
    {
     "data": {
      "text/html": [
       "<div>\n",
       "<style scoped>\n",
       "    .dataframe tbody tr th:only-of-type {\n",
       "        vertical-align: middle;\n",
       "    }\n",
       "\n",
       "    .dataframe tbody tr th {\n",
       "        vertical-align: top;\n",
       "    }\n",
       "\n",
       "    .dataframe thead tr th {\n",
       "        text-align: left;\n",
       "    }\n",
       "\n",
       "    .dataframe thead tr:last-of-type th {\n",
       "        text-align: right;\n",
       "    }\n",
       "</style>\n",
       "<table border=\"1\" class=\"dataframe\">\n",
       "  <thead>\n",
       "    <tr>\n",
       "      <th></th>\n",
       "      <th colspan=\"12\" halign=\"left\">CODUSU</th>\n",
       "    </tr>\n",
       "    <tr>\n",
       "      <th>IV6</th>\n",
       "      <th colspan=\"4\" halign=\"left\">1</th>\n",
       "      <th colspan=\"4\" halign=\"left\">2</th>\n",
       "      <th colspan=\"4\" halign=\"left\">3</th>\n",
       "    </tr>\n",
       "    <tr>\n",
       "      <th>IV3</th>\n",
       "      <th>1</th>\n",
       "      <th>2</th>\n",
       "      <th>3</th>\n",
       "      <th>4</th>\n",
       "      <th>1</th>\n",
       "      <th>2</th>\n",
       "      <th>3</th>\n",
       "      <th>4</th>\n",
       "      <th>1</th>\n",
       "      <th>2</th>\n",
       "      <th>3</th>\n",
       "      <th>4</th>\n",
       "    </tr>\n",
       "    <tr>\n",
       "      <th>IV4</th>\n",
       "      <th></th>\n",
       "      <th></th>\n",
       "      <th></th>\n",
       "      <th></th>\n",
       "      <th></th>\n",
       "      <th></th>\n",
       "      <th></th>\n",
       "      <th></th>\n",
       "      <th></th>\n",
       "      <th></th>\n",
       "      <th></th>\n",
       "      <th></th>\n",
       "    </tr>\n",
       "  </thead>\n",
       "  <tbody>\n",
       "    <tr>\n",
       "      <th>1</th>\n",
       "      <td>0.001284</td>\n",
       "      <td>0.011385</td>\n",
       "      <td>0.015534</td>\n",
       "      <td>0.007155</td>\n",
       "      <td>0.021915</td>\n",
       "      <td>0.012441</td>\n",
       "      <td>0.017681</td>\n",
       "      <td>0.005927</td>\n",
       "      <td>0.030968</td>\n",
       "      <td>0.029605</td>\n",
       "      <td>0.005927</td>\n",
       "      <td>0.005928</td>\n",
       "    </tr>\n",
       "    <tr>\n",
       "      <th>2</th>\n",
       "      <td>0.005892</td>\n",
       "      <td>0.011431</td>\n",
       "      <td>0.024693</td>\n",
       "      <td>0.013305</td>\n",
       "      <td>0.021910</td>\n",
       "      <td>0.011268</td>\n",
       "      <td>0.016039</td>\n",
       "      <td>0.005927</td>\n",
       "      <td>0.032427</td>\n",
       "      <td>0.016338</td>\n",
       "      <td>0.020559</td>\n",
       "      <td>0.005928</td>\n",
       "    </tr>\n",
       "    <tr>\n",
       "      <th>3</th>\n",
       "      <td>0.005484</td>\n",
       "      <td>0.018609</td>\n",
       "      <td>0.026019</td>\n",
       "      <td>0.014047</td>\n",
       "      <td>0.032716</td>\n",
       "      <td>0.021359</td>\n",
       "      <td>0.005927</td>\n",
       "      <td>0.005927</td>\n",
       "      <td>0.005926</td>\n",
       "      <td>0.005926</td>\n",
       "      <td>0.005927</td>\n",
       "      <td>0.005930</td>\n",
       "    </tr>\n",
       "    <tr>\n",
       "      <th>4</th>\n",
       "      <td>0.005920</td>\n",
       "      <td>0.006934</td>\n",
       "      <td>0.020255</td>\n",
       "      <td>0.014297</td>\n",
       "      <td>0.019164</td>\n",
       "      <td>0.003490</td>\n",
       "      <td>0.005690</td>\n",
       "      <td>0.014355</td>\n",
       "      <td>0.023591</td>\n",
       "      <td>0.011753</td>\n",
       "      <td>0.010019</td>\n",
       "      <td>0.005927</td>\n",
       "    </tr>\n",
       "    <tr>\n",
       "      <th>5</th>\n",
       "      <td>0.008925</td>\n",
       "      <td>0.009874</td>\n",
       "      <td>0.019182</td>\n",
       "      <td>0.003485</td>\n",
       "      <td>0.018046</td>\n",
       "      <td>0.007387</td>\n",
       "      <td>-0.000715</td>\n",
       "      <td>0.004827</td>\n",
       "      <td>0.025593</td>\n",
       "      <td>0.013612</td>\n",
       "      <td>0.001404</td>\n",
       "      <td>0.005941</td>\n",
       "    </tr>\n",
       "    <tr>\n",
       "      <th>6</th>\n",
       "      <td>0.020501</td>\n",
       "      <td>0.012977</td>\n",
       "      <td>0.010869</td>\n",
       "      <td>0.008194</td>\n",
       "      <td>0.024076</td>\n",
       "      <td>0.003520</td>\n",
       "      <td>-0.007538</td>\n",
       "      <td>-0.001077</td>\n",
       "      <td>0.005927</td>\n",
       "      <td>0.007702</td>\n",
       "      <td>-0.006904</td>\n",
       "      <td>0.005967</td>\n",
       "    </tr>\n",
       "    <tr>\n",
       "      <th>7</th>\n",
       "      <td>0.012956</td>\n",
       "      <td>0.006198</td>\n",
       "      <td>0.009835</td>\n",
       "      <td>0.011268</td>\n",
       "      <td>0.018935</td>\n",
       "      <td>0.003429</td>\n",
       "      <td>-0.007143</td>\n",
       "      <td>0.001993</td>\n",
       "      <td>0.005927</td>\n",
       "      <td>0.005927</td>\n",
       "      <td>-0.001430</td>\n",
       "      <td>0.005951</td>\n",
       "    </tr>\n",
       "    <tr>\n",
       "      <th>9</th>\n",
       "      <td>-0.008056</td>\n",
       "      <td>0.014316</td>\n",
       "      <td>0.022061</td>\n",
       "      <td>-0.006658</td>\n",
       "      <td>0.010175</td>\n",
       "      <td>0.010266</td>\n",
       "      <td>0.005928</td>\n",
       "      <td>0.005935</td>\n",
       "      <td>0.005927</td>\n",
       "      <td>0.005927</td>\n",
       "      <td>0.005934</td>\n",
       "      <td>0.005963</td>\n",
       "    </tr>\n",
       "  </tbody>\n",
       "</table>\n",
       "</div>"
      ],
      "text/plain": [
       "       CODUSU                                                              \\\n",
       "IV6         1                                       2                       \n",
       "IV3         1         2         3         4         1         2         3   \n",
       "IV4                                                                         \n",
       "1    0.001284  0.011385  0.015534  0.007155  0.021915  0.012441  0.017681   \n",
       "2    0.005892  0.011431  0.024693  0.013305  0.021910  0.011268  0.016039   \n",
       "3    0.005484  0.018609  0.026019  0.014047  0.032716  0.021359  0.005927   \n",
       "4    0.005920  0.006934  0.020255  0.014297  0.019164  0.003490  0.005690   \n",
       "5    0.008925  0.009874  0.019182  0.003485  0.018046  0.007387 -0.000715   \n",
       "6    0.020501  0.012977  0.010869  0.008194  0.024076  0.003520 -0.007538   \n",
       "7    0.012956  0.006198  0.009835  0.011268  0.018935  0.003429 -0.007143   \n",
       "9   -0.008056  0.014316  0.022061 -0.006658  0.010175  0.010266  0.005928   \n",
       "\n",
       "                                                       \n",
       "IV6                   3                                \n",
       "IV3         4         1         2         3         4  \n",
       "IV4                                                    \n",
       "1    0.005927  0.030968  0.029605  0.005927  0.005928  \n",
       "2    0.005927  0.032427  0.016338  0.020559  0.005928  \n",
       "3    0.005927  0.005926  0.005926  0.005927  0.005930  \n",
       "4    0.014355  0.023591  0.011753  0.010019  0.005927  \n",
       "5    0.004827  0.025593  0.013612  0.001404  0.005941  \n",
       "6   -0.001077  0.005927  0.007702 -0.006904  0.005967  \n",
       "7    0.001993  0.005927  0.005927 -0.001430  0.005951  \n",
       "9    0.005935  0.005927  0.005927  0.005934  0.005963  "
      ]
     },
     "execution_count": 601,
     "metadata": {},
     "output_type": "execute_result"
    }
   ],
   "source": [
    "p_"
   ]
  },
  {
   "cell_type": "code",
   "execution_count": 587,
   "metadata": {
    "collapsed": false
   },
   "outputs": [
    {
     "data": {
      "text/html": [
       "<div>\n",
       "<style scoped>\n",
       "    .dataframe tbody tr th:only-of-type {\n",
       "        vertical-align: middle;\n",
       "    }\n",
       "\n",
       "    .dataframe tbody tr th {\n",
       "        vertical-align: top;\n",
       "    }\n",
       "\n",
       "    .dataframe thead tr th {\n",
       "        text-align: left;\n",
       "    }\n",
       "\n",
       "    .dataframe thead tr:last-of-type th {\n",
       "        text-align: right;\n",
       "    }\n",
       "</style>\n",
       "<table border=\"1\" class=\"dataframe\">\n",
       "  <thead>\n",
       "    <tr>\n",
       "      <th></th>\n",
       "      <th colspan=\"12\" halign=\"left\">CODUSU</th>\n",
       "    </tr>\n",
       "    <tr>\n",
       "      <th>IV6</th>\n",
       "      <th colspan=\"4\" halign=\"left\">1</th>\n",
       "      <th colspan=\"4\" halign=\"left\">2</th>\n",
       "      <th colspan=\"4\" halign=\"left\">3</th>\n",
       "    </tr>\n",
       "    <tr>\n",
       "      <th>IV3</th>\n",
       "      <th>1</th>\n",
       "      <th>2</th>\n",
       "      <th>3</th>\n",
       "      <th>4</th>\n",
       "      <th>1</th>\n",
       "      <th>2</th>\n",
       "      <th>3</th>\n",
       "      <th>4</th>\n",
       "      <th>1</th>\n",
       "      <th>2</th>\n",
       "      <th>3</th>\n",
       "      <th>4</th>\n",
       "    </tr>\n",
       "    <tr>\n",
       "      <th>IV4</th>\n",
       "      <th></th>\n",
       "      <th></th>\n",
       "      <th></th>\n",
       "      <th></th>\n",
       "      <th></th>\n",
       "      <th></th>\n",
       "      <th></th>\n",
       "      <th></th>\n",
       "      <th></th>\n",
       "      <th></th>\n",
       "      <th></th>\n",
       "      <th></th>\n",
       "    </tr>\n",
       "  </thead>\n",
       "  <tbody>\n",
       "    <tr>\n",
       "      <th>1</th>\n",
       "      <td>0.265412</td>\n",
       "      <td>0.012811</td>\n",
       "      <td>0.000811</td>\n",
       "      <td>0.000708</td>\n",
       "      <td>0.000855</td>\n",
       "      <td>0.001120</td>\n",
       "      <td>0.000059</td>\n",
       "      <td>0.000091</td>\n",
       "      <td>0.000044</td>\n",
       "      <td>0.000015</td>\n",
       "      <td>0.000102</td>\n",
       "      <td>0.000022</td>\n",
       "    </tr>\n",
       "    <tr>\n",
       "      <th>2</th>\n",
       "      <td>0.207639</td>\n",
       "      <td>0.021671</td>\n",
       "      <td>0.000295</td>\n",
       "      <td>0.000428</td>\n",
       "      <td>0.001459</td>\n",
       "      <td>0.002329</td>\n",
       "      <td>0.000133</td>\n",
       "      <td>0.000155</td>\n",
       "      <td>0.000059</td>\n",
       "      <td>0.000236</td>\n",
       "      <td>0.000015</td>\n",
       "      <td>0.000037</td>\n",
       "    </tr>\n",
       "    <tr>\n",
       "      <th>3</th>\n",
       "      <td>0.069758</td>\n",
       "      <td>0.002020</td>\n",
       "      <td>0.000074</td>\n",
       "      <td>0.000118</td>\n",
       "      <td>0.000074</td>\n",
       "      <td>0.000133</td>\n",
       "      <td>0.000229</td>\n",
       "      <td>0.000048</td>\n",
       "      <td>0.001613</td>\n",
       "      <td>0.000427</td>\n",
       "      <td>0.000054</td>\n",
       "      <td>0.000012</td>\n",
       "    </tr>\n",
       "    <tr>\n",
       "      <th>4</th>\n",
       "      <td>0.244096</td>\n",
       "      <td>0.054707</td>\n",
       "      <td>0.000737</td>\n",
       "      <td>0.000428</td>\n",
       "      <td>0.002742</td>\n",
       "      <td>0.010231</td>\n",
       "      <td>0.000899</td>\n",
       "      <td>0.000044</td>\n",
       "      <td>0.000310</td>\n",
       "      <td>0.000604</td>\n",
       "      <td>0.000103</td>\n",
       "      <td>0.000044</td>\n",
       "    </tr>\n",
       "    <tr>\n",
       "      <th>5</th>\n",
       "      <td>0.009862</td>\n",
       "      <td>0.002226</td>\n",
       "      <td>0.000059</td>\n",
       "      <td>0.000177</td>\n",
       "      <td>0.000221</td>\n",
       "      <td>0.000354</td>\n",
       "      <td>0.000177</td>\n",
       "      <td>0.000015</td>\n",
       "      <td>0.000015</td>\n",
       "      <td>0.000029</td>\n",
       "      <td>0.000029</td>\n",
       "      <td>0.000003</td>\n",
       "    </tr>\n",
       "    <tr>\n",
       "      <th>6</th>\n",
       "      <td>0.000516</td>\n",
       "      <td>0.000486</td>\n",
       "      <td>0.000088</td>\n",
       "      <td>0.000029</td>\n",
       "      <td>0.000029</td>\n",
       "      <td>0.000251</td>\n",
       "      <td>0.000206</td>\n",
       "      <td>0.000015</td>\n",
       "      <td>0.000150</td>\n",
       "      <td>0.000029</td>\n",
       "      <td>0.000044</td>\n",
       "      <td>0.000001</td>\n",
       "    </tr>\n",
       "    <tr>\n",
       "      <th>7</th>\n",
       "      <td>0.003096</td>\n",
       "      <td>0.002565</td>\n",
       "      <td>0.000177</td>\n",
       "      <td>0.000029</td>\n",
       "      <td>0.000118</td>\n",
       "      <td>0.000428</td>\n",
       "      <td>0.000324</td>\n",
       "      <td>0.000015</td>\n",
       "      <td>0.000252</td>\n",
       "      <td>0.000067</td>\n",
       "      <td>0.000029</td>\n",
       "      <td>0.000002</td>\n",
       "    </tr>\n",
       "    <tr>\n",
       "      <th>9</th>\n",
       "      <td>0.070363</td>\n",
       "      <td>0.000428</td>\n",
       "      <td>0.000015</td>\n",
       "      <td>0.000398</td>\n",
       "      <td>0.000339</td>\n",
       "      <td>0.000088</td>\n",
       "      <td>0.000023</td>\n",
       "      <td>0.000005</td>\n",
       "      <td>0.000165</td>\n",
       "      <td>0.000044</td>\n",
       "      <td>0.000006</td>\n",
       "      <td>0.000001</td>\n",
       "    </tr>\n",
       "  </tbody>\n",
       "</table>\n",
       "</div>"
      ],
      "text/plain": [
       "       CODUSU                                                              \\\n",
       "IV6         1                                       2                       \n",
       "IV3         1         2         3         4         1         2         3   \n",
       "IV4                                                                         \n",
       "1    0.265412  0.012811  0.000811  0.000708  0.000855  0.001120  0.000059   \n",
       "2    0.207639  0.021671  0.000295  0.000428  0.001459  0.002329  0.000133   \n",
       "3    0.069758  0.002020  0.000074  0.000118  0.000074  0.000133  0.000229   \n",
       "4    0.244096  0.054707  0.000737  0.000428  0.002742  0.010231  0.000899   \n",
       "5    0.009862  0.002226  0.000059  0.000177  0.000221  0.000354  0.000177   \n",
       "6    0.000516  0.000486  0.000088  0.000029  0.000029  0.000251  0.000206   \n",
       "7    0.003096  0.002565  0.000177  0.000029  0.000118  0.000428  0.000324   \n",
       "9    0.070363  0.000428  0.000015  0.000398  0.000339  0.000088  0.000023   \n",
       "\n",
       "                                                       \n",
       "IV6                   3                                \n",
       "IV3         4         1         2         3         4  \n",
       "IV4                                                    \n",
       "1    0.000091  0.000044  0.000015  0.000102  0.000022  \n",
       "2    0.000155  0.000059  0.000236  0.000015  0.000037  \n",
       "3    0.000048  0.001613  0.000427  0.000054  0.000012  \n",
       "4    0.000044  0.000310  0.000604  0.000103  0.000044  \n",
       "5    0.000015  0.000015  0.000029  0.000029  0.000003  \n",
       "6    0.000015  0.000150  0.000029  0.000044  0.000001  \n",
       "7    0.000015  0.000252  0.000067  0.000029  0.000002  \n",
       "9    0.000005  0.000165  0.000044  0.000006  0.000001  "
      ]
     },
     "execution_count": 587,
     "metadata": {},
     "output_type": "execute_result"
    }
   ],
   "source": [
    "qjkl"
   ]
  },
  {
   "cell_type": "code",
   "execution_count": 602,
   "metadata": {
    "collapsed": false
   },
   "outputs": [
    {
     "name": "stdout",
     "output_type": "stream",
     "text": [
      "IV4\n",
      "1    0.165750\n",
      "2    0.185716\n",
      "3    0.153799\n",
      "4    0.141395\n",
      "5    0.117563\n",
      "6    0.084213\n",
      "7    0.073845\n",
      "9    0.077720\n",
      "Name: CODUSU, dtype: float64\n",
      "IV6\n",
      "1    0.358172\n",
      "2    0.319779\n",
      "3    0.322049\n",
      "Name: CODUSU, dtype: float64\n",
      "IV3\n",
      "1    0.356126\n",
      "2    0.261677\n",
      "3    0.225754\n",
      "4    0.156443\n",
      "Name: CODUSU, dtype: float64\n"
     ]
    }
   ],
   "source": [
    "p_stacked = p_.stack().stack().reset_index()\n",
    "print p_stacked.groupby('IV4')['CODUSU'].sum()\n",
    "print p_stacked.groupby('IV6')['CODUSU'].sum()\n",
    "print p_stacked.groupby('IV3')['CODUSU'].sum()"
   ]
  },
  {
   "cell_type": "code",
   "execution_count": 589,
   "metadata": {
    "collapsed": false
   },
   "outputs": [
    {
     "data": {
      "text/plain": [
       "[1 Membrana / cubierta asfáltica                0.179288\n",
       " 2 Baldosa / losa sin cubierta                  0.305800\n",
       " 3 Pizarra / teja                               0.095610\n",
       " 4 Chapa de metal sin cubierta                  0.361516\n",
       " 5 Chapa de fibrocemento / plástico             0.024129\n",
       " 6 Chapa de cartón                              0.008900\n",
       " 7 Caña / tabla / paja con barro / paja sola    0.014952\n",
       " 9 N/S. Depto en propiedad horizontal           0.009804\n",
       " dtype: float64, 1 Por cañeria dentro de la vivienda               0.885473\n",
       " 2 Fuera de la vivienda pero dentro del terreno    0.092493\n",
       " 3 Fuera del terreno                               0.022033\n",
       " dtype: float64, 1 Mosaico / baldosa / madera / cerámica / alfombra    0.765829\n",
       " 2 Cemento / ladrillo fijo                             0.202845\n",
       " 3 Ladrillo suelto / tierra                            0.025842\n",
       " 4 Otro                                                0.005484\n",
       " dtype: float64]"
      ]
     },
     "execution_count": 589,
     "metadata": {},
     "output_type": "execute_result"
    }
   ],
   "source": [
    "margins"
   ]
  },
  {
   "cell_type": "code",
   "execution_count": null,
   "metadata": {
    "collapsed": true
   },
   "outputs": [],
   "source": []
  },
  {
   "cell_type": "code",
   "execution_count": 580,
   "metadata": {
    "collapsed": false
   },
   "outputs": [],
   "source": [
    "# from scipy.optimize import minimize\n",
    "\n",
    "\n",
    "# shape = [len(m) for m in margins]\n",
    "# q_mat = qjkl.values.reshape(shape)\n",
    "\n",
    "# def pT(q_mat, margins):\n",
    "#     # This generates a left-stochastic matrix\n",
    "    \n",
    "# #     p_0 = np.ones(np.array(q_mat.shape))/len(qjkl.values.flatten())\n",
    "#     p_0 = uncorr_fill_p.values.reshape(shape)\n",
    "#     a_ = np.ones(np.array(q_mat.shape).sum())\n",
    "# #     a_ = np.array([ 3.82209837, -0.67239368,0.9138076,1.71378012,1.70591917,1.34566778,\n",
    "# #  -0.10336548,1.71989107,2.7796474,-1.3430727,1.78366337,4.72804659,\n",
    "# #  -0.67614996,3.08805061,2.84402776])\n",
    "#     x0 = list(p_0.flatten()) + list(a_)\n",
    "\n",
    "#     res = minimize(lambda x: L(x, q_mat, margins), x0, \n",
    "#                    method='Nelder-Mead',\n",
    "#                   options={'disp': True, \n",
    "#                            'maxiter': 10000000, \n",
    "#                            'xatol': 0.00001, \n",
    "#                            'fatol': 0.00001, \n",
    "#                            'maxfev': 1000000})\n",
    "   \n",
    "#     return res"
   ]
  },
  {
   "cell_type": "code",
   "execution_count": 581,
   "metadata": {
    "collapsed": false,
    "scrolled": true
   },
   "outputs": [],
   "source": [
    "# res = pT(q_mat, margins)"
   ]
  },
  {
   "cell_type": "code",
   "execution_count": 582,
   "metadata": {
    "collapsed": false
   },
   "outputs": [
    {
     "ename": "ValueError",
     "evalue": "total size of new array must be unchanged",
     "output_type": "error",
     "traceback": [
      "\u001b[1;31m---------------------------------------------------------------------------\u001b[0m",
      "\u001b[1;31mValueError\u001b[0m                                Traceback (most recent call last)",
      "\u001b[1;32m<ipython-input-582-a09591c578d3>\u001b[0m in \u001b[0;36m<module>\u001b[1;34m()\u001b[0m\n\u001b[1;32m----> 1\u001b[1;33m \u001b[0mp_mat_\u001b[0m \u001b[1;33m=\u001b[0m \u001b[0mnp\u001b[0m\u001b[1;33m.\u001b[0m\u001b[0marray\u001b[0m\u001b[1;33m(\u001b[0m\u001b[0mres\u001b[0m\u001b[1;33m[\u001b[0m\u001b[1;34m'x'\u001b[0m\u001b[1;33m]\u001b[0m\u001b[1;33m[\u001b[0m\u001b[1;33m:\u001b[0m\u001b[1;33m-\u001b[0m\u001b[0mlen_a\u001b[0m\u001b[1;33m]\u001b[0m\u001b[1;33m)\u001b[0m\u001b[1;33m.\u001b[0m\u001b[0mreshape\u001b[0m\u001b[1;33m(\u001b[0m\u001b[0mshape\u001b[0m\u001b[1;33m)\u001b[0m\u001b[1;33m\u001b[0m\u001b[0m\n\u001b[0m\u001b[0;32m      2\u001b[0m \u001b[0ma_\u001b[0m \u001b[1;33m=\u001b[0m \u001b[0mnp\u001b[0m\u001b[1;33m.\u001b[0m\u001b[0marray\u001b[0m\u001b[1;33m(\u001b[0m\u001b[0mres\u001b[0m\u001b[1;33m[\u001b[0m\u001b[1;34m'x'\u001b[0m\u001b[1;33m]\u001b[0m\u001b[1;33m[\u001b[0m\u001b[1;33m-\u001b[0m\u001b[0mlen_a\u001b[0m\u001b[1;33m:\u001b[0m\u001b[1;33m]\u001b[0m\u001b[1;33m)\u001b[0m\u001b[1;33m\u001b[0m\u001b[0m\n",
      "\u001b[1;31mValueError\u001b[0m: total size of new array must be unchanged"
     ]
    }
   ],
   "source": [
    "p_mat_ = np.array(res['x'][:-len_a]).reshape(shape)\n",
    "a_ = np.array(res['x'][-len_a:])"
   ]
  },
  {
   "cell_type": "code",
   "execution_count": 538,
   "metadata": {
    "collapsed": false
   },
   "outputs": [
    {
     "data": {
      "text/plain": [
       "2.8183442948302186"
      ]
     },
     "execution_count": 538,
     "metadata": {},
     "output_type": "execute_result"
    }
   ],
   "source": [
    "p_= pd.DataFrame(p_mat_.reshape(qjkl.shape), \n",
    "             columns = qjkl.columns, index = qjkl.index)\n",
    "p_ = p_/p_.sum().sum()\n",
    "# p_.sum().sum()"
   ]
  },
  {
   "cell_type": "code",
   "execution_count": 534,
   "metadata": {
    "collapsed": false
   },
   "outputs": [
    {
     "data": {
      "text/html": [
       "<div>\n",
       "<style scoped>\n",
       "    .dataframe tbody tr th:only-of-type {\n",
       "        vertical-align: middle;\n",
       "    }\n",
       "\n",
       "    .dataframe tbody tr th {\n",
       "        vertical-align: top;\n",
       "    }\n",
       "\n",
       "    .dataframe thead tr th {\n",
       "        text-align: left;\n",
       "    }\n",
       "\n",
       "    .dataframe thead tr:last-of-type th {\n",
       "        text-align: right;\n",
       "    }\n",
       "</style>\n",
       "<table border=\"1\" class=\"dataframe\">\n",
       "  <thead>\n",
       "    <tr>\n",
       "      <th></th>\n",
       "      <th colspan=\"12\" halign=\"left\">CODUSU</th>\n",
       "    </tr>\n",
       "    <tr>\n",
       "      <th>IV6</th>\n",
       "      <th colspan=\"4\" halign=\"left\">1</th>\n",
       "      <th colspan=\"4\" halign=\"left\">2</th>\n",
       "      <th colspan=\"4\" halign=\"left\">3</th>\n",
       "    </tr>\n",
       "    <tr>\n",
       "      <th>IV3</th>\n",
       "      <th>1</th>\n",
       "      <th>2</th>\n",
       "      <th>3</th>\n",
       "      <th>4</th>\n",
       "      <th>1</th>\n",
       "      <th>2</th>\n",
       "      <th>3</th>\n",
       "      <th>4</th>\n",
       "      <th>1</th>\n",
       "      <th>2</th>\n",
       "      <th>3</th>\n",
       "      <th>4</th>\n",
       "    </tr>\n",
       "    <tr>\n",
       "      <th>IV4</th>\n",
       "      <th></th>\n",
       "      <th></th>\n",
       "      <th></th>\n",
       "      <th></th>\n",
       "      <th></th>\n",
       "      <th></th>\n",
       "      <th></th>\n",
       "      <th></th>\n",
       "      <th></th>\n",
       "      <th></th>\n",
       "      <th></th>\n",
       "      <th></th>\n",
       "    </tr>\n",
       "  </thead>\n",
       "  <tbody>\n",
       "    <tr>\n",
       "      <th>1</th>\n",
       "      <td>0.141882</td>\n",
       "      <td>0.015641</td>\n",
       "      <td>0.001328</td>\n",
       "      <td>2.952166e-04</td>\n",
       "      <td>2.900262e-03</td>\n",
       "      <td>1.369149e-03</td>\n",
       "      <td>0.000201</td>\n",
       "      <td>6.794651e-05</td>\n",
       "      <td>0.000841</td>\n",
       "      <td>0.000366</td>\n",
       "      <td>2.796933e-08</td>\n",
       "      <td>4.640061e-07</td>\n",
       "    </tr>\n",
       "    <tr>\n",
       "      <th>2</th>\n",
       "      <td>0.262956</td>\n",
       "      <td>0.032421</td>\n",
       "      <td>0.002498</td>\n",
       "      <td>2.435911e-04</td>\n",
       "      <td>1.394959e-03</td>\n",
       "      <td>1.051611e-03</td>\n",
       "      <td>0.000057</td>\n",
       "      <td>2.288506e-06</td>\n",
       "      <td>0.000751</td>\n",
       "      <td>0.000052</td>\n",
       "      <td>8.421282e-07</td>\n",
       "      <td>2.810720e-11</td>\n",
       "    </tr>\n",
       "    <tr>\n",
       "      <th>3</th>\n",
       "      <td>0.065675</td>\n",
       "      <td>0.000549</td>\n",
       "      <td>0.001293</td>\n",
       "      <td>3.456847e-06</td>\n",
       "      <td>6.175743e-07</td>\n",
       "      <td>9.337652e-04</td>\n",
       "      <td>0.000051</td>\n",
       "      <td>2.070349e-05</td>\n",
       "      <td>0.000081</td>\n",
       "      <td>0.000052</td>\n",
       "      <td>3.431275e-05</td>\n",
       "      <td>3.457732e-06</td>\n",
       "    </tr>\n",
       "    <tr>\n",
       "      <th>4</th>\n",
       "      <td>0.385724</td>\n",
       "      <td>0.041670</td>\n",
       "      <td>0.002848</td>\n",
       "      <td>1.346926e-03</td>\n",
       "      <td>6.949308e-03</td>\n",
       "      <td>3.386692e-09</td>\n",
       "      <td>0.000414</td>\n",
       "      <td>1.197275e-04</td>\n",
       "      <td>0.002830</td>\n",
       "      <td>0.000415</td>\n",
       "      <td>1.396692e-04</td>\n",
       "      <td>7.946080e-06</td>\n",
       "    </tr>\n",
       "    <tr>\n",
       "      <th>5</th>\n",
       "      <td>0.008833</td>\n",
       "      <td>0.001651</td>\n",
       "      <td>0.000043</td>\n",
       "      <td>1.973323e-05</td>\n",
       "      <td>4.050011e-04</td>\n",
       "      <td>1.286109e-04</td>\n",
       "      <td>0.000030</td>\n",
       "      <td>4.313255e-06</td>\n",
       "      <td>0.000238</td>\n",
       "      <td>0.000033</td>\n",
       "      <td>2.232306e-06</td>\n",
       "      <td>2.002925e-06</td>\n",
       "    </tr>\n",
       "    <tr>\n",
       "      <th>6</th>\n",
       "      <td>0.004151</td>\n",
       "      <td>0.000546</td>\n",
       "      <td>0.000015</td>\n",
       "      <td>3.406675e-08</td>\n",
       "      <td>7.559034e-06</td>\n",
       "      <td>1.126271e-09</td>\n",
       "      <td>0.000011</td>\n",
       "      <td>7.460832e-07</td>\n",
       "      <td>0.000114</td>\n",
       "      <td>0.000054</td>\n",
       "      <td>1.049171e-11</td>\n",
       "      <td>4.735263e-07</td>\n",
       "    </tr>\n",
       "    <tr>\n",
       "      <th>7</th>\n",
       "      <td>0.001333</td>\n",
       "      <td>0.000590</td>\n",
       "      <td>0.000001</td>\n",
       "      <td>2.572921e-05</td>\n",
       "      <td>1.244644e-03</td>\n",
       "      <td>8.299050e-05</td>\n",
       "      <td>0.000013</td>\n",
       "      <td>2.638256e-06</td>\n",
       "      <td>0.000045</td>\n",
       "      <td>0.000010</td>\n",
       "      <td>3.784740e-06</td>\n",
       "      <td>1.352610e-06</td>\n",
       "    </tr>\n",
       "    <tr>\n",
       "      <th>9</th>\n",
       "      <td>0.002423</td>\n",
       "      <td>0.000062</td>\n",
       "      <td>0.000093</td>\n",
       "      <td>5.341664e-06</td>\n",
       "      <td>1.821901e-04</td>\n",
       "      <td>2.266339e-05</td>\n",
       "      <td>0.000009</td>\n",
       "      <td>3.443087e-06</td>\n",
       "      <td>0.000071</td>\n",
       "      <td>0.000002</td>\n",
       "      <td>5.167761e-08</td>\n",
       "      <td>8.386387e-10</td>\n",
       "    </tr>\n",
       "  </tbody>\n",
       "</table>\n",
       "</div>"
      ],
      "text/plain": [
       "       CODUSU                                                                \\\n",
       "IV6         1                                               2                 \n",
       "IV3         1         2         3             4             1             2   \n",
       "IV4                                                                           \n",
       "1    0.141882  0.015641  0.001328  2.952166e-04  2.900262e-03  1.369149e-03   \n",
       "2    0.262956  0.032421  0.002498  2.435911e-04  1.394959e-03  1.051611e-03   \n",
       "3    0.065675  0.000549  0.001293  3.456847e-06  6.175743e-07  9.337652e-04   \n",
       "4    0.385724  0.041670  0.002848  1.346926e-03  6.949308e-03  3.386692e-09   \n",
       "5    0.008833  0.001651  0.000043  1.973323e-05  4.050011e-04  1.286109e-04   \n",
       "6    0.004151  0.000546  0.000015  3.406675e-08  7.559034e-06  1.126271e-09   \n",
       "7    0.001333  0.000590  0.000001  2.572921e-05  1.244644e-03  8.299050e-05   \n",
       "9    0.002423  0.000062  0.000093  5.341664e-06  1.821901e-04  2.266339e-05   \n",
       "\n",
       "                                                                             \n",
       "IV6                                 3                                        \n",
       "IV3         3             4         1         2             3             4  \n",
       "IV4                                                                          \n",
       "1    0.000201  6.794651e-05  0.000841  0.000366  2.796933e-08  4.640061e-07  \n",
       "2    0.000057  2.288506e-06  0.000751  0.000052  8.421282e-07  2.810720e-11  \n",
       "3    0.000051  2.070349e-05  0.000081  0.000052  3.431275e-05  3.457732e-06  \n",
       "4    0.000414  1.197275e-04  0.002830  0.000415  1.396692e-04  7.946080e-06  \n",
       "5    0.000030  4.313255e-06  0.000238  0.000033  2.232306e-06  2.002925e-06  \n",
       "6    0.000011  7.460832e-07  0.000114  0.000054  1.049171e-11  4.735263e-07  \n",
       "7    0.000013  2.638256e-06  0.000045  0.000010  3.784740e-06  1.352610e-06  \n",
       "9    0.000009  3.443087e-06  0.000071  0.000002  5.167761e-08  8.386387e-10  "
      ]
     },
     "execution_count": 534,
     "metadata": {},
     "output_type": "execute_result"
    }
   ],
   "source": [
    "p_"
   ]
  },
  {
   "cell_type": "code",
   "execution_count": 535,
   "metadata": {
    "collapsed": false
   },
   "outputs": [
    {
     "data": {
      "text/html": [
       "<div>\n",
       "<style scoped>\n",
       "    .dataframe tbody tr th:only-of-type {\n",
       "        vertical-align: middle;\n",
       "    }\n",
       "\n",
       "    .dataframe tbody tr th {\n",
       "        vertical-align: top;\n",
       "    }\n",
       "\n",
       "    .dataframe thead tr th {\n",
       "        text-align: left;\n",
       "    }\n",
       "\n",
       "    .dataframe thead tr:last-of-type th {\n",
       "        text-align: right;\n",
       "    }\n",
       "</style>\n",
       "<table border=\"1\" class=\"dataframe\">\n",
       "  <thead>\n",
       "    <tr>\n",
       "      <th></th>\n",
       "      <th colspan=\"12\" halign=\"left\">CODUSU</th>\n",
       "    </tr>\n",
       "    <tr>\n",
       "      <th>IV6</th>\n",
       "      <th colspan=\"4\" halign=\"left\">1</th>\n",
       "      <th colspan=\"4\" halign=\"left\">2</th>\n",
       "      <th colspan=\"4\" halign=\"left\">3</th>\n",
       "    </tr>\n",
       "    <tr>\n",
       "      <th>IV3</th>\n",
       "      <th>1</th>\n",
       "      <th>2</th>\n",
       "      <th>3</th>\n",
       "      <th>4</th>\n",
       "      <th>1</th>\n",
       "      <th>2</th>\n",
       "      <th>3</th>\n",
       "      <th>4</th>\n",
       "      <th>1</th>\n",
       "      <th>2</th>\n",
       "      <th>3</th>\n",
       "      <th>4</th>\n",
       "    </tr>\n",
       "    <tr>\n",
       "      <th>IV4</th>\n",
       "      <th></th>\n",
       "      <th></th>\n",
       "      <th></th>\n",
       "      <th></th>\n",
       "      <th></th>\n",
       "      <th></th>\n",
       "      <th></th>\n",
       "      <th></th>\n",
       "      <th></th>\n",
       "      <th></th>\n",
       "      <th></th>\n",
       "      <th></th>\n",
       "    </tr>\n",
       "  </thead>\n",
       "  <tbody>\n",
       "    <tr>\n",
       "      <th>1</th>\n",
       "      <td>0.265412</td>\n",
       "      <td>0.012811</td>\n",
       "      <td>0.000811</td>\n",
       "      <td>0.000708</td>\n",
       "      <td>0.000855</td>\n",
       "      <td>0.001120</td>\n",
       "      <td>0.000059</td>\n",
       "      <td>0.000091</td>\n",
       "      <td>0.000044</td>\n",
       "      <td>0.000015</td>\n",
       "      <td>0.000102</td>\n",
       "      <td>0.000022</td>\n",
       "    </tr>\n",
       "    <tr>\n",
       "      <th>2</th>\n",
       "      <td>0.207639</td>\n",
       "      <td>0.021671</td>\n",
       "      <td>0.000295</td>\n",
       "      <td>0.000428</td>\n",
       "      <td>0.001459</td>\n",
       "      <td>0.002329</td>\n",
       "      <td>0.000133</td>\n",
       "      <td>0.000155</td>\n",
       "      <td>0.000059</td>\n",
       "      <td>0.000236</td>\n",
       "      <td>0.000015</td>\n",
       "      <td>0.000037</td>\n",
       "    </tr>\n",
       "    <tr>\n",
       "      <th>3</th>\n",
       "      <td>0.069758</td>\n",
       "      <td>0.002020</td>\n",
       "      <td>0.000074</td>\n",
       "      <td>0.000118</td>\n",
       "      <td>0.000074</td>\n",
       "      <td>0.000133</td>\n",
       "      <td>0.000229</td>\n",
       "      <td>0.000048</td>\n",
       "      <td>0.001613</td>\n",
       "      <td>0.000427</td>\n",
       "      <td>0.000054</td>\n",
       "      <td>0.000012</td>\n",
       "    </tr>\n",
       "    <tr>\n",
       "      <th>4</th>\n",
       "      <td>0.244096</td>\n",
       "      <td>0.054707</td>\n",
       "      <td>0.000737</td>\n",
       "      <td>0.000428</td>\n",
       "      <td>0.002742</td>\n",
       "      <td>0.010231</td>\n",
       "      <td>0.000899</td>\n",
       "      <td>0.000044</td>\n",
       "      <td>0.000310</td>\n",
       "      <td>0.000604</td>\n",
       "      <td>0.000103</td>\n",
       "      <td>0.000044</td>\n",
       "    </tr>\n",
       "    <tr>\n",
       "      <th>5</th>\n",
       "      <td>0.009862</td>\n",
       "      <td>0.002226</td>\n",
       "      <td>0.000059</td>\n",
       "      <td>0.000177</td>\n",
       "      <td>0.000221</td>\n",
       "      <td>0.000354</td>\n",
       "      <td>0.000177</td>\n",
       "      <td>0.000015</td>\n",
       "      <td>0.000015</td>\n",
       "      <td>0.000029</td>\n",
       "      <td>0.000029</td>\n",
       "      <td>0.000003</td>\n",
       "    </tr>\n",
       "    <tr>\n",
       "      <th>6</th>\n",
       "      <td>0.000516</td>\n",
       "      <td>0.000486</td>\n",
       "      <td>0.000088</td>\n",
       "      <td>0.000029</td>\n",
       "      <td>0.000029</td>\n",
       "      <td>0.000251</td>\n",
       "      <td>0.000206</td>\n",
       "      <td>0.000015</td>\n",
       "      <td>0.000150</td>\n",
       "      <td>0.000029</td>\n",
       "      <td>0.000044</td>\n",
       "      <td>0.000001</td>\n",
       "    </tr>\n",
       "    <tr>\n",
       "      <th>7</th>\n",
       "      <td>0.003096</td>\n",
       "      <td>0.002565</td>\n",
       "      <td>0.000177</td>\n",
       "      <td>0.000029</td>\n",
       "      <td>0.000118</td>\n",
       "      <td>0.000428</td>\n",
       "      <td>0.000324</td>\n",
       "      <td>0.000015</td>\n",
       "      <td>0.000252</td>\n",
       "      <td>0.000067</td>\n",
       "      <td>0.000029</td>\n",
       "      <td>0.000002</td>\n",
       "    </tr>\n",
       "    <tr>\n",
       "      <th>9</th>\n",
       "      <td>0.070363</td>\n",
       "      <td>0.000428</td>\n",
       "      <td>0.000015</td>\n",
       "      <td>0.000398</td>\n",
       "      <td>0.000339</td>\n",
       "      <td>0.000088</td>\n",
       "      <td>0.000023</td>\n",
       "      <td>0.000005</td>\n",
       "      <td>0.000165</td>\n",
       "      <td>0.000044</td>\n",
       "      <td>0.000006</td>\n",
       "      <td>0.000001</td>\n",
       "    </tr>\n",
       "  </tbody>\n",
       "</table>\n",
       "</div>"
      ],
      "text/plain": [
       "       CODUSU                                                              \\\n",
       "IV6         1                                       2                       \n",
       "IV3         1         2         3         4         1         2         3   \n",
       "IV4                                                                         \n",
       "1    0.265412  0.012811  0.000811  0.000708  0.000855  0.001120  0.000059   \n",
       "2    0.207639  0.021671  0.000295  0.000428  0.001459  0.002329  0.000133   \n",
       "3    0.069758  0.002020  0.000074  0.000118  0.000074  0.000133  0.000229   \n",
       "4    0.244096  0.054707  0.000737  0.000428  0.002742  0.010231  0.000899   \n",
       "5    0.009862  0.002226  0.000059  0.000177  0.000221  0.000354  0.000177   \n",
       "6    0.000516  0.000486  0.000088  0.000029  0.000029  0.000251  0.000206   \n",
       "7    0.003096  0.002565  0.000177  0.000029  0.000118  0.000428  0.000324   \n",
       "9    0.070363  0.000428  0.000015  0.000398  0.000339  0.000088  0.000023   \n",
       "\n",
       "                                                       \n",
       "IV6                   3                                \n",
       "IV3         4         1         2         3         4  \n",
       "IV4                                                    \n",
       "1    0.000091  0.000044  0.000015  0.000102  0.000022  \n",
       "2    0.000155  0.000059  0.000236  0.000015  0.000037  \n",
       "3    0.000048  0.001613  0.000427  0.000054  0.000012  \n",
       "4    0.000044  0.000310  0.000604  0.000103  0.000044  \n",
       "5    0.000015  0.000015  0.000029  0.000029  0.000003  \n",
       "6    0.000015  0.000150  0.000029  0.000044  0.000001  \n",
       "7    0.000015  0.000252  0.000067  0.000029  0.000002  \n",
       "9    0.000005  0.000165  0.000044  0.000006  0.000001  "
      ]
     },
     "execution_count": 535,
     "metadata": {},
     "output_type": "execute_result"
    }
   ],
   "source": [
    "qjkl"
   ]
  },
  {
   "cell_type": "code",
   "execution_count": 536,
   "metadata": {
    "collapsed": false
   },
   "outputs": [
    {
     "name": "stdout",
     "output_type": "stream",
     "text": [
      "IV4\n",
      "1    0.164892\n",
      "2    0.301428\n",
      "3    0.068698\n",
      "4    0.442466\n",
      "5    0.011390\n",
      "6    0.004899\n",
      "7    0.003354\n",
      "9    0.002874\n",
      "Name: CODUSU, dtype: float64\n",
      "IV3\n",
      "1    0.891033\n",
      "2    0.097703\n",
      "3    0.009087\n",
      "4    0.002178\n",
      "Name: CODUSU, dtype: float64\n",
      "IV6\n",
      "1    0.976167\n",
      "2    0.017681\n",
      "3    0.006152\n",
      "Name: CODUSU, dtype: float64\n"
     ]
    }
   ],
   "source": [
    "p_stacked = p_.stack().stack().reset_index()\n",
    "print p_stacked.groupby('IV4')['CODUSU'].sum()\n",
    "print p_stacked.groupby('IV3')['CODUSU'].sum()\n",
    "print p_stacked.groupby('IV6')['CODUSU'].sum()"
   ]
  },
  {
   "cell_type": "code",
   "execution_count": 527,
   "metadata": {
    "collapsed": false
   },
   "outputs": [
    {
     "data": {
      "text/plain": [
       "[1 Membrana / cubierta asfáltica                0.179288\n",
       " 2 Baldosa / losa sin cubierta                  0.305800\n",
       " 3 Pizarra / teja                               0.095610\n",
       " 4 Chapa de metal sin cubierta                  0.361516\n",
       " 5 Chapa de fibrocemento / plástico             0.024129\n",
       " 6 Chapa de cartón                              0.008900\n",
       " 7 Caña / tabla / paja con barro / paja sola    0.014952\n",
       " 9 N/S. Depto en propiedad horizontal           0.009804\n",
       " dtype: float64, 1 Por cañeria dentro de la vivienda               0.885473\n",
       " 2 Fuera de la vivienda pero dentro del terreno    0.092493\n",
       " 3 Fuera del terreno                               0.022033\n",
       " dtype: float64, 1 Mosaico / baldosa / madera / cerámica / alfombra    0.765829\n",
       " 2 Cemento / ladrillo fijo                             0.202845\n",
       " 3 Ladrillo suelto / tierra                            0.025842\n",
       " 4 Otro                                                0.005484\n",
       " dtype: float64]"
      ]
     },
     "execution_count": 527,
     "metadata": {},
     "output_type": "execute_result"
    }
   ],
   "source": [
    "margins"
   ]
  },
  {
   "cell_type": "code",
   "execution_count": 528,
   "metadata": {
    "collapsed": false
   },
   "outputs": [
    {
     "name": "stdout",
     "output_type": "stream",
     "text": [
      "IV4\n",
      "1    0.282050\n",
      "2    0.234455\n",
      "3    0.074560\n",
      "4    0.314945\n",
      "5    0.013167\n",
      "6    0.001847\n",
      "7    0.007102\n",
      "9    0.071875\n",
      "Name: CODUSU, dtype: float64\n",
      "IV3\n",
      "1    0.879189\n",
      "2    0.113298\n",
      "3    0.004689\n",
      "4    0.002823\n",
      "Name: CODUSU, dtype: float64\n",
      "IV6\n",
      "1    0.972226\n",
      "2    0.023210\n",
      "3    0.004565\n",
      "Name: CODUSU, dtype: float64\n"
     ]
    }
   ],
   "source": [
    "q_stacked = qjkl.stack().stack()\n",
    "print q_stacked.groupby('IV4')['CODUSU'].sum()\n",
    "print q_stacked.groupby('IV3')['CODUSU'].sum()\n",
    "print q_stacked.groupby('IV6')['CODUSU'].sum()"
   ]
  },
  {
   "cell_type": "code",
   "execution_count": 11,
   "metadata": {
    "collapsed": true
   },
   "outputs": [],
   "source": [
    "## Model?\n",
    "# It would be a max ent prolem minimizing distance between pjkl and priors qjkl, \n",
    "# using lagrange multipliers with the conditions that (hyper-) row and column sums match the margins."
   ]
  },
  {
   "cell_type": "code",
   "execution_count": 12,
   "metadata": {
    "collapsed": true
   },
   "outputs": [],
   "source": [
    "# import scipy.maxentropy.conditionalmodel as cm"
   ]
  },
  {
   "cell_type": "code",
   "execution_count": 13,
   "metadata": {
    "collapsed": false
   },
   "outputs": [],
   "source": [
    "# def f_1(x):\n",
    "#     return x\n",
    "\n",
    "# F = [f_1]\n",
    "# samplespace = np.ones((8, 4, 4))\n",
    "# K = qjkl.values.reshape(8, 4, 4)\n",
    "# cm(F, samplespace, K)"
   ]
  },
  {
   "cell_type": "code",
   "execution_count": null,
   "metadata": {
    "collapsed": true
   },
   "outputs": [],
   "source": []
  }
 ],
 "metadata": {
  "kernelspec": {
   "display_name": "Python 2",
   "language": "python",
   "name": "python2"
  },
  "language_info": {
   "codemirror_mode": {
    "name": "ipython",
    "version": 2
   },
   "file_extension": ".py",
   "mimetype": "text/x-python",
   "name": "python",
   "nbconvert_exporter": "python",
   "pygments_lexer": "ipython2",
   "version": "2.7.13"
  }
 },
 "nbformat": 4,
 "nbformat_minor": 2
}
