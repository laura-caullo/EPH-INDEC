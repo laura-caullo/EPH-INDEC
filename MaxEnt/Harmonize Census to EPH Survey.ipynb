{
 "cells": [
  {
   "cell_type": "code",
   "execution_count": 1,
   "metadata": {
    "collapsed": true
   },
   "outputs": [],
   "source": [
    "import pandas as pd\n",
    "import numpy as np"
   ]
  },
  {
   "cell_type": "markdown",
   "metadata": {},
   "source": [
    "## EPH survey data"
   ]
  },
  {
   "cell_type": "code",
   "execution_count": 242,
   "metadata": {
    "collapsed": false
   },
   "outputs": [],
   "source": [
    "df = pd.read_csv('./../resumen_EPH_hogar.csv')\n",
    "df = df.loc[df.IV1 != 9]\n",
    "df['IV10'] = df['IV10'].map({1: 1, 2: 2, 3: 2, 0: 0, 9: 9})\n",
    "df['II9'] = df['II9'].map({1: 1, 2: 2, 3: 2, 4: 4, 0: 0})\n",
    "df['II7'] = df['II7'].map({1: 1, 2: 2, 3: 3, 4: 4, 5: 5, 6: 6, 7: 6, 8: 6, 9: 6, 0: 0})\n",
    "df['IX_TOT'] = df['IX_TOT'].clip(0, 8)\n"
   ]
  },
  {
   "cell_type": "code",
   "execution_count": 3,
   "metadata": {
    "collapsed": false
   },
   "outputs": [],
   "source": [
    "# df.groupby(['AGLOMERADO']).nunique()"
   ]
  },
  {
   "cell_type": "code",
   "execution_count": 4,
   "metadata": {
    "collapsed": false
   },
   "outputs": [],
   "source": [
    "# for col in df.iloc[:, 2:].columns:\n",
    "#     print col\n",
    "#     print sorted(df[col].unique())"
   ]
  },
  {
   "cell_type": "markdown",
   "metadata": {},
   "source": [
    "## 2010 ARG Census data"
   ]
  },
  {
   "cell_type": "code",
   "execution_count": 262,
   "metadata": {
    "collapsed": true
   },
   "outputs": [],
   "source": [
    "path = './../../Datos_censo/Preguntas/'\n",
    "\n",
    "VIVIENDA_V01 = pd.read_csv(path + 'VIVIENDA-V01.csv', encoding = 'latin-1')\n",
    "HOGAR_H05 = pd.read_csv(path + 'HOGAR-H05.csv', encoding = 'latin-1') # Pisos\n",
    "HOGAR_H06 = pd.read_csv(path + 'HOGAR-H06.csv', encoding = 'latin-1') # Cubierta techos\n",
    "HOGAR_H07 = pd.read_csv(path + 'HOGAR-H07.csv', encoding = 'latin-1') # Cielorraso\n",
    "HOGAR_H08 = pd.read_csv(path + 'HOGAR-H08.csv', encoding = 'latin-1') # Agua\n",
    "HOGAR_H09 = pd.read_csv(path + 'HOGAR-H09.csv', encoding = 'latin-1') # Procedencia agua\n",
    "HOGAR_H10 = pd.read_csv(path + 'HOGAR-H10.csv', encoding = 'latin-1') # Tiene baño\n",
    "HOGAR_H11 = pd.read_csv(path + 'HOGAR-H11.csv', encoding = 'latin-1') # Baño con cadena\n",
    "HOGAR_H12 = pd.read_csv(path + 'HOGAR-H12.csv', encoding = 'latin-1') # Desague baño\n",
    "HOGAR_H13 = pd.read_csv(path + 'HOGAR-H13.csv', encoding = 'latin-1') # Baño uso exclusivo\n",
    "HOGAR_H14 = pd.read_csv(path + 'HOGAR-H14.csv', encoding = 'latin-1') # Combustible cocina\n",
    "HOGAR_PROP = pd.read_csv(path + 'HOGAR-PROP.csv', encoding = 'latin-1') # Regimen tenencia\n",
    "HOGAR_TOTPERS = pd.read_csv(path + 'HOGAR-TOTPERS.csv', encoding = 'latin-1') # Personas en hogar\n",
    "\n",
    "df_list = [VIVIENDA_V01, HOGAR_H05, HOGAR_H06, HOGAR_H07, HOGAR_H08, HOGAR_H09, \n",
    "          HOGAR_H10, HOGAR_H11, HOGAR_H12, HOGAR_H13, HOGAR_H14, HOGAR_PROP, HOGAR_TOTPERS]"
   ]
  },
  {
   "cell_type": "markdown",
   "metadata": {},
   "source": [
    "## Harmonise variables (let valid answers match exactly in both datasets)"
   ]
  },
  {
   "cell_type": "code",
   "execution_count": 263,
   "metadata": {
    "collapsed": false
   },
   "outputs": [],
   "source": [
    "\n",
    "VIVIENDA_V01['2 Departamento'] = VIVIENDA_V01['4 Departamento']\n",
    "VIVIENDA_V01['3 Pieza de inquilinato'] = VIVIENDA_V01['5 Pieza en inquilinato']\n",
    "VIVIENDA_V01[u'4 Pieza en hotel / pensión'] = VIVIENDA_V01[u'6 Pieza en hotel familiar o pensión']\n",
    "VIVIENDA_V01[u'5 Local no construido para habitación'] = VIVIENDA_V01[u'7 Local no construido para habitación']\n",
    "VIVIENDA_V01['6 Otros'] = VIVIENDA_V01['2 Rancho'] + VIVIENDA_V01['3 Casilla'] + VIVIENDA_V01[u'8 Vivienda móvil'] + VIVIENDA_V01['9 Persona/s viviendo en la calle']\n",
    "\n",
    "IV1_censo = VIVIENDA_V01[['radio', '1 Casa', '2 Departamento', '3 Pieza de inquilinato', u'4 Pieza en hotel / pensión',\n",
    "                         u'5 Local no construido para habitación', '6 Otros', 'TOTAL']]\n",
    "IV3_censo = HOGAR_H05\n",
    "IV3_censo.columns = ['radio', '1 Mosaico / baldosa / madera / cerámica / alfombra', \n",
    "                    '2 Cemento / ladrillo fijo', '3 Ladrillo suelto / tierra', '4 Otro', 'TOTAL']\n",
    "\n",
    "IV4_censo = HOGAR_H06\n",
    "IV4_censo.columns = ['radio', '1 Membrana / cubierta asfáltica', '2 Baldosa / losa sin cubierta', '3 Pizarra / teja', \n",
    "                     '4 Chapa de metal sin cubierta', '5 Chapa de fibrocemento / plástico', '6 Chapa de cartón', \n",
    "                     '7 Caña / tabla / paja con barro / paja sola', '9 N/S. Depto en propiedad horizontal', 'TOTAL']\n",
    "\n",
    "IV5_censo = HOGAR_H07\n",
    "IV6_censo = HOGAR_H08\n",
    "IV7_censo = HOGAR_H09\n",
    "IV7_censo['4 Otra fuente'] = HOGAR_H09['4 Pozo'] + HOGAR_H09['5 Transporte por cisterna'] + \\\n",
    " HOGAR_H09[u'6 Agua de lluvia, río, canal, arroyo o acequia']\n",
    "IV7_censo = IV7_censo[[u'radio', u'1 Red pública', u'2 Perforación con bomba a motor',\n",
    "                      u'3 Perforación con bomba manual', u'4 Otra fuente', u'TOTAL']]\n",
    "\n",
    "IV8_censo = HOGAR_H10\n",
    "IV10_censo = HOGAR_H11\n",
    "IV11_censo = HOGAR_H12\n",
    "II9_censo = HOGAR_H13\n",
    "\n",
    "II8_censo = HOGAR_H14\n",
    "II8_censo['2 Gas de tubo / garrafa'] = HOGAR_H14['3 Gas en tubo'] + HOGAR_H14['4 Gas en garrafa']\n",
    "II8_censo[u'3 Kerosene / leña/ carbón'] = HOGAR_H14[u'6 Leña o carbón']\n",
    "II8_censo['4 Otro'] = HOGAR_H14[u'2 Gas a granel (zeppelin)'] + HOGAR_H14[u'5 Electricidad'] + HOGAR_H14[u'7 Otro']\n",
    "\n",
    "II8_censo = II8_censo[['radio', '1 Gas de red', '2 Gas de tubo / garrafa', u'3 Kerosene / leña/ carbón', '4 Otro', 'TOTAL']]\n",
    "\n",
    "II7_censo = HOGAR_PROP\n",
    "\n",
    "IX_TOT_censo = HOGAR_TOTPERS"
   ]
  },
  {
   "cell_type": "markdown",
   "metadata": {},
   "source": [
    "## Intento Max Ent\n",
    "\n",
    "#### Margins"
   ]
  },
  {
   "cell_type": "code",
   "execution_count": 264,
   "metadata": {
    "collapsed": false
   },
   "outputs": [
    {
     "data": {
      "text/plain": [
       "1 Sí     0.723948\n",
       "2 No     0.276052\n",
       "TOTAL    1.000000\n",
       "dtype: float64"
      ]
     },
     "execution_count": 264,
     "metadata": {},
     "output_type": "execute_result"
    }
   ],
   "source": [
    "# From whole country data, we can only have margins. Same for a given district or precint.\n",
    "\n",
    "tot_viviendas = 12171675.\n",
    "IV5_censo.iloc[:, 1:].sum()/tot_viviendas"
   ]
  },
  {
   "cell_type": "code",
   "execution_count": 265,
   "metadata": {
    "collapsed": false
   },
   "outputs": [
    {
     "data": {
      "text/plain": [
       "1 Mosaico / baldosa / madera / cerámica / alfombra    0.765829\n",
       "2 Cemento / ladrillo fijo                             0.202845\n",
       "3 Ladrillo suelto / tierra                            0.025842\n",
       "4 Otro                                                0.005484\n",
       "TOTAL                                                 1.000000\n",
       "dtype: float64"
      ]
     },
     "execution_count": 265,
     "metadata": {},
     "output_type": "execute_result"
    }
   ],
   "source": [
    "IV3_censo.iloc[:, 1:].sum()/tot_viviendas"
   ]
  },
  {
   "cell_type": "code",
   "execution_count": 266,
   "metadata": {
    "collapsed": false
   },
   "outputs": [
    {
     "data": {
      "text/plain": [
       "1 Por cañeria dentro de la vivienda               0.885473\n",
       "2 Fuera de la vivienda pero dentro del terreno    0.092493\n",
       "3 Fuera del terreno                               0.022033\n",
       "TOTAL                                             1.000000\n",
       "dtype: float64"
      ]
     },
     "execution_count": 266,
     "metadata": {},
     "output_type": "execute_result"
    }
   ],
   "source": [
    "IV6_censo.iloc[:, 1:].sum()/tot_viviendas"
   ]
  },
  {
   "cell_type": "markdown",
   "metadata": {},
   "source": [
    "#### Prior probabilities (matrix entries) from survey info"
   ]
  },
  {
   "cell_type": "code",
   "execution_count": 267,
   "metadata": {
    "collapsed": false
   },
   "outputs": [],
   "source": [
    "qjkl = df.groupby(['IV4', 'IV3', 'IV6'])[['CODUSU']].nunique() # how many IDs with each combination\n",
    "qjkl /= qjkl.sum()\n",
    "\n",
    "q_ix = pd.MultiIndex.from_product(qjkl.index.levels, names=qjkl.index.names)\n",
    "qjkl = qjkl.reindex(q_ix, fill_value = 0)\n",
    "\n",
    "qjkl = qjkl.unstack([2, 1]).sort_index(axis = 1)\n",
    "\n",
    "info_dfs = [IV4_censo, IV6_censo, IV3_censo]\n",
    "T = len(info_dfs)\n",
    "\n",
    "margins_s = []\n",
    "margins_v = []\n",
    "shape_ = np.zeros(T, dtype = int)\n",
    "\n",
    "for t in range(T):\n",
    "    margin_series = (info_dfs[t].iloc[:, 1:-1].sum()/info_dfs[t].TOTAL.sum())\n",
    "    margins_s += [margin_series]\n",
    "    margins_v += [margin_series.values]\n",
    "    shape_[t] = len(margin_series)\n",
    "    \n",
    "a, b, c = tuple([m.values for m in margins_s])\n",
    "df_ = pd.DataFrame(np.prod(np.ix_(a, b, c)).reshape(qjkl.values.shape), \n",
    "                  columns = qjkl.columns, index = qjkl.index)\n",
    "uncorr_fill_p = df_\n",
    "\n",
    "uncorr_fill_q = df_ * (qjkl == 0).astype(int)\n",
    "qjkl = (1 - uncorr_fill_q.sum().sum())*qjkl + uncorr_fill_q"
   ]
  },
  {
   "cell_type": "code",
   "execution_count": 268,
   "metadata": {
    "collapsed": false
   },
   "outputs": [],
   "source": [
    "l = np.prod(shape_)\n",
    "cube = np.arange(l).reshape(shape_)\n",
    "# cube[:, 2, :].flatten()"
   ]
  },
  {
   "cell_type": "code",
   "execution_count": 269,
   "metadata": {
    "collapsed": false
   },
   "outputs": [],
   "source": [
    "## Use the 2D shape of the data frame"
   ]
  },
  {
   "cell_type": "code",
   "execution_count": 273,
   "metadata": {
    "collapsed": false
   },
   "outputs": [
    {
     "name": "stdout",
     "output_type": "stream",
     "text": [
      "(8, 3, 4)\n",
      "[ 0.17928839  0.30580031  0.09560977  0.3615159   0.02412938  0.00890009\n",
      "  0.01495176  0.0098044 ]\n",
      "(3, 4, 8)\n",
      "[ 0.88547345  0.09249319  0.02203337]\n",
      "(4, 8, 3)\n",
      "[ 0.76582935  0.20284505  0.0258418   0.0054838 ]\n"
     ]
    },
    {
     "name": "stderr",
     "output_type": "stream",
     "text": [
      "/home/miglesia/anaconda2/lib/python2.7/site-packages/IPython/kernel/__main__.py:28: RuntimeWarning: invalid value encountered in log\n"
     ]
    }
   ],
   "source": [
    "from scipy.optimize import minimize\n",
    "M_0 = qjkl.values#.reshape(8, 3, 4)[0:2]\n",
    "\n",
    "constraints = []\n",
    "\n",
    "shape_df = M_0.shape\n",
    "shape_ #was defined before\n",
    "l = np.prod(shape_df)\n",
    "table = np.arange(l).reshape(shape_df)\n",
    "\n",
    "for dim in range(T):\n",
    "    cube_tr = cube.transpose(tuple(np.roll(np.arange(T), - (dim)))) \n",
    "    marg = margins_v[dim]\n",
    "    print cube_tr.shape\n",
    "    print marg\n",
    "    \n",
    "    for j in range(shape_[dim]):\n",
    "        def f(M, cube_tr = cube_tr, marg = marg, j = j):\n",
    "            return (M.flatten()[cube_tr[j].flatten()]).sum() - marg[j]\n",
    "\n",
    "        constraints.append(f)\n",
    "    \n",
    "cons = [{'type':'eq', 'fun': con} for con in constraints]\n",
    "cons\n",
    "\n",
    "def MaxEnt(p, q = M_0.flatten()):\n",
    "#     p_mat = np.array(p_mat).reshape(q_mat.shape)\n",
    "    return (p*np.log(p/q)).sum()\n",
    "    \n",
    "res = minimize(lambda M: MaxEnt(M), M_0 + 0.001, constraints = cons, options={'maxiter': 1000, 'ftol': 0.01 })"
   ]
  },
  {
   "cell_type": "code",
   "execution_count": 274,
   "metadata": {
    "collapsed": false
   },
   "outputs": [],
   "source": [
    "p = pd.DataFrame(res['x'].reshape(qjkl.shape), columns = qjkl.columns, index = qjkl.index)"
   ]
  },
  {
   "cell_type": "code",
   "execution_count": 275,
   "metadata": {
    "collapsed": false
   },
   "outputs": [
    {
     "data": {
      "text/html": [
       "<div>\n",
       "<style scoped>\n",
       "    .dataframe tbody tr th:only-of-type {\n",
       "        vertical-align: middle;\n",
       "    }\n",
       "\n",
       "    .dataframe tbody tr th {\n",
       "        vertical-align: top;\n",
       "    }\n",
       "\n",
       "    .dataframe thead tr th {\n",
       "        text-align: left;\n",
       "    }\n",
       "\n",
       "    .dataframe thead tr:last-of-type th {\n",
       "        text-align: right;\n",
       "    }\n",
       "</style>\n",
       "<table border=\"1\" class=\"dataframe\">\n",
       "  <thead>\n",
       "    <tr>\n",
       "      <th></th>\n",
       "      <th colspan=\"12\" halign=\"left\">CODUSU</th>\n",
       "    </tr>\n",
       "    <tr>\n",
       "      <th>IV6</th>\n",
       "      <th colspan=\"4\" halign=\"left\">1</th>\n",
       "      <th colspan=\"4\" halign=\"left\">2</th>\n",
       "      <th colspan=\"4\" halign=\"left\">3</th>\n",
       "    </tr>\n",
       "    <tr>\n",
       "      <th>IV3</th>\n",
       "      <th>1</th>\n",
       "      <th>2</th>\n",
       "      <th>3</th>\n",
       "      <th>4</th>\n",
       "      <th>1</th>\n",
       "      <th>2</th>\n",
       "      <th>3</th>\n",
       "      <th>4</th>\n",
       "      <th>1</th>\n",
       "      <th>2</th>\n",
       "      <th>3</th>\n",
       "      <th>4</th>\n",
       "    </tr>\n",
       "    <tr>\n",
       "      <th>IV4</th>\n",
       "      <th></th>\n",
       "      <th></th>\n",
       "      <th></th>\n",
       "      <th></th>\n",
       "      <th></th>\n",
       "      <th></th>\n",
       "      <th></th>\n",
       "      <th></th>\n",
       "      <th></th>\n",
       "      <th></th>\n",
       "      <th></th>\n",
       "      <th></th>\n",
       "    </tr>\n",
       "  </thead>\n",
       "  <tbody>\n",
       "    <tr>\n",
       "      <th>1</th>\n",
       "      <td>0.17850</td>\n",
       "      <td>0.00008</td>\n",
       "      <td>0.00015</td>\n",
       "      <td>0.00011</td>\n",
       "      <td>0.00019</td>\n",
       "      <td>0.00019</td>\n",
       "      <td>0.00003</td>\n",
       "      <td>0.00023</td>\n",
       "      <td>0.00015</td>\n",
       "      <td>0.00006</td>\n",
       "      <td>0.00050</td>\n",
       "      <td>0.00071</td>\n",
       "    </tr>\n",
       "    <tr>\n",
       "      <th>2</th>\n",
       "      <td>0.13920</td>\n",
       "      <td>0.09629</td>\n",
       "      <td>0.00507</td>\n",
       "      <td>0.00208</td>\n",
       "      <td>0.02264</td>\n",
       "      <td>0.03136</td>\n",
       "      <td>0.00496</td>\n",
       "      <td>0.00155</td>\n",
       "      <td>0.00043</td>\n",
       "      <td>0.00102</td>\n",
       "      <td>0.00023</td>\n",
       "      <td>0.00012</td>\n",
       "    </tr>\n",
       "    <tr>\n",
       "      <th>3</th>\n",
       "      <td>0.08916</td>\n",
       "      <td>0.00189</td>\n",
       "      <td>0.00021</td>\n",
       "      <td>0.00007</td>\n",
       "      <td>0.00018</td>\n",
       "      <td>0.00022</td>\n",
       "      <td>0.00139</td>\n",
       "      <td>0.00006</td>\n",
       "      <td>0.00192</td>\n",
       "      <td>0.00023</td>\n",
       "      <td>0.00012</td>\n",
       "      <td>0.00001</td>\n",
       "    </tr>\n",
       "    <tr>\n",
       "      <th>4</th>\n",
       "      <td>0.28368</td>\n",
       "      <td>0.04542</td>\n",
       "      <td>0.00188</td>\n",
       "      <td>0.00030</td>\n",
       "      <td>0.00701</td>\n",
       "      <td>0.01664</td>\n",
       "      <td>0.00519</td>\n",
       "      <td>0.00008</td>\n",
       "      <td>0.00034</td>\n",
       "      <td>0.00025</td>\n",
       "      <td>0.00022</td>\n",
       "      <td>0.00003</td>\n",
       "    </tr>\n",
       "    <tr>\n",
       "      <th>5</th>\n",
       "      <td>0.01876</td>\n",
       "      <td>0.00304</td>\n",
       "      <td>0.00025</td>\n",
       "      <td>0.00022</td>\n",
       "      <td>0.00000</td>\n",
       "      <td>0.00000</td>\n",
       "      <td>0.00001</td>\n",
       "      <td>0.00000</td>\n",
       "      <td>0.00029</td>\n",
       "      <td>0.00035</td>\n",
       "      <td>0.00119</td>\n",
       "      <td>0.00003</td>\n",
       "    </tr>\n",
       "    <tr>\n",
       "      <th>6</th>\n",
       "      <td>0.00089</td>\n",
       "      <td>0.00062</td>\n",
       "      <td>0.00040</td>\n",
       "      <td>0.00003</td>\n",
       "      <td>0.00000</td>\n",
       "      <td>0.00000</td>\n",
       "      <td>0.00000</td>\n",
       "      <td>0.00000</td>\n",
       "      <td>0.00413</td>\n",
       "      <td>0.00045</td>\n",
       "      <td>0.00242</td>\n",
       "      <td>0.00002</td>\n",
       "    </tr>\n",
       "    <tr>\n",
       "      <th>7</th>\n",
       "      <td>0.00481</td>\n",
       "      <td>0.00293</td>\n",
       "      <td>0.00054</td>\n",
       "      <td>0.00003</td>\n",
       "      <td>0.00000</td>\n",
       "      <td>0.00000</td>\n",
       "      <td>0.00000</td>\n",
       "      <td>0.00000</td>\n",
       "      <td>0.00489</td>\n",
       "      <td>0.00076</td>\n",
       "      <td>0.00103</td>\n",
       "      <td>0.00001</td>\n",
       "    </tr>\n",
       "    <tr>\n",
       "      <th>9</th>\n",
       "      <td>0.01036</td>\n",
       "      <td>0.00005</td>\n",
       "      <td>0.00002</td>\n",
       "      <td>0.00009</td>\n",
       "      <td>0.00000</td>\n",
       "      <td>0.00000</td>\n",
       "      <td>0.00000</td>\n",
       "      <td>0.00000</td>\n",
       "      <td>0.00023</td>\n",
       "      <td>0.00006</td>\n",
       "      <td>0.00004</td>\n",
       "      <td>0.00000</td>\n",
       "    </tr>\n",
       "  </tbody>\n",
       "</table>\n",
       "</div>"
      ],
      "text/plain": [
       "      CODUSU                                                                 \\\n",
       "IV6        1                                   2                              \n",
       "IV3        1        2        3        4        1        2        3        4   \n",
       "IV4                                                                           \n",
       "1    0.17850  0.00008  0.00015  0.00011  0.00019  0.00019  0.00003  0.00023   \n",
       "2    0.13920  0.09629  0.00507  0.00208  0.02264  0.03136  0.00496  0.00155   \n",
       "3    0.08916  0.00189  0.00021  0.00007  0.00018  0.00022  0.00139  0.00006   \n",
       "4    0.28368  0.04542  0.00188  0.00030  0.00701  0.01664  0.00519  0.00008   \n",
       "5    0.01876  0.00304  0.00025  0.00022  0.00000  0.00000  0.00001  0.00000   \n",
       "6    0.00089  0.00062  0.00040  0.00003  0.00000  0.00000  0.00000  0.00000   \n",
       "7    0.00481  0.00293  0.00054  0.00003  0.00000  0.00000  0.00000  0.00000   \n",
       "9    0.01036  0.00005  0.00002  0.00009  0.00000  0.00000  0.00000  0.00000   \n",
       "\n",
       "                                         \n",
       "IV6        3                             \n",
       "IV3        1        2        3        4  \n",
       "IV4                                      \n",
       "1    0.00015  0.00006  0.00050  0.00071  \n",
       "2    0.00043  0.00102  0.00023  0.00012  \n",
       "3    0.00192  0.00023  0.00012  0.00001  \n",
       "4    0.00034  0.00025  0.00022  0.00003  \n",
       "5    0.00029  0.00035  0.00119  0.00003  \n",
       "6    0.00413  0.00045  0.00242  0.00002  \n",
       "7    0.00489  0.00076  0.00103  0.00001  \n",
       "9    0.00023  0.00006  0.00004  0.00000  "
      ]
     },
     "execution_count": 275,
     "metadata": {},
     "output_type": "execute_result"
    }
   ],
   "source": [
    "p.round(5)"
   ]
  },
  {
   "cell_type": "code",
   "execution_count": 17,
   "metadata": {
    "collapsed": false
   },
   "outputs": [
    {
     "data": {
      "text/html": [
       "<div>\n",
       "<style scoped>\n",
       "    .dataframe tbody tr th:only-of-type {\n",
       "        vertical-align: middle;\n",
       "    }\n",
       "\n",
       "    .dataframe tbody tr th {\n",
       "        vertical-align: top;\n",
       "    }\n",
       "\n",
       "    .dataframe thead tr th {\n",
       "        text-align: left;\n",
       "    }\n",
       "\n",
       "    .dataframe thead tr:last-of-type th {\n",
       "        text-align: right;\n",
       "    }\n",
       "</style>\n",
       "<table border=\"1\" class=\"dataframe\">\n",
       "  <thead>\n",
       "    <tr>\n",
       "      <th></th>\n",
       "      <th colspan=\"12\" halign=\"left\">CODUSU</th>\n",
       "    </tr>\n",
       "    <tr>\n",
       "      <th>IV6</th>\n",
       "      <th colspan=\"4\" halign=\"left\">1</th>\n",
       "      <th colspan=\"4\" halign=\"left\">2</th>\n",
       "      <th colspan=\"4\" halign=\"left\">3</th>\n",
       "    </tr>\n",
       "    <tr>\n",
       "      <th>IV3</th>\n",
       "      <th>1</th>\n",
       "      <th>2</th>\n",
       "      <th>3</th>\n",
       "      <th>4</th>\n",
       "      <th>1</th>\n",
       "      <th>2</th>\n",
       "      <th>3</th>\n",
       "      <th>4</th>\n",
       "      <th>1</th>\n",
       "      <th>2</th>\n",
       "      <th>3</th>\n",
       "      <th>4</th>\n",
       "    </tr>\n",
       "    <tr>\n",
       "      <th>IV4</th>\n",
       "      <th></th>\n",
       "      <th></th>\n",
       "      <th></th>\n",
       "      <th></th>\n",
       "      <th></th>\n",
       "      <th></th>\n",
       "      <th></th>\n",
       "      <th></th>\n",
       "      <th></th>\n",
       "      <th></th>\n",
       "      <th></th>\n",
       "      <th></th>\n",
       "    </tr>\n",
       "  </thead>\n",
       "  <tbody>\n",
       "    <tr>\n",
       "      <th>1</th>\n",
       "      <td>0.26541</td>\n",
       "      <td>0.01281</td>\n",
       "      <td>0.00081</td>\n",
       "      <td>0.00071</td>\n",
       "      <td>0.00086</td>\n",
       "      <td>0.00112</td>\n",
       "      <td>0.00006</td>\n",
       "      <td>0.00009</td>\n",
       "      <td>0.00004</td>\n",
       "      <td>0.00001</td>\n",
       "      <td>0.00010</td>\n",
       "      <td>0.00002</td>\n",
       "    </tr>\n",
       "    <tr>\n",
       "      <th>2</th>\n",
       "      <td>0.20764</td>\n",
       "      <td>0.02167</td>\n",
       "      <td>0.00029</td>\n",
       "      <td>0.00043</td>\n",
       "      <td>0.00146</td>\n",
       "      <td>0.00233</td>\n",
       "      <td>0.00013</td>\n",
       "      <td>0.00016</td>\n",
       "      <td>0.00006</td>\n",
       "      <td>0.00024</td>\n",
       "      <td>0.00001</td>\n",
       "      <td>0.00004</td>\n",
       "    </tr>\n",
       "    <tr>\n",
       "      <th>3</th>\n",
       "      <td>0.06976</td>\n",
       "      <td>0.00202</td>\n",
       "      <td>0.00007</td>\n",
       "      <td>0.00012</td>\n",
       "      <td>0.00007</td>\n",
       "      <td>0.00013</td>\n",
       "      <td>0.00023</td>\n",
       "      <td>0.00005</td>\n",
       "      <td>0.00161</td>\n",
       "      <td>0.00043</td>\n",
       "      <td>0.00005</td>\n",
       "      <td>0.00001</td>\n",
       "    </tr>\n",
       "    <tr>\n",
       "      <th>4</th>\n",
       "      <td>0.24410</td>\n",
       "      <td>0.05471</td>\n",
       "      <td>0.00074</td>\n",
       "      <td>0.00043</td>\n",
       "      <td>0.00274</td>\n",
       "      <td>0.01023</td>\n",
       "      <td>0.00090</td>\n",
       "      <td>0.00004</td>\n",
       "      <td>0.00031</td>\n",
       "      <td>0.00060</td>\n",
       "      <td>0.00010</td>\n",
       "      <td>0.00004</td>\n",
       "    </tr>\n",
       "    <tr>\n",
       "      <th>5</th>\n",
       "      <td>0.00986</td>\n",
       "      <td>0.00223</td>\n",
       "      <td>0.00006</td>\n",
       "      <td>0.00018</td>\n",
       "      <td>0.00022</td>\n",
       "      <td>0.00035</td>\n",
       "      <td>0.00018</td>\n",
       "      <td>0.00001</td>\n",
       "      <td>0.00001</td>\n",
       "      <td>0.00003</td>\n",
       "      <td>0.00003</td>\n",
       "      <td>0.00000</td>\n",
       "    </tr>\n",
       "    <tr>\n",
       "      <th>6</th>\n",
       "      <td>0.00052</td>\n",
       "      <td>0.00049</td>\n",
       "      <td>0.00009</td>\n",
       "      <td>0.00003</td>\n",
       "      <td>0.00003</td>\n",
       "      <td>0.00025</td>\n",
       "      <td>0.00021</td>\n",
       "      <td>0.00001</td>\n",
       "      <td>0.00015</td>\n",
       "      <td>0.00003</td>\n",
       "      <td>0.00004</td>\n",
       "      <td>0.00000</td>\n",
       "    </tr>\n",
       "    <tr>\n",
       "      <th>7</th>\n",
       "      <td>0.00310</td>\n",
       "      <td>0.00257</td>\n",
       "      <td>0.00018</td>\n",
       "      <td>0.00003</td>\n",
       "      <td>0.00012</td>\n",
       "      <td>0.00043</td>\n",
       "      <td>0.00032</td>\n",
       "      <td>0.00001</td>\n",
       "      <td>0.00025</td>\n",
       "      <td>0.00007</td>\n",
       "      <td>0.00003</td>\n",
       "      <td>0.00000</td>\n",
       "    </tr>\n",
       "    <tr>\n",
       "      <th>9</th>\n",
       "      <td>0.07036</td>\n",
       "      <td>0.00043</td>\n",
       "      <td>0.00001</td>\n",
       "      <td>0.00040</td>\n",
       "      <td>0.00034</td>\n",
       "      <td>0.00009</td>\n",
       "      <td>0.00002</td>\n",
       "      <td>0.00000</td>\n",
       "      <td>0.00017</td>\n",
       "      <td>0.00004</td>\n",
       "      <td>0.00001</td>\n",
       "      <td>0.00000</td>\n",
       "    </tr>\n",
       "  </tbody>\n",
       "</table>\n",
       "</div>"
      ],
      "text/plain": [
       "      CODUSU                                                                 \\\n",
       "IV6        1                                   2                              \n",
       "IV3        1        2        3        4        1        2        3        4   \n",
       "IV4                                                                           \n",
       "1    0.26541  0.01281  0.00081  0.00071  0.00086  0.00112  0.00006  0.00009   \n",
       "2    0.20764  0.02167  0.00029  0.00043  0.00146  0.00233  0.00013  0.00016   \n",
       "3    0.06976  0.00202  0.00007  0.00012  0.00007  0.00013  0.00023  0.00005   \n",
       "4    0.24410  0.05471  0.00074  0.00043  0.00274  0.01023  0.00090  0.00004   \n",
       "5    0.00986  0.00223  0.00006  0.00018  0.00022  0.00035  0.00018  0.00001   \n",
       "6    0.00052  0.00049  0.00009  0.00003  0.00003  0.00025  0.00021  0.00001   \n",
       "7    0.00310  0.00257  0.00018  0.00003  0.00012  0.00043  0.00032  0.00001   \n",
       "9    0.07036  0.00043  0.00001  0.00040  0.00034  0.00009  0.00002  0.00000   \n",
       "\n",
       "                                         \n",
       "IV6        3                             \n",
       "IV3        1        2        3        4  \n",
       "IV4                                      \n",
       "1    0.00004  0.00001  0.00010  0.00002  \n",
       "2    0.00006  0.00024  0.00001  0.00004  \n",
       "3    0.00161  0.00043  0.00005  0.00001  \n",
       "4    0.00031  0.00060  0.00010  0.00004  \n",
       "5    0.00001  0.00003  0.00003  0.00000  \n",
       "6    0.00015  0.00003  0.00004  0.00000  \n",
       "7    0.00025  0.00007  0.00003  0.00000  \n",
       "9    0.00017  0.00004  0.00001  0.00000  "
      ]
     },
     "execution_count": 17,
     "metadata": {},
     "output_type": "execute_result"
    }
   ],
   "source": [
    "qjkl.round(5)"
   ]
  },
  {
   "cell_type": "code",
   "execution_count": 276,
   "metadata": {
    "collapsed": false
   },
   "outputs": [
    {
     "name": "stdout",
     "output_type": "stream",
     "text": [
      "IV6\n",
      "1    0.887161\n",
      "2    0.091963\n",
      "3    0.022240\n",
      "Name: CODUSU, dtype: float64\n",
      "IV4\n",
      "1    0.180919\n",
      "2    0.304957\n",
      "3    0.095481\n",
      "4    0.361025\n",
      "5    0.024144\n",
      "6    0.008970\n",
      "7    0.015011\n",
      "9    0.010857\n",
      "Name: CODUSU, dtype: float64\n",
      "IV3\n",
      "1    0.767781\n",
      "2    0.201914\n",
      "3    0.025882\n",
      "4    0.005787\n",
      "Name: CODUSU, dtype: float64\n"
     ]
    }
   ],
   "source": [
    "result_p_st = p.stack().stack().reset_index()\n",
    "\n",
    "print result_p_st.groupby('IV6')['CODUSU'].sum()\n",
    "\n",
    "print result_p_st.groupby('IV4')['CODUSU'].sum()\n",
    "\n",
    "print result_p_st.groupby('IV3')['CODUSU'].sum()"
   ]
  },
  {
   "cell_type": "code",
   "execution_count": 277,
   "metadata": {
    "collapsed": false
   },
   "outputs": [
    {
     "data": {
      "text/plain": [
       "[array([ 0.17928839,  0.30580031,  0.09560977,  0.3615159 ,  0.02412938,\n",
       "         0.00890009,  0.01495176,  0.0098044 ]),\n",
       " array([ 0.88547345,  0.09249319,  0.02203337]),\n",
       " array([ 0.76582935,  0.20284505,  0.0258418 ,  0.0054838 ])]"
      ]
     },
     "execution_count": 277,
     "metadata": {},
     "output_type": "execute_result"
    }
   ],
   "source": [
    "margins_v"
   ]
  },
  {
   "cell_type": "markdown",
   "metadata": {},
   "source": [
    "### Shapefiles aglomerados"
   ]
  },
  {
   "cell_type": "code",
   "execution_count": 21,
   "metadata": {
    "collapsed": true
   },
   "outputs": [],
   "source": [
    "import geopandas as gpd\n",
    "import shapely.geometry as geometry\n"
   ]
  },
  {
   "cell_type": "code",
   "execution_count": 135,
   "metadata": {
    "collapsed": false
   },
   "outputs": [],
   "source": [
    "# gdf = gpd.read_file('./../radios_censo_2010_aglos/radios_censo_2010_aglos.shp')\n",
    "# gdf = gdf.drop('AREA', axis = 1)\n",
    "# gdf['geometry'] = [geometry.Point(xy) for xy in zip(gdf.X, gdf.Y)]\n",
    "# gdf.to_file(driver = 'ESRI Shapefile', filename = './aglos_w_centroid.shp')\n",
    "\n",
    "# g1 = gpd.GeoDataFrame.from_file(\"aglos_w_centroid.shp\")\n",
    "# g2 = gpd.GeoDataFrame.from_file(\"./../radios_w_geometry.shp\")\n",
    "\n",
    "merged = g1[['REDCODE','AGLO_EPH', 'geometry']].merge(g2[['LINK', 'PROVINCIA', 'POBLACION_', 'VIVIENDAS_', 'HOGARES', 'geometry']]\n",
    "                                             , left_on = ['REDCODE'], right_on = ['LINK'])"
   ]
  },
  {
   "cell_type": "code",
   "execution_count": 179,
   "metadata": {
    "collapsed": false
   },
   "outputs": [],
   "source": [
    "correccion_AGLOS = { u'0001': 32, #capital CABA\n",
    " u'0002': 13, #cordoba\n",
    " u'0003': 4, #rosario\n",
    " u'0004': 10, #mendoza\n",
    " u'0005': 2, #la plata\n",
    " u'0006': 29, #tucuman\n",
    " u'0007': 34, #mar del plata\n",
    " u'0008': 5, #sta fe\n",
    " u'0009': 23,# salta\n",
    " u'0010': 27,# san juan\n",
    " u'0011': 8,# resistencia\n",
    " u'0012': 18, #sgo del estero\n",
    " u'0013': 12, #corrientes\n",
    " u'0014': 3,# bahia blanca\n",
    " u'0015': 17, #neuquen\n",
    " u'0016': 6, #parana\n",
    " u'0017': 7, #posadas\n",
    " u'0018': 19, #jujuy\n",
    " u'0019': 15, #formosa\n",
    " u'0020': 36, #rio cuarto\n",
    " u'0021': 22, #catamarca\n",
    " u'0022': 9, #cdro rivadavia\n",
    " u'0023': 23, #concordia\n",
    " u'0024': 38, #san nicolas\n",
    " u'0025': 26, #san luis\n",
    " u'0026': 25, #la rioja\n",
    " u'0029': 30, #santa rosa\n",
    " u'0044': 20, # Rio gallegos\n",
    " u'0050': 93, #Viedma (patagones ? )\n",
    " u'0086': 31, #Ushuaia rio grande\n",
    " u'0135': 91, #Rawson - trelew\n",
    " u'1000': 33 }#  GBA\n",
    "merged['AGLOMERADO'] = merged['AGLO_EPH'].map(correccion_AGLOS)\n"
   ]
  },
  {
   "cell_type": "code",
   "execution_count": 173,
   "metadata": {
    "collapsed": false
   },
   "outputs": [],
   "source": [
    "#Poblacion de aglomerados\n",
    "# merged.groupby('AGLO_EPH')[['POBLACION_', 'VIVIENDAS_', 'HOGARES']].sum()"
   ]
  },
  {
   "cell_type": "code",
   "execution_count": 192,
   "metadata": {
    "collapsed": false
   },
   "outputs": [],
   "source": [
    "VIEDMA = merged.loc[merged.AGLOMERADO == 93][['LINK']].rename(columns = {'LINK': 'radio'})"
   ]
  },
  {
   "cell_type": "markdown",
   "metadata": {},
   "source": [
    "## Ajuste de los radios censales de un aglomerado"
   ]
  },
  {
   "cell_type": "code",
   "execution_count": 228,
   "metadata": {
    "collapsed": false
   },
   "outputs": [
    {
     "name": "stderr",
     "output_type": "stream",
     "text": [
      "/home/miglesia/anaconda2/lib/python2.7/site-packages/pandas/core/indexing.py:543: SettingWithCopyWarning: \n",
      "A value is trying to be set on a copy of a slice from a DataFrame.\n",
      "Try using .loc[row_indexer,col_indexer] = value instead\n",
      "\n",
      "See the caveats in the documentation: http://pandas.pydata.org/pandas-docs/stable/indexing.html#indexing-view-versus-copy\n",
      "  self.obj[item] = s\n"
     ]
    }
   ],
   "source": [
    "VIEDMA['radio'] = VIEDMA['radio'].astype(int)\n",
    "IV3_censo['radio'] = IV3_censo['radio'].astype(int)\n",
    "\n",
    "for df in [IV1_censo, IV3_censo, IV4_censo, IV5_censo, IV6_censo,\n",
    "           IV7_censo, IV8_censo, IV10_censo, IV11_censo, II9_censo, II8_censo, II7_censo, IX_TOT_censo]:\n",
    "    \n",
    "    df.iloc[:, 1:-1] = df.iloc[:, 1:-1].div(df['TOTAL'], axis = 0)"
   ]
  },
  {
   "cell_type": "code",
   "execution_count": 227,
   "metadata": {
    "collapsed": false
   },
   "outputs": [],
   "source": []
  },
  {
   "cell_type": "code",
   "execution_count": 231,
   "metadata": {
    "collapsed": false
   },
   "outputs": [],
   "source": [
    "merged = VIEDMA.merge(IV1_censo.iloc[:, :-1]\n",
    "                ).merge(IV3_censo.iloc[:, :-1], on = 'radio'\n",
    "                       ).merge(IV4_censo.iloc[:, :-1], on = 'radio'\n",
    "                              ).merge(IV5_censo.iloc[:, :-1], on = 'radio'\n",
    "                                     ).merge(IV6_censo.iloc[:, :-1], on = 'radio')\n"
   ]
  },
  {
   "cell_type": "code",
   "execution_count": 234,
   "metadata": {
    "collapsed": false
   },
   "outputs": [
    {
     "data": {
      "text/plain": [
       "radio                                                 6.200705e+08\n",
       "1 Casa                                                7.500000e-01\n",
       "2 Departamento                                        2.400000e-01\n",
       "3 Pieza de inquilinato                                0.000000e+00\n",
       "4 Pieza en hotel / pensión                            0.000000e+00\n",
       "5 Local no construido para habitación                 0.000000e+00\n",
       "6 Otros                                               1.000000e-02\n",
       "1 Mosaico / baldosa / madera / cerámica / alfombra    9.300000e-01\n",
       "2 Cemento / ladrillo fijo                             7.000000e-02\n",
       "3 Ladrillo suelto / tierra                            0.000000e+00\n",
       "4 Otro                                                0.000000e+00\n",
       "1 Membrana / cubierta asfáltica                       3.000000e-02\n",
       "2 Baldosa / losa sin cubierta                         3.000000e-01\n",
       "3 Pizarra / teja                                      1.300000e-01\n",
       "4 Chapa de metal sin cubierta                         5.200000e-01\n",
       "5 Chapa de fibrocemento / plástico                    1.000000e-02\n",
       "6 Chapa de cartón                                     1.000000e-02\n",
       "7 Caña / tabla / paja con barro / paja sola           0.000000e+00\n",
       "9 N/S. Depto en propiedad horizontal                  0.000000e+00\n",
       "1 Sí                                                  8.500000e-01\n",
       "2 No                                                  1.500000e-01\n",
       "1 Por cañeria dentro de la vivienda                   9.900000e-01\n",
       "2 Fuera de la vivienda pero dentro del terreno        1.000000e-02\n",
       "3 Fuera del terreno                                   0.000000e+00\n",
       "Name: 2, dtype: float64"
      ]
     },
     "execution_count": 234,
     "metadata": {},
     "output_type": "execute_result"
    }
   ],
   "source": [
    "merged.loc[2].round(2)"
   ]
  },
  {
   "cell_type": "code",
   "execution_count": 240,
   "metadata": {
    "collapsed": false
   },
   "outputs": [
    {
     "data": {
      "text/plain": [
       "(4, 3, 2, 1)"
      ]
     },
     "execution_count": 240,
     "metadata": {},
     "output_type": "execute_result"
    }
   ],
   "source": [
    "tuple(range(5 - 1, 0, -1))"
   ]
  },
  {
   "cell_type": "code",
   "execution_count": 278,
   "metadata": {
    "collapsed": false
   },
   "outputs": [],
   "source": [
    "info_dfs = [IV1_censo, IV3_censo, IV4_censo, IV5_censo, IV6_censo]\n",
    "T = len(info_dfs)\n",
    "\n",
    "qjkl = df.groupby(['IV1', 'IV3', 'IV4', 'IV5', 'IV6'])[['CODUSU']].nunique() # how many IDs with each combination\n",
    "qjkl /= qjkl.sum()\n",
    "\n",
    "q_ix = pd.MultiIndex.from_product(qjkl.index.levels, names=qjkl.index.names)\n",
    "qjkl = qjkl.reindex(q_ix, fill_value = 0)\n",
    "\n",
    "\n",
    "qjkl = qjkl.unstack(tuple(range(T - 1, 0, -1))).sort_index(axis = 1)\n",
    "\n",
    "margins_s = []\n",
    "margins_v = []\n",
    "shape_ = np.zeros(T, dtype = int)\n",
    "\n",
    "for t in range(T):\n",
    "    margin_series = (info_dfs[t].iloc[:, 1:-1].sum()/info_dfs[t].TOTAL.sum())\n",
    "    margins_s += [margin_series]\n",
    "    margins_v += [margin_series.values]\n",
    "    shape_[t] = len(margin_series)\n",
    "    \n",
    "a, b, c, d, e = tuple([m.values for m in margins_s])\n",
    "df_ = pd.DataFrame(np.prod(np.ix_(a, b, c, d, e)).reshape(qjkl.values.shape), \n",
    "                  columns = qjkl.columns, index = qjkl.index)\n",
    "uncorr_fill_p = df_\n",
    "\n",
    "uncorr_fill_q = df_ * (qjkl == 0).astype(int)\n",
    "qjkl = (1 - uncorr_fill_q.sum().sum())*qjkl + uncorr_fill_q"
   ]
  },
  {
   "cell_type": "code",
   "execution_count": 279,
   "metadata": {
    "collapsed": false
   },
   "outputs": [
    {
     "data": {
      "text/html": [
       "<div>\n",
       "<style scoped>\n",
       "    .dataframe tbody tr th:only-of-type {\n",
       "        vertical-align: middle;\n",
       "    }\n",
       "\n",
       "    .dataframe tbody tr th {\n",
       "        vertical-align: top;\n",
       "    }\n",
       "\n",
       "    .dataframe thead tr th {\n",
       "        text-align: left;\n",
       "    }\n",
       "\n",
       "    .dataframe thead tr:last-of-type th {\n",
       "        text-align: right;\n",
       "    }\n",
       "</style>\n",
       "<table border=\"1\" class=\"dataframe\">\n",
       "  <thead>\n",
       "    <tr>\n",
       "      <th></th>\n",
       "      <th colspan=\"21\" halign=\"left\">CODUSU</th>\n",
       "    </tr>\n",
       "    <tr>\n",
       "      <th>IV6</th>\n",
       "      <th colspan=\"10\" halign=\"left\">1</th>\n",
       "      <th>...</th>\n",
       "      <th colspan=\"10\" halign=\"left\">3</th>\n",
       "    </tr>\n",
       "    <tr>\n",
       "      <th>IV5</th>\n",
       "      <th colspan=\"10\" halign=\"left\">1</th>\n",
       "      <th>...</th>\n",
       "      <th colspan=\"10\" halign=\"left\">2</th>\n",
       "    </tr>\n",
       "    <tr>\n",
       "      <th>IV4</th>\n",
       "      <th colspan=\"4\" halign=\"left\">1</th>\n",
       "      <th colspan=\"4\" halign=\"left\">2</th>\n",
       "      <th colspan=\"2\" halign=\"left\">3</th>\n",
       "      <th>...</th>\n",
       "      <th colspan=\"2\" halign=\"left\">6</th>\n",
       "      <th colspan=\"4\" halign=\"left\">7</th>\n",
       "      <th colspan=\"4\" halign=\"left\">9</th>\n",
       "    </tr>\n",
       "    <tr>\n",
       "      <th>IV3</th>\n",
       "      <th>1</th>\n",
       "      <th>2</th>\n",
       "      <th>3</th>\n",
       "      <th>4</th>\n",
       "      <th>1</th>\n",
       "      <th>2</th>\n",
       "      <th>3</th>\n",
       "      <th>4</th>\n",
       "      <th>1</th>\n",
       "      <th>2</th>\n",
       "      <th>...</th>\n",
       "      <th>3</th>\n",
       "      <th>4</th>\n",
       "      <th>1</th>\n",
       "      <th>2</th>\n",
       "      <th>3</th>\n",
       "      <th>4</th>\n",
       "      <th>1</th>\n",
       "      <th>2</th>\n",
       "      <th>3</th>\n",
       "      <th>4</th>\n",
       "    </tr>\n",
       "    <tr>\n",
       "      <th>IV1</th>\n",
       "      <th></th>\n",
       "      <th></th>\n",
       "      <th></th>\n",
       "      <th></th>\n",
       "      <th></th>\n",
       "      <th></th>\n",
       "      <th></th>\n",
       "      <th></th>\n",
       "      <th></th>\n",
       "      <th></th>\n",
       "      <th></th>\n",
       "      <th></th>\n",
       "      <th></th>\n",
       "      <th></th>\n",
       "      <th></th>\n",
       "      <th></th>\n",
       "      <th></th>\n",
       "      <th></th>\n",
       "      <th></th>\n",
       "      <th></th>\n",
       "      <th></th>\n",
       "    </tr>\n",
       "  </thead>\n",
       "  <tbody>\n",
       "    <tr>\n",
       "      <th>1</th>\n",
       "      <td>0.139825</td>\n",
       "      <td>0.005215</td>\n",
       "      <td>0.000366</td>\n",
       "      <td>0.000293</td>\n",
       "      <td>0.099717</td>\n",
       "      <td>0.007869</td>\n",
       "      <td>0.000063</td>\n",
       "      <td>0.000188</td>\n",
       "      <td>0.043202</td>\n",
       "      <td>0.001066</td>\n",
       "      <td>...</td>\n",
       "      <td>3.135094e-05</td>\n",
       "      <td>1.540872e-05</td>\n",
       "      <td>1.609537e-06</td>\n",
       "      <td>3.834176e-07</td>\n",
       "      <td>1.045031e-05</td>\n",
       "      <td>2.767866e-06</td>\n",
       "      <td>6.593503e-07</td>\n",
       "      <td>1.010405e-05</td>\n",
       "      <td>1.055430e-06</td>\n",
       "      <td>2.514205e-07</td>\n",
       "    </tr>\n",
       "    <tr>\n",
       "      <th>2</th>\n",
       "      <td>0.035374</td>\n",
       "      <td>0.000805</td>\n",
       "      <td>0.000063</td>\n",
       "      <td>0.000167</td>\n",
       "      <td>0.033546</td>\n",
       "      <td>0.000899</td>\n",
       "      <td>0.028428</td>\n",
       "      <td>0.000094</td>\n",
       "      <td>0.003877</td>\n",
       "      <td>0.000052</td>\n",
       "      <td>...</td>\n",
       "      <td>2.476574e-07</td>\n",
       "      <td>3.795164e-06</td>\n",
       "      <td>3.964284e-07</td>\n",
       "      <td>9.443563e-08</td>\n",
       "      <td>6.526415e-06</td>\n",
       "      <td>6.817245e-07</td>\n",
       "      <td>1.623978e-07</td>\n",
       "      <td>2.488624e-06</td>\n",
       "      <td>2.599522e-07</td>\n",
       "      <td>6.192480e-08</td>\n",
       "    </tr>\n",
       "    <tr>\n",
       "      <th>3</th>\n",
       "      <td>0.000449</td>\n",
       "      <td>0.000115</td>\n",
       "      <td>0.000031</td>\n",
       "      <td>0.000165</td>\n",
       "      <td>0.000314</td>\n",
       "      <td>0.000031</td>\n",
       "      <td>0.000736</td>\n",
       "      <td>0.000077</td>\n",
       "      <td>0.000021</td>\n",
       "      <td>0.000010</td>\n",
       "      <td>...</td>\n",
       "      <td>6.415536e-09</td>\n",
       "      <td>9.831328e-08</td>\n",
       "      <td>1.026943e-08</td>\n",
       "      <td>2.446344e-09</td>\n",
       "      <td>1.690660e-07</td>\n",
       "      <td>1.765999e-08</td>\n",
       "      <td>4.206895e-09</td>\n",
       "      <td>6.446751e-08</td>\n",
       "      <td>6.734031e-09</td>\n",
       "      <td>1.604155e-09</td>\n",
       "    </tr>\n",
       "    <tr>\n",
       "      <th>4</th>\n",
       "      <td>0.000303</td>\n",
       "      <td>0.000073</td>\n",
       "      <td>0.000021</td>\n",
       "      <td>0.000055</td>\n",
       "      <td>0.000251</td>\n",
       "      <td>0.000042</td>\n",
       "      <td>0.000248</td>\n",
       "      <td>0.000026</td>\n",
       "      <td>0.000010</td>\n",
       "      <td>0.000094</td>\n",
       "      <td>...</td>\n",
       "      <td>2.158741e-09</td>\n",
       "      <td>3.308108e-08</td>\n",
       "      <td>3.455524e-09</td>\n",
       "      <td>8.231615e-10</td>\n",
       "      <td>5.688842e-08</td>\n",
       "      <td>5.942347e-09</td>\n",
       "      <td>1.415563e-09</td>\n",
       "      <td>2.169244e-08</td>\n",
       "      <td>2.265910e-09</td>\n",
       "      <td>5.397762e-10</td>\n",
       "    </tr>\n",
       "    <tr>\n",
       "      <th>5</th>\n",
       "      <td>0.000021</td>\n",
       "      <td>0.000012</td>\n",
       "      <td>0.000003</td>\n",
       "      <td>0.000045</td>\n",
       "      <td>0.000042</td>\n",
       "      <td>0.000001</td>\n",
       "      <td>0.000200</td>\n",
       "      <td>0.000021</td>\n",
       "      <td>0.000005</td>\n",
       "      <td>0.000076</td>\n",
       "      <td>...</td>\n",
       "      <td>1.739054e-09</td>\n",
       "      <td>2.664970e-08</td>\n",
       "      <td>2.783726e-09</td>\n",
       "      <td>6.631284e-10</td>\n",
       "      <td>4.582858e-08</td>\n",
       "      <td>4.787079e-09</td>\n",
       "      <td>1.140359e-09</td>\n",
       "      <td>1.747515e-08</td>\n",
       "      <td>1.825388e-09</td>\n",
       "      <td>4.348368e-10</td>\n",
       "    </tr>\n",
       "    <tr>\n",
       "      <th>6</th>\n",
       "      <td>0.000052</td>\n",
       "      <td>0.000312</td>\n",
       "      <td>0.000074</td>\n",
       "      <td>0.001139</td>\n",
       "      <td>0.000052</td>\n",
       "      <td>0.000010</td>\n",
       "      <td>0.005094</td>\n",
       "      <td>0.000532</td>\n",
       "      <td>0.000127</td>\n",
       "      <td>0.001942</td>\n",
       "      <td>...</td>\n",
       "      <td>4.437840e-08</td>\n",
       "      <td>6.800656e-07</td>\n",
       "      <td>7.103706e-08</td>\n",
       "      <td>1.692217e-08</td>\n",
       "      <td>1.045031e-05</td>\n",
       "      <td>1.221600e-07</td>\n",
       "      <td>2.910049e-08</td>\n",
       "      <td>4.459432e-07</td>\n",
       "      <td>4.658153e-08</td>\n",
       "      <td>1.109647e-08</td>\n",
       "    </tr>\n",
       "  </tbody>\n",
       "</table>\n",
       "<p>6 rows × 192 columns</p>\n",
       "</div>"
      ],
      "text/plain": [
       "       CODUSU                                                              \\\n",
       "IV6         1                                                               \n",
       "IV5         1                                                               \n",
       "IV4         1                                       2                       \n",
       "IV3         1         2         3         4         1         2         3   \n",
       "IV1                                                                         \n",
       "1    0.139825  0.005215  0.000366  0.000293  0.099717  0.007869  0.000063   \n",
       "2    0.035374  0.000805  0.000063  0.000167  0.033546  0.000899  0.028428   \n",
       "3    0.000449  0.000115  0.000031  0.000165  0.000314  0.000031  0.000736   \n",
       "4    0.000303  0.000073  0.000021  0.000055  0.000251  0.000042  0.000248   \n",
       "5    0.000021  0.000012  0.000003  0.000045  0.000042  0.000001  0.000200   \n",
       "6    0.000052  0.000312  0.000074  0.001139  0.000052  0.000010  0.005094   \n",
       "\n",
       "                                       ...                                   \\\n",
       "IV6                                    ...                  3                 \n",
       "IV5                                    ...                  2                 \n",
       "IV4                   3                ...                  6                 \n",
       "IV3         4         1         2      ...                  3             4   \n",
       "IV1                                    ...                                    \n",
       "1    0.000188  0.043202  0.001066      ...       3.135094e-05  1.540872e-05   \n",
       "2    0.000094  0.003877  0.000052      ...       2.476574e-07  3.795164e-06   \n",
       "3    0.000077  0.000021  0.000010      ...       6.415536e-09  9.831328e-08   \n",
       "4    0.000026  0.000010  0.000094      ...       2.158741e-09  3.308108e-08   \n",
       "5    0.000021  0.000005  0.000076      ...       1.739054e-09  2.664970e-08   \n",
       "6    0.000532  0.000127  0.001942      ...       4.437840e-08  6.800656e-07   \n",
       "\n",
       "                                                                           \\\n",
       "IV6                                                                         \n",
       "IV5                                                                         \n",
       "IV4             7                                                       9   \n",
       "IV3             1             2             3             4             1   \n",
       "IV1                                                                         \n",
       "1    1.609537e-06  3.834176e-07  1.045031e-05  2.767866e-06  6.593503e-07   \n",
       "2    3.964284e-07  9.443563e-08  6.526415e-06  6.817245e-07  1.623978e-07   \n",
       "3    1.026943e-08  2.446344e-09  1.690660e-07  1.765999e-08  4.206895e-09   \n",
       "4    3.455524e-09  8.231615e-10  5.688842e-08  5.942347e-09  1.415563e-09   \n",
       "5    2.783726e-09  6.631284e-10  4.582858e-08  4.787079e-09  1.140359e-09   \n",
       "6    7.103706e-08  1.692217e-08  1.045031e-05  1.221600e-07  2.910049e-08   \n",
       "\n",
       "                                               \n",
       "IV6                                            \n",
       "IV5                                            \n",
       "IV4                                            \n",
       "IV3             2             3             4  \n",
       "IV1                                            \n",
       "1    1.010405e-05  1.055430e-06  2.514205e-07  \n",
       "2    2.488624e-06  2.599522e-07  6.192480e-08  \n",
       "3    6.446751e-08  6.734031e-09  1.604155e-09  \n",
       "4    2.169244e-08  2.265910e-09  5.397762e-10  \n",
       "5    1.747515e-08  1.825388e-09  4.348368e-10  \n",
       "6    4.459432e-07  4.658153e-08  1.109647e-08  \n",
       "\n",
       "[6 rows x 192 columns]"
      ]
     },
     "execution_count": 279,
     "metadata": {},
     "output_type": "execute_result"
    }
   ],
   "source": [
    "qjkl"
   ]
  },
  {
   "cell_type": "markdown",
   "metadata": {
    "collapsed": false
   },
   "source": [
    "### Lagrangian approach"
   ]
  },
  {
   "cell_type": "code",
   "execution_count": null,
   "metadata": {
    "collapsed": true
   },
   "outputs": [],
   "source": [
    "# def L(x, q_mat, margins):\n",
    "#     shape = np.array(q_mat.shape)\n",
    "#     len_a = shape.sum()\n",
    "#     p_mat = np.array(x[:-len_a]).reshape(shape)\n",
    "#     a = np.array(x[-len_a:])\n",
    "    \n",
    "#     if np.random.rand() < 0.0001:\n",
    "#         print p_mat\n",
    "#         print a\n",
    "\n",
    "#     MaxEnt = (p_mat*np.log(p_mat/q_mat))\n",
    "    \n",
    "#     a_ix = np.insert(shape.cumsum(), [0], 0)\n",
    "    \n",
    "#     lambda_terms = np.zeros(len(shape))\n",
    "#     for dim in range(len(shape)):\n",
    "#         lambda_terms[dim] = np.dot(a[a_ix[dim]:a_ix[dim + 1]], \n",
    "#                                    margins[dim].values - p_mat.sum(axis = tuple([i for i in range(len(shape)) if i != dim])))\n",
    "\n",
    "#     return MaxEnt.sum() + lambda_terms.sum()"
   ]
  }
 ],
 "metadata": {
  "kernelspec": {
   "display_name": "Python 2",
   "language": "python",
   "name": "python2"
  },
  "language_info": {
   "codemirror_mode": {
    "name": "ipython",
    "version": 2
   },
   "file_extension": ".py",
   "mimetype": "text/x-python",
   "name": "python",
   "nbconvert_exporter": "python",
   "pygments_lexer": "ipython2",
   "version": "2.7.13"
  }
 },
 "nbformat": 4,
 "nbformat_minor": 2
}
