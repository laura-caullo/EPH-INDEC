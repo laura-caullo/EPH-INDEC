{
 "cells": [
  {
   "cell_type": "code",
   "execution_count": 1,
   "metadata": {
    "collapsed": true
   },
   "outputs": [],
   "source": [
    "import pandas as pd\n",
    "import numpy as np"
   ]
  },
  {
   "cell_type": "markdown",
   "metadata": {},
   "source": [
    "## EPH survey data"
   ]
  },
  {
   "cell_type": "code",
   "execution_count": 332,
   "metadata": {
    "collapsed": false
   },
   "outputs": [],
   "source": [
    "df = pd.read_csv('./../resumen_EPH_hogar.csv')\n",
    "df = df.loc[df.IV1 != 9]\n",
    "df['IV10'] = df['IV10'].map({1: 1, 2: 2, 3: 2, 0: 0, 9: 9})\n",
    "df['II9'] = df['II9'].map({1: 1, 2: 2, 3: 2, 4: 4, 0: 0})\n",
    "df['II7'] = df['II7'].map({1: 1, 2: 2, 3: 3, 4: 4, 5: 5, 6: 6, 7: 6, 8: 6, 9: 6, 0: 0})\n",
    "df['IX_TOT'] = df['IX_TOT'].clip(0, 8)\n"
   ]
  },
  {
   "cell_type": "code",
   "execution_count": 4,
   "metadata": {
    "collapsed": false
   },
   "outputs": [],
   "source": [
    "# df.groupby(['AGLOMERADO']).nunique()"
   ]
  },
  {
   "cell_type": "code",
   "execution_count": 3,
   "metadata": {
    "collapsed": false
   },
   "outputs": [],
   "source": [
    "# for col in df.iloc[:, 2:].columns:\n",
    "#     print col\n",
    "#     print sorted(df[col].unique())"
   ]
  },
  {
   "cell_type": "markdown",
   "metadata": {},
   "source": [
    "## 2010 ARG Census data"
   ]
  },
  {
   "cell_type": "code",
   "execution_count": 5,
   "metadata": {
    "collapsed": true
   },
   "outputs": [],
   "source": [
    "path = './../../Datos_censo/Preguntas/'\n",
    "\n",
    "VIVIENDA_V01 = pd.read_csv(path + 'VIVIENDA-V01.csv', encoding = 'latin-1')\n",
    "HOGAR_H05 = pd.read_csv(path + 'HOGAR-H05.csv', encoding = 'latin-1') # Pisos\n",
    "HOGAR_H06 = pd.read_csv(path + 'HOGAR-H06.csv', encoding = 'latin-1') # Cubierta techos\n",
    "HOGAR_H07 = pd.read_csv(path + 'HOGAR-H07.csv', encoding = 'latin-1') # Cielorraso\n",
    "HOGAR_H08 = pd.read_csv(path + 'HOGAR-H08.csv', encoding = 'latin-1') # Agua\n",
    "HOGAR_H09 = pd.read_csv(path + 'HOGAR-H09.csv', encoding = 'latin-1') # Procedencia agua\n",
    "HOGAR_H10 = pd.read_csv(path + 'HOGAR-H10.csv', encoding = 'latin-1') # Tiene baño\n",
    "HOGAR_H11 = pd.read_csv(path + 'HOGAR-H11.csv', encoding = 'latin-1') # Baño con cadena\n",
    "HOGAR_H12 = pd.read_csv(path + 'HOGAR-H12.csv', encoding = 'latin-1') # Desague baño\n",
    "HOGAR_H13 = pd.read_csv(path + 'HOGAR-H13.csv', encoding = 'latin-1') # Baño uso exclusivo\n",
    "HOGAR_H14 = pd.read_csv(path + 'HOGAR-H14.csv', encoding = 'latin-1') # Combustible cocina\n",
    "HOGAR_PROP = pd.read_csv(path + 'HOGAR-PROP.csv', encoding = 'latin-1') # Regimen tenencia\n",
    "HOGAR_TOTPERS = pd.read_csv(path + 'HOGAR-TOTPERS.csv', encoding = 'latin-1') # Personas en hogar\n",
    "\n",
    "df_list = [VIVIENDA_V01, HOGAR_H05, HOGAR_H06, HOGAR_H07, HOGAR_H08, HOGAR_H09, \n",
    "          HOGAR_H10, HOGAR_H11, HOGAR_H12, HOGAR_H13, HOGAR_H14, HOGAR_PROP, HOGAR_TOTPERS]"
   ]
  },
  {
   "cell_type": "markdown",
   "metadata": {},
   "source": [
    "## Harmonise variables (let valid answers match exactly in both datasets)"
   ]
  },
  {
   "cell_type": "code",
   "execution_count": 217,
   "metadata": {
    "collapsed": false
   },
   "outputs": [],
   "source": [
    "\n",
    "VIVIENDA_V01['2 Departamento'] = VIVIENDA_V01['4 Departamento']\n",
    "VIVIENDA_V01['3 Pieza de inquilinato'] = VIVIENDA_V01['5 Pieza en inquilinato']\n",
    "VIVIENDA_V01[u'4 Pieza en hotel / pensión'] = VIVIENDA_V01[u'6 Pieza en hotel familiar o pensión']\n",
    "VIVIENDA_V01[u'5 Local no construido para habitación'] = VIVIENDA_V01[u'7 Local no construido para habitación']\n",
    "VIVIENDA_V01['6 Otros'] = VIVIENDA_V01['2 Rancho'] + VIVIENDA_V01['3 Casilla'] + VIVIENDA_V01[u'8 Vivienda móvil'] + VIVIENDA_V01['9 Persona/s viviendo en la calle']\n",
    "\n",
    "IV1_censo = VIVIENDA_V01[['radio', '1 Casa', '2 Departamento', '3 Pieza de inquilinato', u'4 Pieza en hotel / pensión',\n",
    "                         u'5 Local no construido para habitación', '6 Otros', 'TOTAL']]\n",
    "IV3_censo = HOGAR_H05\n",
    "IV3_censo.columns = ['radio', '1 Mosaico / baldosa / madera / cerámica / alfombra', \n",
    "                    '2 Cemento / ladrillo fijo', '3 Ladrillo suelto / tierra', '4 Otro', 'TOTAL']\n",
    "\n",
    "IV4_censo = HOGAR_H06\n",
    "IV4_censo.columns = ['radio', '1 Membrana / cubierta asfáltica', '2 Baldosa / losa sin cubierta', '3 Pizarra / teja', \n",
    "                     '4 Chapa de metal sin cubierta', '5 Chapa de fibrocemento / plástico', '6 Chapa de cartón', \n",
    "                     '7 Caña / tabla / paja con barro / paja sola', '9 N/S. Depto en propiedad horizontal', 'TOTAL']\n",
    "\n",
    "IV5_censo = HOGAR_H07\n",
    "IV6_censo = HOGAR_H08\n",
    "IV7_censo = HOGAR_H09\n",
    "IV7_censo['4 Otra fuente'] = HOGAR_H09['4 Pozo'] + HOGAR_H09['5 Transporte por cisterna'] + \\\n",
    " HOGAR_H09[u'6 Agua de lluvia, río, canal, arroyo o acequia']\n",
    "IV7_censo = IV7_censo[[u'radio', u'1 Red pública', u'2 Perforación con bomba a motor',\n",
    "                      u'3 Perforación con bomba manual', u'4 Otra fuente', u'TOTAL']]\n",
    "\n",
    "IV8_censo = HOGAR_H10\n",
    "IV10_censo = HOGAR_H11\n",
    "IV11_censo = HOGAR_H12\n",
    "II9_censo = HOGAR_H13\n",
    "\n",
    "II8_censo = HOGAR_H14\n",
    "II8_censo['2 Gas de tubo / garrafa'] = HOGAR_H14['3 Gas en tubo'] + HOGAR_H14['4 Gas en garrafa']\n",
    "II8_censo[u'3 Kerosene / leña/ carbón'] = HOGAR_H14[u'6 Leña o carbón']\n",
    "II8_censo['4 Otro'] = HOGAR_H14[u'2 Gas a granel (zeppelin)'] + HOGAR_H14[u'5 Electricidad'] + HOGAR_H14[u'7 Otro']\n",
    "\n",
    "II8_censo = II8_censo[['radio', '1 Gas de red', '2 Gas de tubo / garrafa', u'3 Kerosene / leña/ carbón', '4 Otro', 'TOTAL']]\n",
    "\n",
    "II7_censo = HOGAR_PROP\n",
    "\n",
    "IX_TOT_censo = HOGAR_TOTPERS"
   ]
  },
  {
   "cell_type": "markdown",
   "metadata": {},
   "source": [
    "## Intento Max Ent\n",
    "\n",
    "#### Margins"
   ]
  },
  {
   "cell_type": "code",
   "execution_count": 213,
   "metadata": {
    "collapsed": false
   },
   "outputs": [
    {
     "data": {
      "text/plain": [
       "1 Membrana / cubierta asfáltica                0.179288\n",
       "2 Baldosa / losa sin cubierta                  0.305800\n",
       "3 Pizarra / teja                               0.095610\n",
       "4 Chapa de metal sin cubierta                  0.361516\n",
       "5 Chapa de fibrocemento / plástico             0.024129\n",
       "6 Chapa de cartón                              0.008900\n",
       "7 Caña / tabla / paja con barro / paja sola    0.014952\n",
       "9 N/S. Depto en propiedad horizontal           0.009804\n",
       "TOTAL                                          1.000000\n",
       "dtype: float64"
      ]
     },
     "execution_count": 213,
     "metadata": {},
     "output_type": "execute_result"
    }
   ],
   "source": [
    "# From whole country data, we can only have margins. Same for a given district or precint.\n",
    "\n",
    "tot_viviendas = 12171675.\n",
    "IV4_censo.iloc[:, 1:].sum()/tot_viviendas"
   ]
  },
  {
   "cell_type": "code",
   "execution_count": 214,
   "metadata": {
    "collapsed": false
   },
   "outputs": [
    {
     "data": {
      "text/plain": [
       "1 Mosaico / baldosa / madera / cerámica / alfombra    0.765829\n",
       "2 Cemento / ladrillo fijo                             0.202845\n",
       "3 Ladrillo suelto / tierra                            0.025842\n",
       "4 Otro                                                0.005484\n",
       "TOTAL                                                 1.000000\n",
       "dtype: float64"
      ]
     },
     "execution_count": 214,
     "metadata": {},
     "output_type": "execute_result"
    }
   ],
   "source": [
    "IV3_censo.iloc[:, 1:].sum()/tot_viviendas"
   ]
  },
  {
   "cell_type": "code",
   "execution_count": 231,
   "metadata": {
    "collapsed": false
   },
   "outputs": [
    {
     "data": {
      "text/plain": [
       "1 Por cañeria dentro de la vivienda               0.885473\n",
       "2 Fuera de la vivienda pero dentro del terreno    0.092493\n",
       "3 Fuera del terreno                               0.022033\n",
       "TOTAL                                             1.000000\n",
       "dtype: float64"
      ]
     },
     "execution_count": 231,
     "metadata": {},
     "output_type": "execute_result"
    }
   ],
   "source": [
    "IV6_censo.iloc[:, 1:].sum()/tot_viviendas"
   ]
  },
  {
   "cell_type": "markdown",
   "metadata": {},
   "source": [
    "#### Prior probabilities (matrix entries) from survey info"
   ]
  },
  {
   "cell_type": "code",
   "execution_count": 333,
   "metadata": {
    "collapsed": false
   },
   "outputs": [],
   "source": [
    "qjkl = df.groupby(['IV4', 'IV3', 'IV6'])[['CODUSU']].nunique() # how many IDs with each combination\n",
    "qjkl /= qjkl.sum()\n",
    "qjkl = qjkl.unstack().unstack().fillna(0)\n",
    "\n",
    "margins = []\n",
    "for df in [IV4_censo, IV6_censo, IV3_censo]:\n",
    "    margins += [(df.iloc[:, 1:-1].sum()/df.TOTAL.sum())]\n",
    "    \n",
    "a, b, c = tuple([m.values for m in margins])\n",
    "df_ = pd.DataFrame(np.prod(np.ix_(a, b, c)).reshape(qjkl.values.shape), \n",
    "                  columns = qjkl.columns, index = qjkl.index)\n",
    "uncorr_fill_p = df_\n",
    "\n",
    "uncorr_fill_q = df_ * (qjkl == 0).astype(int)\n",
    "qjkl = (1 - uncorr_fill_q.sum().sum())*qjkl + uncorr_fill_q"
   ]
  },
  {
   "cell_type": "markdown",
   "metadata": {},
   "source": [
    "### Lagrangian function"
   ]
  },
  {
   "cell_type": "code",
   "execution_count": 427,
   "metadata": {
    "collapsed": false
   },
   "outputs": [],
   "source": [
    "# L(x0, q_mat, margins)"
   ]
  },
  {
   "cell_type": "code",
   "execution_count": 529,
   "metadata": {
    "collapsed": true
   },
   "outputs": [],
   "source": [
    "def L(x, q_mat, margins):\n",
    "    shape = np.array(q_mat.shape)\n",
    "    len_a = shape.sum()\n",
    "    p_mat = np.array(x[:-len_a]).reshape(shape)\n",
    "    a = np.array(x[-len_a:])\n",
    "    \n",
    "    if np.random.rand() < 0.0001:\n",
    "        print p_mat\n",
    "        print a\n",
    "\n",
    "    MaxEnt = (p_mat*np.log(p_mat/q_mat))\n",
    "    \n",
    "    a_ix = np.insert(shape.cumsum(), [0], 0)\n",
    "    \n",
    "    lambda_terms = np.zeros(len(shape))\n",
    "    for dim in range(len(shape)):\n",
    "        lambda_terms[dim] = np.dot(a[a_ix[dim]:a_ix[dim + 1]], \n",
    "                                   margins[dim].values - p_mat.sum(axis = tuple([i for i in range(len(shape)) if i != dim])))\n",
    "\n",
    "    return MaxEnt.sum() + lambda_terms.sum()"
   ]
  },
  {
   "cell_type": "code",
   "execution_count": null,
   "metadata": {
    "collapsed": true
   },
   "outputs": [],
   "source": [
    "margins[dim].values - p_mat.sum(axis = tuple([i for i in range(len(shape)) if i != dim]))"
   ]
  },
  {
   "cell_type": "code",
   "execution_count": 540,
   "metadata": {
    "collapsed": false
   },
   "outputs": [
    {
     "data": {
      "text/plain": [
       "array([ 0.05428839,  0.18080031, -0.02939023,  0.2365159 , -0.10087062,\n",
       "       -0.11609991, -0.11004824, -0.1151956 ])"
      ]
     },
     "execution_count": 540,
     "metadata": {},
     "output_type": "execute_result"
    }
   ],
   "source": [
    "margins[dim].values - p_mat.sum(axis = tuple([i for i in range(len(shape)) if i != dim]))"
   ]
  },
  {
   "cell_type": "code",
   "execution_count": 549,
   "metadata": {
    "collapsed": false
   },
   "outputs": [],
   "source": [
    "constraints = []\n",
    "for dim in range(len(shape)):\n",
    "    def f(p_mat, dim = dim):\n",
    "        return p_mat.sum(axis = tuple([t for t in range(len(shape)) if t != dim])) - margins[dim].values\n",
    "    constraints.append(f)"
   ]
  },
  {
   "cell_type": "code",
   "execution_count": 550,
   "metadata": {
    "collapsed": false
   },
   "outputs": [
    {
     "data": {
      "text/plain": [
       "[<function __main__.f>, <function __main__.f>, <function __main__.f>]"
      ]
     },
     "execution_count": 550,
     "metadata": {},
     "output_type": "execute_result"
    }
   ],
   "source": [
    "constraints"
   ]
  },
  {
   "cell_type": "code",
   "execution_count": 577,
   "metadata": {
    "collapsed": true
   },
   "outputs": [],
   "source": [
    "shape = np.array(q_mat.shape)\n",
    "len_a = shape.sum()\n",
    "p_mat = np.array(x[:-len_a]).reshape(shape)\n",
    "    \n",
    "def MaxEnt(p_mat, q_mat):\n",
    "    p_mat = np.array(p_mat).reshape(q_mat.shape)\n",
    "    return (p_mat*np.log(p_mat/q_mat)).sum()"
   ]
  },
  {
   "cell_type": "code",
   "execution_count": 627,
   "metadata": {
    "collapsed": true
   },
   "outputs": [],
   "source": [
    "M_0 = np.array([[1, 0], [1, 1]])"
   ]
  },
  {
   "cell_type": "code",
   "execution_count": 633,
   "metadata": {
    "collapsed": false
   },
   "outputs": [],
   "source": [
    "constraints = []\n",
    "for i in [0, 1]:\n",
    "    def f(M, i = i):\n",
    "        return M[i] + M[3] - .5\n",
    "    constraints.append(f)\n",
    "    \n",
    "cons = [{'type':'eq', 'fun': con} for con in constraints]"
   ]
  },
  {
   "cell_type": "code",
   "execution_count": null,
   "metadata": {
    "collapsed": true
   },
   "outputs": [],
   "source": [
    "constraints = []\n",
    "for i in [0, 1]:\n",
    "    def f(p_, shape = shape, i = i):\n",
    "        p_mat = p_.reshape(shape)\n",
    "        \n",
    "        # There should be a translator of the indices from cube jkl to plain index.\n",
    "        # For each axis, fix the axis, then do a for loop in which the L (or J, K) equations are written as functions\n",
    "        # This should be done in paper first\n",
    "        \n",
    "#         return p_mat.sum(axis = tuple([t for t in range(len(shape)) if t != dim])) - margins[dim].values\n",
    "\n",
    "        return M[i] + M[3] - .5\n",
    "    constraints.append(f)\n",
    "    \n",
    "cons = [{'type':'eq', 'fun': con} for con in constraints]"
   ]
  },
  {
   "cell_type": "code",
   "execution_count": 634,
   "metadata": {
    "collapsed": false
   },
   "outputs": [
    {
     "data": {
      "text/plain": [
       "array([  1.66666666e-01,   1.66666666e-01,  -7.37929720e-09,\n",
       "         3.33333334e-01])"
      ]
     },
     "execution_count": 634,
     "metadata": {},
     "output_type": "execute_result"
    }
   ],
   "source": [
    "def Test(M):\n",
    "    return (M**2).sum()\n",
    "    \n",
    "res = minimize(lambda M: Test(M), M_0, constraints = cons)\n",
    "res['x']"
   ]
  },
  {
   "cell_type": "code",
   "execution_count": 599,
   "metadata": {
    "collapsed": false
   },
   "outputs": [
    {
     "name": "stdout",
     "output_type": "stream",
     "text": [
      "Warning: Desired error not necessarily achieved due to precision loss.\n",
      "         Current function value: nan\n",
      "         Iterations: 1\n",
      "         Function evaluations: 10976\n",
      "         Gradient evaluations: 112\n"
     ]
    },
    {
     "name": "stderr",
     "output_type": "stream",
     "text": [
      "/home/miglesia/anaconda2/lib/python2.7/site-packages/IPython/kernel/__main__.py:8: OptimizeWarning: Unknown solver options: fatol, xatol, maxfev\n",
      "/home/miglesia/anaconda2/lib/python2.7/site-packages/IPython/kernel/__main__.py:7: RuntimeWarning: invalid value encountered in log\n"
     ]
    }
   ],
   "source": [
    "p_0 = uncorr_fill_p.values.reshape(shape)\n",
    "\n",
    "res = minimize(lambda p_mat: MaxEnt(p_mat, q_mat), p_0,# constraints = constraints,\n",
    "                   method='Nelder-Mead',\n",
    "                  options={'disp': True, \n",
    "                           'maxiter': 10000000, \n",
    "                           'xatol': 0.00001, \n",
    "                           'fatol': 0.00001, \n",
    "                           'maxfev': 1000000})"
   ]
  },
  {
   "cell_type": "code",
   "execution_count": 600,
   "metadata": {
    "collapsed": false
   },
   "outputs": [],
   "source": [
    "p_mat_ = np.array(res['x']).reshape(shape)\n",
    "p_= pd.DataFrame(p_mat_.reshape(qjkl.shape), \n",
    "             columns = qjkl.columns, index = qjkl.index)\n",
    "p_ = p_/p_.sum().sum()\n"
   ]
  },
  {
   "cell_type": "code",
   "execution_count": 601,
   "metadata": {
    "collapsed": false
   },
   "outputs": [
    {
     "data": {
      "text/html": [
       "<div>\n",
       "<style scoped>\n",
       "    .dataframe tbody tr th:only-of-type {\n",
       "        vertical-align: middle;\n",
       "    }\n",
       "\n",
       "    .dataframe tbody tr th {\n",
       "        vertical-align: top;\n",
       "    }\n",
       "\n",
       "    .dataframe thead tr th {\n",
       "        text-align: left;\n",
       "    }\n",
       "\n",
       "    .dataframe thead tr:last-of-type th {\n",
       "        text-align: right;\n",
       "    }\n",
       "</style>\n",
       "<table border=\"1\" class=\"dataframe\">\n",
       "  <thead>\n",
       "    <tr>\n",
       "      <th></th>\n",
       "      <th colspan=\"12\" halign=\"left\">CODUSU</th>\n",
       "    </tr>\n",
       "    <tr>\n",
       "      <th>IV6</th>\n",
       "      <th colspan=\"4\" halign=\"left\">1</th>\n",
       "      <th colspan=\"4\" halign=\"left\">2</th>\n",
       "      <th colspan=\"4\" halign=\"left\">3</th>\n",
       "    </tr>\n",
       "    <tr>\n",
       "      <th>IV3</th>\n",
       "      <th>1</th>\n",
       "      <th>2</th>\n",
       "      <th>3</th>\n",
       "      <th>4</th>\n",
       "      <th>1</th>\n",
       "      <th>2</th>\n",
       "      <th>3</th>\n",
       "      <th>4</th>\n",
       "      <th>1</th>\n",
       "      <th>2</th>\n",
       "      <th>3</th>\n",
       "      <th>4</th>\n",
       "    </tr>\n",
       "    <tr>\n",
       "      <th>IV4</th>\n",
       "      <th></th>\n",
       "      <th></th>\n",
       "      <th></th>\n",
       "      <th></th>\n",
       "      <th></th>\n",
       "      <th></th>\n",
       "      <th></th>\n",
       "      <th></th>\n",
       "      <th></th>\n",
       "      <th></th>\n",
       "      <th></th>\n",
       "      <th></th>\n",
       "    </tr>\n",
       "  </thead>\n",
       "  <tbody>\n",
       "    <tr>\n",
       "      <th>1</th>\n",
       "      <td>0.001284</td>\n",
       "      <td>0.011385</td>\n",
       "      <td>0.015534</td>\n",
       "      <td>0.007155</td>\n",
       "      <td>0.021915</td>\n",
       "      <td>0.012441</td>\n",
       "      <td>0.017681</td>\n",
       "      <td>0.005927</td>\n",
       "      <td>0.030968</td>\n",
       "      <td>0.029605</td>\n",
       "      <td>0.005927</td>\n",
       "      <td>0.005928</td>\n",
       "    </tr>\n",
       "    <tr>\n",
       "      <th>2</th>\n",
       "      <td>0.005892</td>\n",
       "      <td>0.011431</td>\n",
       "      <td>0.024693</td>\n",
       "      <td>0.013305</td>\n",
       "      <td>0.021910</td>\n",
       "      <td>0.011268</td>\n",
       "      <td>0.016039</td>\n",
       "      <td>0.005927</td>\n",
       "      <td>0.032427</td>\n",
       "      <td>0.016338</td>\n",
       "      <td>0.020559</td>\n",
       "      <td>0.005928</td>\n",
       "    </tr>\n",
       "    <tr>\n",
       "      <th>3</th>\n",
       "      <td>0.005484</td>\n",
       "      <td>0.018609</td>\n",
       "      <td>0.026019</td>\n",
       "      <td>0.014047</td>\n",
       "      <td>0.032716</td>\n",
       "      <td>0.021359</td>\n",
       "      <td>0.005927</td>\n",
       "      <td>0.005927</td>\n",
       "      <td>0.005926</td>\n",
       "      <td>0.005926</td>\n",
       "      <td>0.005927</td>\n",
       "      <td>0.005930</td>\n",
       "    </tr>\n",
       "    <tr>\n",
       "      <th>4</th>\n",
       "      <td>0.005920</td>\n",
       "      <td>0.006934</td>\n",
       "      <td>0.020255</td>\n",
       "      <td>0.014297</td>\n",
       "      <td>0.019164</td>\n",
       "      <td>0.003490</td>\n",
       "      <td>0.005690</td>\n",
       "      <td>0.014355</td>\n",
       "      <td>0.023591</td>\n",
       "      <td>0.011753</td>\n",
       "      <td>0.010019</td>\n",
       "      <td>0.005927</td>\n",
       "    </tr>\n",
       "    <tr>\n",
       "      <th>5</th>\n",
       "      <td>0.008925</td>\n",
       "      <td>0.009874</td>\n",
       "      <td>0.019182</td>\n",
       "      <td>0.003485</td>\n",
       "      <td>0.018046</td>\n",
       "      <td>0.007387</td>\n",
       "      <td>-0.000715</td>\n",
       "      <td>0.004827</td>\n",
       "      <td>0.025593</td>\n",
       "      <td>0.013612</td>\n",
       "      <td>0.001404</td>\n",
       "      <td>0.005941</td>\n",
       "    </tr>\n",
       "    <tr>\n",
       "      <th>6</th>\n",
       "      <td>0.020501</td>\n",
       "      <td>0.012977</td>\n",
       "      <td>0.010869</td>\n",
       "      <td>0.008194</td>\n",
       "      <td>0.024076</td>\n",
       "      <td>0.003520</td>\n",
       "      <td>-0.007538</td>\n",
       "      <td>-0.001077</td>\n",
       "      <td>0.005927</td>\n",
       "      <td>0.007702</td>\n",
       "      <td>-0.006904</td>\n",
       "      <td>0.005967</td>\n",
       "    </tr>\n",
       "    <tr>\n",
       "      <th>7</th>\n",
       "      <td>0.012956</td>\n",
       "      <td>0.006198</td>\n",
       "      <td>0.009835</td>\n",
       "      <td>0.011268</td>\n",
       "      <td>0.018935</td>\n",
       "      <td>0.003429</td>\n",
       "      <td>-0.007143</td>\n",
       "      <td>0.001993</td>\n",
       "      <td>0.005927</td>\n",
       "      <td>0.005927</td>\n",
       "      <td>-0.001430</td>\n",
       "      <td>0.005951</td>\n",
       "    </tr>\n",
       "    <tr>\n",
       "      <th>9</th>\n",
       "      <td>-0.008056</td>\n",
       "      <td>0.014316</td>\n",
       "      <td>0.022061</td>\n",
       "      <td>-0.006658</td>\n",
       "      <td>0.010175</td>\n",
       "      <td>0.010266</td>\n",
       "      <td>0.005928</td>\n",
       "      <td>0.005935</td>\n",
       "      <td>0.005927</td>\n",
       "      <td>0.005927</td>\n",
       "      <td>0.005934</td>\n",
       "      <td>0.005963</td>\n",
       "    </tr>\n",
       "  </tbody>\n",
       "</table>\n",
       "</div>"
      ],
      "text/plain": [
       "       CODUSU                                                              \\\n",
       "IV6         1                                       2                       \n",
       "IV3         1         2         3         4         1         2         3   \n",
       "IV4                                                                         \n",
       "1    0.001284  0.011385  0.015534  0.007155  0.021915  0.012441  0.017681   \n",
       "2    0.005892  0.011431  0.024693  0.013305  0.021910  0.011268  0.016039   \n",
       "3    0.005484  0.018609  0.026019  0.014047  0.032716  0.021359  0.005927   \n",
       "4    0.005920  0.006934  0.020255  0.014297  0.019164  0.003490  0.005690   \n",
       "5    0.008925  0.009874  0.019182  0.003485  0.018046  0.007387 -0.000715   \n",
       "6    0.020501  0.012977  0.010869  0.008194  0.024076  0.003520 -0.007538   \n",
       "7    0.012956  0.006198  0.009835  0.011268  0.018935  0.003429 -0.007143   \n",
       "9   -0.008056  0.014316  0.022061 -0.006658  0.010175  0.010266  0.005928   \n",
       "\n",
       "                                                       \n",
       "IV6                   3                                \n",
       "IV3         4         1         2         3         4  \n",
       "IV4                                                    \n",
       "1    0.005927  0.030968  0.029605  0.005927  0.005928  \n",
       "2    0.005927  0.032427  0.016338  0.020559  0.005928  \n",
       "3    0.005927  0.005926  0.005926  0.005927  0.005930  \n",
       "4    0.014355  0.023591  0.011753  0.010019  0.005927  \n",
       "5    0.004827  0.025593  0.013612  0.001404  0.005941  \n",
       "6   -0.001077  0.005927  0.007702 -0.006904  0.005967  \n",
       "7    0.001993  0.005927  0.005927 -0.001430  0.005951  \n",
       "9    0.005935  0.005927  0.005927  0.005934  0.005963  "
      ]
     },
     "execution_count": 601,
     "metadata": {},
     "output_type": "execute_result"
    }
   ],
   "source": [
    "p_"
   ]
  },
  {
   "cell_type": "code",
   "execution_count": 587,
   "metadata": {
    "collapsed": false
   },
   "outputs": [
    {
     "data": {
      "text/html": [
       "<div>\n",
       "<style scoped>\n",
       "    .dataframe tbody tr th:only-of-type {\n",
       "        vertical-align: middle;\n",
       "    }\n",
       "\n",
       "    .dataframe tbody tr th {\n",
       "        vertical-align: top;\n",
       "    }\n",
       "\n",
       "    .dataframe thead tr th {\n",
       "        text-align: left;\n",
       "    }\n",
       "\n",
       "    .dataframe thead tr:last-of-type th {\n",
       "        text-align: right;\n",
       "    }\n",
       "</style>\n",
       "<table border=\"1\" class=\"dataframe\">\n",
       "  <thead>\n",
       "    <tr>\n",
       "      <th></th>\n",
       "      <th colspan=\"12\" halign=\"left\">CODUSU</th>\n",
       "    </tr>\n",
       "    <tr>\n",
       "      <th>IV6</th>\n",
       "      <th colspan=\"4\" halign=\"left\">1</th>\n",
       "      <th colspan=\"4\" halign=\"left\">2</th>\n",
       "      <th colspan=\"4\" halign=\"left\">3</th>\n",
       "    </tr>\n",
       "    <tr>\n",
       "      <th>IV3</th>\n",
       "      <th>1</th>\n",
       "      <th>2</th>\n",
       "      <th>3</th>\n",
       "      <th>4</th>\n",
       "      <th>1</th>\n",
       "      <th>2</th>\n",
       "      <th>3</th>\n",
       "      <th>4</th>\n",
       "      <th>1</th>\n",
       "      <th>2</th>\n",
       "      <th>3</th>\n",
       "      <th>4</th>\n",
       "    </tr>\n",
       "    <tr>\n",
       "      <th>IV4</th>\n",
       "      <th></th>\n",
       "      <th></th>\n",
       "      <th></th>\n",
       "      <th></th>\n",
       "      <th></th>\n",
       "      <th></th>\n",
       "      <th></th>\n",
       "      <th></th>\n",
       "      <th></th>\n",
       "      <th></th>\n",
       "      <th></th>\n",
       "      <th></th>\n",
       "    </tr>\n",
       "  </thead>\n",
       "  <tbody>\n",
       "    <tr>\n",
       "      <th>1</th>\n",
       "      <td>0.265412</td>\n",
       "      <td>0.012811</td>\n",
       "      <td>0.000811</td>\n",
       "      <td>0.000708</td>\n",
       "      <td>0.000855</td>\n",
       "      <td>0.001120</td>\n",
       "      <td>0.000059</td>\n",
       "      <td>0.000091</td>\n",
       "      <td>0.000044</td>\n",
       "      <td>0.000015</td>\n",
       "      <td>0.000102</td>\n",
       "      <td>0.000022</td>\n",
       "    </tr>\n",
       "    <tr>\n",
       "      <th>2</th>\n",
       "      <td>0.207639</td>\n",
       "      <td>0.021671</td>\n",
       "      <td>0.000295</td>\n",
       "      <td>0.000428</td>\n",
       "      <td>0.001459</td>\n",
       "      <td>0.002329</td>\n",
       "      <td>0.000133</td>\n",
       "      <td>0.000155</td>\n",
       "      <td>0.000059</td>\n",
       "      <td>0.000236</td>\n",
       "      <td>0.000015</td>\n",
       "      <td>0.000037</td>\n",
       "    </tr>\n",
       "    <tr>\n",
       "      <th>3</th>\n",
       "      <td>0.069758</td>\n",
       "      <td>0.002020</td>\n",
       "      <td>0.000074</td>\n",
       "      <td>0.000118</td>\n",
       "      <td>0.000074</td>\n",
       "      <td>0.000133</td>\n",
       "      <td>0.000229</td>\n",
       "      <td>0.000048</td>\n",
       "      <td>0.001613</td>\n",
       "      <td>0.000427</td>\n",
       "      <td>0.000054</td>\n",
       "      <td>0.000012</td>\n",
       "    </tr>\n",
       "    <tr>\n",
       "      <th>4</th>\n",
       "      <td>0.244096</td>\n",
       "      <td>0.054707</td>\n",
       "      <td>0.000737</td>\n",
       "      <td>0.000428</td>\n",
       "      <td>0.002742</td>\n",
       "      <td>0.010231</td>\n",
       "      <td>0.000899</td>\n",
       "      <td>0.000044</td>\n",
       "      <td>0.000310</td>\n",
       "      <td>0.000604</td>\n",
       "      <td>0.000103</td>\n",
       "      <td>0.000044</td>\n",
       "    </tr>\n",
       "    <tr>\n",
       "      <th>5</th>\n",
       "      <td>0.009862</td>\n",
       "      <td>0.002226</td>\n",
       "      <td>0.000059</td>\n",
       "      <td>0.000177</td>\n",
       "      <td>0.000221</td>\n",
       "      <td>0.000354</td>\n",
       "      <td>0.000177</td>\n",
       "      <td>0.000015</td>\n",
       "      <td>0.000015</td>\n",
       "      <td>0.000029</td>\n",
       "      <td>0.000029</td>\n",
       "      <td>0.000003</td>\n",
       "    </tr>\n",
       "    <tr>\n",
       "      <th>6</th>\n",
       "      <td>0.000516</td>\n",
       "      <td>0.000486</td>\n",
       "      <td>0.000088</td>\n",
       "      <td>0.000029</td>\n",
       "      <td>0.000029</td>\n",
       "      <td>0.000251</td>\n",
       "      <td>0.000206</td>\n",
       "      <td>0.000015</td>\n",
       "      <td>0.000150</td>\n",
       "      <td>0.000029</td>\n",
       "      <td>0.000044</td>\n",
       "      <td>0.000001</td>\n",
       "    </tr>\n",
       "    <tr>\n",
       "      <th>7</th>\n",
       "      <td>0.003096</td>\n",
       "      <td>0.002565</td>\n",
       "      <td>0.000177</td>\n",
       "      <td>0.000029</td>\n",
       "      <td>0.000118</td>\n",
       "      <td>0.000428</td>\n",
       "      <td>0.000324</td>\n",
       "      <td>0.000015</td>\n",
       "      <td>0.000252</td>\n",
       "      <td>0.000067</td>\n",
       "      <td>0.000029</td>\n",
       "      <td>0.000002</td>\n",
       "    </tr>\n",
       "    <tr>\n",
       "      <th>9</th>\n",
       "      <td>0.070363</td>\n",
       "      <td>0.000428</td>\n",
       "      <td>0.000015</td>\n",
       "      <td>0.000398</td>\n",
       "      <td>0.000339</td>\n",
       "      <td>0.000088</td>\n",
       "      <td>0.000023</td>\n",
       "      <td>0.000005</td>\n",
       "      <td>0.000165</td>\n",
       "      <td>0.000044</td>\n",
       "      <td>0.000006</td>\n",
       "      <td>0.000001</td>\n",
       "    </tr>\n",
       "  </tbody>\n",
       "</table>\n",
       "</div>"
      ],
      "text/plain": [
       "       CODUSU                                                              \\\n",
       "IV6         1                                       2                       \n",
       "IV3         1         2         3         4         1         2         3   \n",
       "IV4                                                                         \n",
       "1    0.265412  0.012811  0.000811  0.000708  0.000855  0.001120  0.000059   \n",
       "2    0.207639  0.021671  0.000295  0.000428  0.001459  0.002329  0.000133   \n",
       "3    0.069758  0.002020  0.000074  0.000118  0.000074  0.000133  0.000229   \n",
       "4    0.244096  0.054707  0.000737  0.000428  0.002742  0.010231  0.000899   \n",
       "5    0.009862  0.002226  0.000059  0.000177  0.000221  0.000354  0.000177   \n",
       "6    0.000516  0.000486  0.000088  0.000029  0.000029  0.000251  0.000206   \n",
       "7    0.003096  0.002565  0.000177  0.000029  0.000118  0.000428  0.000324   \n",
       "9    0.070363  0.000428  0.000015  0.000398  0.000339  0.000088  0.000023   \n",
       "\n",
       "                                                       \n",
       "IV6                   3                                \n",
       "IV3         4         1         2         3         4  \n",
       "IV4                                                    \n",
       "1    0.000091  0.000044  0.000015  0.000102  0.000022  \n",
       "2    0.000155  0.000059  0.000236  0.000015  0.000037  \n",
       "3    0.000048  0.001613  0.000427  0.000054  0.000012  \n",
       "4    0.000044  0.000310  0.000604  0.000103  0.000044  \n",
       "5    0.000015  0.000015  0.000029  0.000029  0.000003  \n",
       "6    0.000015  0.000150  0.000029  0.000044  0.000001  \n",
       "7    0.000015  0.000252  0.000067  0.000029  0.000002  \n",
       "9    0.000005  0.000165  0.000044  0.000006  0.000001  "
      ]
     },
     "execution_count": 587,
     "metadata": {},
     "output_type": "execute_result"
    }
   ],
   "source": [
    "qjkl"
   ]
  },
  {
   "cell_type": "code",
   "execution_count": 602,
   "metadata": {
    "collapsed": false
   },
   "outputs": [
    {
     "name": "stdout",
     "output_type": "stream",
     "text": [
      "IV4\n",
      "1    0.165750\n",
      "2    0.185716\n",
      "3    0.153799\n",
      "4    0.141395\n",
      "5    0.117563\n",
      "6    0.084213\n",
      "7    0.073845\n",
      "9    0.077720\n",
      "Name: CODUSU, dtype: float64\n",
      "IV6\n",
      "1    0.358172\n",
      "2    0.319779\n",
      "3    0.322049\n",
      "Name: CODUSU, dtype: float64\n",
      "IV3\n",
      "1    0.356126\n",
      "2    0.261677\n",
      "3    0.225754\n",
      "4    0.156443\n",
      "Name: CODUSU, dtype: float64\n"
     ]
    }
   ],
   "source": [
    "p_stacked = p_.stack().stack().reset_index()\n",
    "print p_stacked.groupby('IV4')['CODUSU'].sum()\n",
    "print p_stacked.groupby('IV6')['CODUSU'].sum()\n",
    "print p_stacked.groupby('IV3')['CODUSU'].sum()"
   ]
  },
  {
   "cell_type": "code",
   "execution_count": 589,
   "metadata": {
    "collapsed": false
   },
   "outputs": [
    {
     "data": {
      "text/plain": [
       "[1 Membrana / cubierta asfáltica                0.179288\n",
       " 2 Baldosa / losa sin cubierta                  0.305800\n",
       " 3 Pizarra / teja                               0.095610\n",
       " 4 Chapa de metal sin cubierta                  0.361516\n",
       " 5 Chapa de fibrocemento / plástico             0.024129\n",
       " 6 Chapa de cartón                              0.008900\n",
       " 7 Caña / tabla / paja con barro / paja sola    0.014952\n",
       " 9 N/S. Depto en propiedad horizontal           0.009804\n",
       " dtype: float64, 1 Por cañeria dentro de la vivienda               0.885473\n",
       " 2 Fuera de la vivienda pero dentro del terreno    0.092493\n",
       " 3 Fuera del terreno                               0.022033\n",
       " dtype: float64, 1 Mosaico / baldosa / madera / cerámica / alfombra    0.765829\n",
       " 2 Cemento / ladrillo fijo                             0.202845\n",
       " 3 Ladrillo suelto / tierra                            0.025842\n",
       " 4 Otro                                                0.005484\n",
       " dtype: float64]"
      ]
     },
     "execution_count": 589,
     "metadata": {},
     "output_type": "execute_result"
    }
   ],
   "source": [
    "margins"
   ]
  },
  {
   "cell_type": "code",
   "execution_count": null,
   "metadata": {
    "collapsed": true
   },
   "outputs": [],
   "source": []
  },
  {
   "cell_type": "code",
   "execution_count": 580,
   "metadata": {
    "collapsed": false
   },
   "outputs": [],
   "source": [
    "# from scipy.optimize import minimize\n",
    "\n",
    "\n",
    "# shape = [len(m) for m in margins]\n",
    "# q_mat = qjkl.values.reshape(shape)\n",
    "\n",
    "# def pT(q_mat, margins):\n",
    "#     # This generates a left-stochastic matrix\n",
    "    \n",
    "# #     p_0 = np.ones(np.array(q_mat.shape))/len(qjkl.values.flatten())\n",
    "#     p_0 = uncorr_fill_p.values.reshape(shape)\n",
    "#     a_ = np.ones(np.array(q_mat.shape).sum())\n",
    "# #     a_ = np.array([ 3.82209837, -0.67239368,0.9138076,1.71378012,1.70591917,1.34566778,\n",
    "# #  -0.10336548,1.71989107,2.7796474,-1.3430727,1.78366337,4.72804659,\n",
    "# #  -0.67614996,3.08805061,2.84402776])\n",
    "#     x0 = list(p_0.flatten()) + list(a_)\n",
    "\n",
    "#     res = minimize(lambda x: L(x, q_mat, margins), x0, \n",
    "#                    method='Nelder-Mead',\n",
    "#                   options={'disp': True, \n",
    "#                            'maxiter': 10000000, \n",
    "#                            'xatol': 0.00001, \n",
    "#                            'fatol': 0.00001, \n",
    "#                            'maxfev': 1000000})\n",
    "   \n",
    "#     return res"
   ]
  },
  {
   "cell_type": "code",
   "execution_count": 581,
   "metadata": {
    "collapsed": false,
    "scrolled": true
   },
   "outputs": [],
   "source": [
    "# res = pT(q_mat, margins)"
   ]
  },
  {
   "cell_type": "code",
   "execution_count": 582,
   "metadata": {
    "collapsed": false
   },
   "outputs": [
    {
     "ename": "ValueError",
     "evalue": "total size of new array must be unchanged",
     "output_type": "error",
     "traceback": [
      "\u001b[1;31m---------------------------------------------------------------------------\u001b[0m",
      "\u001b[1;31mValueError\u001b[0m                                Traceback (most recent call last)",
      "\u001b[1;32m<ipython-input-582-a09591c578d3>\u001b[0m in \u001b[0;36m<module>\u001b[1;34m()\u001b[0m\n\u001b[1;32m----> 1\u001b[1;33m \u001b[0mp_mat_\u001b[0m \u001b[1;33m=\u001b[0m \u001b[0mnp\u001b[0m\u001b[1;33m.\u001b[0m\u001b[0marray\u001b[0m\u001b[1;33m(\u001b[0m\u001b[0mres\u001b[0m\u001b[1;33m[\u001b[0m\u001b[1;34m'x'\u001b[0m\u001b[1;33m]\u001b[0m\u001b[1;33m[\u001b[0m\u001b[1;33m:\u001b[0m\u001b[1;33m-\u001b[0m\u001b[0mlen_a\u001b[0m\u001b[1;33m]\u001b[0m\u001b[1;33m)\u001b[0m\u001b[1;33m.\u001b[0m\u001b[0mreshape\u001b[0m\u001b[1;33m(\u001b[0m\u001b[0mshape\u001b[0m\u001b[1;33m)\u001b[0m\u001b[1;33m\u001b[0m\u001b[0m\n\u001b[0m\u001b[0;32m      2\u001b[0m \u001b[0ma_\u001b[0m \u001b[1;33m=\u001b[0m \u001b[0mnp\u001b[0m\u001b[1;33m.\u001b[0m\u001b[0marray\u001b[0m\u001b[1;33m(\u001b[0m\u001b[0mres\u001b[0m\u001b[1;33m[\u001b[0m\u001b[1;34m'x'\u001b[0m\u001b[1;33m]\u001b[0m\u001b[1;33m[\u001b[0m\u001b[1;33m-\u001b[0m\u001b[0mlen_a\u001b[0m\u001b[1;33m:\u001b[0m\u001b[1;33m]\u001b[0m\u001b[1;33m)\u001b[0m\u001b[1;33m\u001b[0m\u001b[0m\n",
      "\u001b[1;31mValueError\u001b[0m: total size of new array must be unchanged"
     ]
    }
   ],
   "source": [
    "p_mat_ = np.array(res['x'][:-len_a]).reshape(shape)\n",
    "a_ = np.array(res['x'][-len_a:])"
   ]
  },
  {
   "cell_type": "code",
   "execution_count": 538,
   "metadata": {
    "collapsed": false
   },
   "outputs": [
    {
     "data": {
      "text/plain": [
       "2.8183442948302186"
      ]
     },
     "execution_count": 538,
     "metadata": {},
     "output_type": "execute_result"
    }
   ],
   "source": [
    "p_= pd.DataFrame(p_mat_.reshape(qjkl.shape), \n",
    "             columns = qjkl.columns, index = qjkl.index)\n",
    "p_ = p_/p_.sum().sum()\n",
    "# p_.sum().sum()"
   ]
  },
  {
   "cell_type": "code",
   "execution_count": 534,
   "metadata": {
    "collapsed": false
   },
   "outputs": [
    {
     "data": {
      "text/html": [
       "<div>\n",
       "<style scoped>\n",
       "    .dataframe tbody tr th:only-of-type {\n",
       "        vertical-align: middle;\n",
       "    }\n",
       "\n",
       "    .dataframe tbody tr th {\n",
       "        vertical-align: top;\n",
       "    }\n",
       "\n",
       "    .dataframe thead tr th {\n",
       "        text-align: left;\n",
       "    }\n",
       "\n",
       "    .dataframe thead tr:last-of-type th {\n",
       "        text-align: right;\n",
       "    }\n",
       "</style>\n",
       "<table border=\"1\" class=\"dataframe\">\n",
       "  <thead>\n",
       "    <tr>\n",
       "      <th></th>\n",
       "      <th colspan=\"12\" halign=\"left\">CODUSU</th>\n",
       "    </tr>\n",
       "    <tr>\n",
       "      <th>IV6</th>\n",
       "      <th colspan=\"4\" halign=\"left\">1</th>\n",
       "      <th colspan=\"4\" halign=\"left\">2</th>\n",
       "      <th colspan=\"4\" halign=\"left\">3</th>\n",
       "    </tr>\n",
       "    <tr>\n",
       "      <th>IV3</th>\n",
       "      <th>1</th>\n",
       "      <th>2</th>\n",
       "      <th>3</th>\n",
       "      <th>4</th>\n",
       "      <th>1</th>\n",
       "      <th>2</th>\n",
       "      <th>3</th>\n",
       "      <th>4</th>\n",
       "      <th>1</th>\n",
       "      <th>2</th>\n",
       "      <th>3</th>\n",
       "      <th>4</th>\n",
       "    </tr>\n",
       "    <tr>\n",
       "      <th>IV4</th>\n",
       "      <th></th>\n",
       "      <th></th>\n",
       "      <th></th>\n",
       "      <th></th>\n",
       "      <th></th>\n",
       "      <th></th>\n",
       "      <th></th>\n",
       "      <th></th>\n",
       "      <th></th>\n",
       "      <th></th>\n",
       "      <th></th>\n",
       "      <th></th>\n",
       "    </tr>\n",
       "  </thead>\n",
       "  <tbody>\n",
       "    <tr>\n",
       "      <th>1</th>\n",
       "      <td>0.141882</td>\n",
       "      <td>0.015641</td>\n",
       "      <td>0.001328</td>\n",
       "      <td>2.952166e-04</td>\n",
       "      <td>2.900262e-03</td>\n",
       "      <td>1.369149e-03</td>\n",
       "      <td>0.000201</td>\n",
       "      <td>6.794651e-05</td>\n",
       "      <td>0.000841</td>\n",
       "      <td>0.000366</td>\n",
       "      <td>2.796933e-08</td>\n",
       "      <td>4.640061e-07</td>\n",
       "    </tr>\n",
       "    <tr>\n",
       "      <th>2</th>\n",
       "      <td>0.262956</td>\n",
       "      <td>0.032421</td>\n",
       "      <td>0.002498</td>\n",
       "      <td>2.435911e-04</td>\n",
       "      <td>1.394959e-03</td>\n",
       "      <td>1.051611e-03</td>\n",
       "      <td>0.000057</td>\n",
       "      <td>2.288506e-06</td>\n",
       "      <td>0.000751</td>\n",
       "      <td>0.000052</td>\n",
       "      <td>8.421282e-07</td>\n",
       "      <td>2.810720e-11</td>\n",
       "    </tr>\n",
       "    <tr>\n",
       "      <th>3</th>\n",
       "      <td>0.065675</td>\n",
       "      <td>0.000549</td>\n",
       "      <td>0.001293</td>\n",
       "      <td>3.456847e-06</td>\n",
       "      <td>6.175743e-07</td>\n",
       "      <td>9.337652e-04</td>\n",
       "      <td>0.000051</td>\n",
       "      <td>2.070349e-05</td>\n",
       "      <td>0.000081</td>\n",
       "      <td>0.000052</td>\n",
       "      <td>3.431275e-05</td>\n",
       "      <td>3.457732e-06</td>\n",
       "    </tr>\n",
       "    <tr>\n",
       "      <th>4</th>\n",
       "      <td>0.385724</td>\n",
       "      <td>0.041670</td>\n",
       "      <td>0.002848</td>\n",
       "      <td>1.346926e-03</td>\n",
       "      <td>6.949308e-03</td>\n",
       "      <td>3.386692e-09</td>\n",
       "      <td>0.000414</td>\n",
       "      <td>1.197275e-04</td>\n",
       "      <td>0.002830</td>\n",
       "      <td>0.000415</td>\n",
       "      <td>1.396692e-04</td>\n",
       "      <td>7.946080e-06</td>\n",
       "    </tr>\n",
       "    <tr>\n",
       "      <th>5</th>\n",
       "      <td>0.008833</td>\n",
       "      <td>0.001651</td>\n",
       "      <td>0.000043</td>\n",
       "      <td>1.973323e-05</td>\n",
       "      <td>4.050011e-04</td>\n",
       "      <td>1.286109e-04</td>\n",
       "      <td>0.000030</td>\n",
       "      <td>4.313255e-06</td>\n",
       "      <td>0.000238</td>\n",
       "      <td>0.000033</td>\n",
       "      <td>2.232306e-06</td>\n",
       "      <td>2.002925e-06</td>\n",
       "    </tr>\n",
       "    <tr>\n",
       "      <th>6</th>\n",
       "      <td>0.004151</td>\n",
       "      <td>0.000546</td>\n",
       "      <td>0.000015</td>\n",
       "      <td>3.406675e-08</td>\n",
       "      <td>7.559034e-06</td>\n",
       "      <td>1.126271e-09</td>\n",
       "      <td>0.000011</td>\n",
       "      <td>7.460832e-07</td>\n",
       "      <td>0.000114</td>\n",
       "      <td>0.000054</td>\n",
       "      <td>1.049171e-11</td>\n",
       "      <td>4.735263e-07</td>\n",
       "    </tr>\n",
       "    <tr>\n",
       "      <th>7</th>\n",
       "      <td>0.001333</td>\n",
       "      <td>0.000590</td>\n",
       "      <td>0.000001</td>\n",
       "      <td>2.572921e-05</td>\n",
       "      <td>1.244644e-03</td>\n",
       "      <td>8.299050e-05</td>\n",
       "      <td>0.000013</td>\n",
       "      <td>2.638256e-06</td>\n",
       "      <td>0.000045</td>\n",
       "      <td>0.000010</td>\n",
       "      <td>3.784740e-06</td>\n",
       "      <td>1.352610e-06</td>\n",
       "    </tr>\n",
       "    <tr>\n",
       "      <th>9</th>\n",
       "      <td>0.002423</td>\n",
       "      <td>0.000062</td>\n",
       "      <td>0.000093</td>\n",
       "      <td>5.341664e-06</td>\n",
       "      <td>1.821901e-04</td>\n",
       "      <td>2.266339e-05</td>\n",
       "      <td>0.000009</td>\n",
       "      <td>3.443087e-06</td>\n",
       "      <td>0.000071</td>\n",
       "      <td>0.000002</td>\n",
       "      <td>5.167761e-08</td>\n",
       "      <td>8.386387e-10</td>\n",
       "    </tr>\n",
       "  </tbody>\n",
       "</table>\n",
       "</div>"
      ],
      "text/plain": [
       "       CODUSU                                                                \\\n",
       "IV6         1                                               2                 \n",
       "IV3         1         2         3             4             1             2   \n",
       "IV4                                                                           \n",
       "1    0.141882  0.015641  0.001328  2.952166e-04  2.900262e-03  1.369149e-03   \n",
       "2    0.262956  0.032421  0.002498  2.435911e-04  1.394959e-03  1.051611e-03   \n",
       "3    0.065675  0.000549  0.001293  3.456847e-06  6.175743e-07  9.337652e-04   \n",
       "4    0.385724  0.041670  0.002848  1.346926e-03  6.949308e-03  3.386692e-09   \n",
       "5    0.008833  0.001651  0.000043  1.973323e-05  4.050011e-04  1.286109e-04   \n",
       "6    0.004151  0.000546  0.000015  3.406675e-08  7.559034e-06  1.126271e-09   \n",
       "7    0.001333  0.000590  0.000001  2.572921e-05  1.244644e-03  8.299050e-05   \n",
       "9    0.002423  0.000062  0.000093  5.341664e-06  1.821901e-04  2.266339e-05   \n",
       "\n",
       "                                                                             \n",
       "IV6                                 3                                        \n",
       "IV3         3             4         1         2             3             4  \n",
       "IV4                                                                          \n",
       "1    0.000201  6.794651e-05  0.000841  0.000366  2.796933e-08  4.640061e-07  \n",
       "2    0.000057  2.288506e-06  0.000751  0.000052  8.421282e-07  2.810720e-11  \n",
       "3    0.000051  2.070349e-05  0.000081  0.000052  3.431275e-05  3.457732e-06  \n",
       "4    0.000414  1.197275e-04  0.002830  0.000415  1.396692e-04  7.946080e-06  \n",
       "5    0.000030  4.313255e-06  0.000238  0.000033  2.232306e-06  2.002925e-06  \n",
       "6    0.000011  7.460832e-07  0.000114  0.000054  1.049171e-11  4.735263e-07  \n",
       "7    0.000013  2.638256e-06  0.000045  0.000010  3.784740e-06  1.352610e-06  \n",
       "9    0.000009  3.443087e-06  0.000071  0.000002  5.167761e-08  8.386387e-10  "
      ]
     },
     "execution_count": 534,
     "metadata": {},
     "output_type": "execute_result"
    }
   ],
   "source": [
    "p_"
   ]
  },
  {
   "cell_type": "code",
   "execution_count": 535,
   "metadata": {
    "collapsed": false
   },
   "outputs": [
    {
     "data": {
      "text/html": [
       "<div>\n",
       "<style scoped>\n",
       "    .dataframe tbody tr th:only-of-type {\n",
       "        vertical-align: middle;\n",
       "    }\n",
       "\n",
       "    .dataframe tbody tr th {\n",
       "        vertical-align: top;\n",
       "    }\n",
       "\n",
       "    .dataframe thead tr th {\n",
       "        text-align: left;\n",
       "    }\n",
       "\n",
       "    .dataframe thead tr:last-of-type th {\n",
       "        text-align: right;\n",
       "    }\n",
       "</style>\n",
       "<table border=\"1\" class=\"dataframe\">\n",
       "  <thead>\n",
       "    <tr>\n",
       "      <th></th>\n",
       "      <th colspan=\"12\" halign=\"left\">CODUSU</th>\n",
       "    </tr>\n",
       "    <tr>\n",
       "      <th>IV6</th>\n",
       "      <th colspan=\"4\" halign=\"left\">1</th>\n",
       "      <th colspan=\"4\" halign=\"left\">2</th>\n",
       "      <th colspan=\"4\" halign=\"left\">3</th>\n",
       "    </tr>\n",
       "    <tr>\n",
       "      <th>IV3</th>\n",
       "      <th>1</th>\n",
       "      <th>2</th>\n",
       "      <th>3</th>\n",
       "      <th>4</th>\n",
       "      <th>1</th>\n",
       "      <th>2</th>\n",
       "      <th>3</th>\n",
       "      <th>4</th>\n",
       "      <th>1</th>\n",
       "      <th>2</th>\n",
       "      <th>3</th>\n",
       "      <th>4</th>\n",
       "    </tr>\n",
       "    <tr>\n",
       "      <th>IV4</th>\n",
       "      <th></th>\n",
       "      <th></th>\n",
       "      <th></th>\n",
       "      <th></th>\n",
       "      <th></th>\n",
       "      <th></th>\n",
       "      <th></th>\n",
       "      <th></th>\n",
       "      <th></th>\n",
       "      <th></th>\n",
       "      <th></th>\n",
       "      <th></th>\n",
       "    </tr>\n",
       "  </thead>\n",
       "  <tbody>\n",
       "    <tr>\n",
       "      <th>1</th>\n",
       "      <td>0.265412</td>\n",
       "      <td>0.012811</td>\n",
       "      <td>0.000811</td>\n",
       "      <td>0.000708</td>\n",
       "      <td>0.000855</td>\n",
       "      <td>0.001120</td>\n",
       "      <td>0.000059</td>\n",
       "      <td>0.000091</td>\n",
       "      <td>0.000044</td>\n",
       "      <td>0.000015</td>\n",
       "      <td>0.000102</td>\n",
       "      <td>0.000022</td>\n",
       "    </tr>\n",
       "    <tr>\n",
       "      <th>2</th>\n",
       "      <td>0.207639</td>\n",
       "      <td>0.021671</td>\n",
       "      <td>0.000295</td>\n",
       "      <td>0.000428</td>\n",
       "      <td>0.001459</td>\n",
       "      <td>0.002329</td>\n",
       "      <td>0.000133</td>\n",
       "      <td>0.000155</td>\n",
       "      <td>0.000059</td>\n",
       "      <td>0.000236</td>\n",
       "      <td>0.000015</td>\n",
       "      <td>0.000037</td>\n",
       "    </tr>\n",
       "    <tr>\n",
       "      <th>3</th>\n",
       "      <td>0.069758</td>\n",
       "      <td>0.002020</td>\n",
       "      <td>0.000074</td>\n",
       "      <td>0.000118</td>\n",
       "      <td>0.000074</td>\n",
       "      <td>0.000133</td>\n",
       "      <td>0.000229</td>\n",
       "      <td>0.000048</td>\n",
       "      <td>0.001613</td>\n",
       "      <td>0.000427</td>\n",
       "      <td>0.000054</td>\n",
       "      <td>0.000012</td>\n",
       "    </tr>\n",
       "    <tr>\n",
       "      <th>4</th>\n",
       "      <td>0.244096</td>\n",
       "      <td>0.054707</td>\n",
       "      <td>0.000737</td>\n",
       "      <td>0.000428</td>\n",
       "      <td>0.002742</td>\n",
       "      <td>0.010231</td>\n",
       "      <td>0.000899</td>\n",
       "      <td>0.000044</td>\n",
       "      <td>0.000310</td>\n",
       "      <td>0.000604</td>\n",
       "      <td>0.000103</td>\n",
       "      <td>0.000044</td>\n",
       "    </tr>\n",
       "    <tr>\n",
       "      <th>5</th>\n",
       "      <td>0.009862</td>\n",
       "      <td>0.002226</td>\n",
       "      <td>0.000059</td>\n",
       "      <td>0.000177</td>\n",
       "      <td>0.000221</td>\n",
       "      <td>0.000354</td>\n",
       "      <td>0.000177</td>\n",
       "      <td>0.000015</td>\n",
       "      <td>0.000015</td>\n",
       "      <td>0.000029</td>\n",
       "      <td>0.000029</td>\n",
       "      <td>0.000003</td>\n",
       "    </tr>\n",
       "    <tr>\n",
       "      <th>6</th>\n",
       "      <td>0.000516</td>\n",
       "      <td>0.000486</td>\n",
       "      <td>0.000088</td>\n",
       "      <td>0.000029</td>\n",
       "      <td>0.000029</td>\n",
       "      <td>0.000251</td>\n",
       "      <td>0.000206</td>\n",
       "      <td>0.000015</td>\n",
       "      <td>0.000150</td>\n",
       "      <td>0.000029</td>\n",
       "      <td>0.000044</td>\n",
       "      <td>0.000001</td>\n",
       "    </tr>\n",
       "    <tr>\n",
       "      <th>7</th>\n",
       "      <td>0.003096</td>\n",
       "      <td>0.002565</td>\n",
       "      <td>0.000177</td>\n",
       "      <td>0.000029</td>\n",
       "      <td>0.000118</td>\n",
       "      <td>0.000428</td>\n",
       "      <td>0.000324</td>\n",
       "      <td>0.000015</td>\n",
       "      <td>0.000252</td>\n",
       "      <td>0.000067</td>\n",
       "      <td>0.000029</td>\n",
       "      <td>0.000002</td>\n",
       "    </tr>\n",
       "    <tr>\n",
       "      <th>9</th>\n",
       "      <td>0.070363</td>\n",
       "      <td>0.000428</td>\n",
       "      <td>0.000015</td>\n",
       "      <td>0.000398</td>\n",
       "      <td>0.000339</td>\n",
       "      <td>0.000088</td>\n",
       "      <td>0.000023</td>\n",
       "      <td>0.000005</td>\n",
       "      <td>0.000165</td>\n",
       "      <td>0.000044</td>\n",
       "      <td>0.000006</td>\n",
       "      <td>0.000001</td>\n",
       "    </tr>\n",
       "  </tbody>\n",
       "</table>\n",
       "</div>"
      ],
      "text/plain": [
       "       CODUSU                                                              \\\n",
       "IV6         1                                       2                       \n",
       "IV3         1         2         3         4         1         2         3   \n",
       "IV4                                                                         \n",
       "1    0.265412  0.012811  0.000811  0.000708  0.000855  0.001120  0.000059   \n",
       "2    0.207639  0.021671  0.000295  0.000428  0.001459  0.002329  0.000133   \n",
       "3    0.069758  0.002020  0.000074  0.000118  0.000074  0.000133  0.000229   \n",
       "4    0.244096  0.054707  0.000737  0.000428  0.002742  0.010231  0.000899   \n",
       "5    0.009862  0.002226  0.000059  0.000177  0.000221  0.000354  0.000177   \n",
       "6    0.000516  0.000486  0.000088  0.000029  0.000029  0.000251  0.000206   \n",
       "7    0.003096  0.002565  0.000177  0.000029  0.000118  0.000428  0.000324   \n",
       "9    0.070363  0.000428  0.000015  0.000398  0.000339  0.000088  0.000023   \n",
       "\n",
       "                                                       \n",
       "IV6                   3                                \n",
       "IV3         4         1         2         3         4  \n",
       "IV4                                                    \n",
       "1    0.000091  0.000044  0.000015  0.000102  0.000022  \n",
       "2    0.000155  0.000059  0.000236  0.000015  0.000037  \n",
       "3    0.000048  0.001613  0.000427  0.000054  0.000012  \n",
       "4    0.000044  0.000310  0.000604  0.000103  0.000044  \n",
       "5    0.000015  0.000015  0.000029  0.000029  0.000003  \n",
       "6    0.000015  0.000150  0.000029  0.000044  0.000001  \n",
       "7    0.000015  0.000252  0.000067  0.000029  0.000002  \n",
       "9    0.000005  0.000165  0.000044  0.000006  0.000001  "
      ]
     },
     "execution_count": 535,
     "metadata": {},
     "output_type": "execute_result"
    }
   ],
   "source": [
    "qjkl"
   ]
  },
  {
   "cell_type": "code",
   "execution_count": 536,
   "metadata": {
    "collapsed": false
   },
   "outputs": [
    {
     "name": "stdout",
     "output_type": "stream",
     "text": [
      "IV4\n",
      "1    0.164892\n",
      "2    0.301428\n",
      "3    0.068698\n",
      "4    0.442466\n",
      "5    0.011390\n",
      "6    0.004899\n",
      "7    0.003354\n",
      "9    0.002874\n",
      "Name: CODUSU, dtype: float64\n",
      "IV3\n",
      "1    0.891033\n",
      "2    0.097703\n",
      "3    0.009087\n",
      "4    0.002178\n",
      "Name: CODUSU, dtype: float64\n",
      "IV6\n",
      "1    0.976167\n",
      "2    0.017681\n",
      "3    0.006152\n",
      "Name: CODUSU, dtype: float64\n"
     ]
    }
   ],
   "source": [
    "p_stacked = p_.stack().stack().reset_index()\n",
    "print p_stacked.groupby('IV4')['CODUSU'].sum()\n",
    "print p_stacked.groupby('IV3')['CODUSU'].sum()\n",
    "print p_stacked.groupby('IV6')['CODUSU'].sum()"
   ]
  },
  {
   "cell_type": "code",
   "execution_count": 527,
   "metadata": {
    "collapsed": false
   },
   "outputs": [
    {
     "data": {
      "text/plain": [
       "[1 Membrana / cubierta asfáltica                0.179288\n",
       " 2 Baldosa / losa sin cubierta                  0.305800\n",
       " 3 Pizarra / teja                               0.095610\n",
       " 4 Chapa de metal sin cubierta                  0.361516\n",
       " 5 Chapa de fibrocemento / plástico             0.024129\n",
       " 6 Chapa de cartón                              0.008900\n",
       " 7 Caña / tabla / paja con barro / paja sola    0.014952\n",
       " 9 N/S. Depto en propiedad horizontal           0.009804\n",
       " dtype: float64, 1 Por cañeria dentro de la vivienda               0.885473\n",
       " 2 Fuera de la vivienda pero dentro del terreno    0.092493\n",
       " 3 Fuera del terreno                               0.022033\n",
       " dtype: float64, 1 Mosaico / baldosa / madera / cerámica / alfombra    0.765829\n",
       " 2 Cemento / ladrillo fijo                             0.202845\n",
       " 3 Ladrillo suelto / tierra                            0.025842\n",
       " 4 Otro                                                0.005484\n",
       " dtype: float64]"
      ]
     },
     "execution_count": 527,
     "metadata": {},
     "output_type": "execute_result"
    }
   ],
   "source": [
    "margins"
   ]
  },
  {
   "cell_type": "code",
   "execution_count": 528,
   "metadata": {
    "collapsed": false
   },
   "outputs": [
    {
     "name": "stdout",
     "output_type": "stream",
     "text": [
      "IV4\n",
      "1    0.282050\n",
      "2    0.234455\n",
      "3    0.074560\n",
      "4    0.314945\n",
      "5    0.013167\n",
      "6    0.001847\n",
      "7    0.007102\n",
      "9    0.071875\n",
      "Name: CODUSU, dtype: float64\n",
      "IV3\n",
      "1    0.879189\n",
      "2    0.113298\n",
      "3    0.004689\n",
      "4    0.002823\n",
      "Name: CODUSU, dtype: float64\n",
      "IV6\n",
      "1    0.972226\n",
      "2    0.023210\n",
      "3    0.004565\n",
      "Name: CODUSU, dtype: float64\n"
     ]
    }
   ],
   "source": [
    "q_stacked = qjkl.stack().stack()\n",
    "print q_stacked.groupby('IV4')['CODUSU'].sum()\n",
    "print q_stacked.groupby('IV3')['CODUSU'].sum()\n",
    "print q_stacked.groupby('IV6')['CODUSU'].sum()"
   ]
  },
  {
   "cell_type": "code",
   "execution_count": 11,
   "metadata": {
    "collapsed": true
   },
   "outputs": [],
   "source": [
    "## Model?\n",
    "# It would be a max ent prolem minimizing distance between pjkl and priors qjkl, \n",
    "# using lagrange multipliers with the conditions that (hyper-) row and column sums match the margins."
   ]
  },
  {
   "cell_type": "code",
   "execution_count": 12,
   "metadata": {
    "collapsed": true
   },
   "outputs": [],
   "source": [
    "# import scipy.maxentropy.conditionalmodel as cm"
   ]
  },
  {
   "cell_type": "code",
   "execution_count": 13,
   "metadata": {
    "collapsed": false
   },
   "outputs": [],
   "source": [
    "# def f_1(x):\n",
    "#     return x\n",
    "\n",
    "# F = [f_1]\n",
    "# samplespace = np.ones((8, 4, 4))\n",
    "# K = qjkl.values.reshape(8, 4, 4)\n",
    "# cm(F, samplespace, K)"
   ]
  },
  {
   "cell_type": "code",
   "execution_count": null,
   "metadata": {
    "collapsed": true
   },
   "outputs": [],
   "source": []
  }
 ],
 "metadata": {
  "kernelspec": {
   "display_name": "Python 2",
   "language": "python",
   "name": "python2"
  },
  "language_info": {
   "codemirror_mode": {
    "name": "ipython",
    "version": 2
   },
   "file_extension": ".py",
   "mimetype": "text/x-python",
   "name": "python",
   "nbconvert_exporter": "python",
   "pygments_lexer": "ipython2",
   "version": "2.7.13"
  }
 },
 "nbformat": 4,
 "nbformat_minor": 2
}
