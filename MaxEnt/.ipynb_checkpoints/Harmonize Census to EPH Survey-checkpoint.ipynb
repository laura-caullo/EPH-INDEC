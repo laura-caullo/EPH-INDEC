{
 "cells": [
  {
   "cell_type": "code",
   "execution_count": 1,
   "metadata": {
    "collapsed": true
   },
   "outputs": [],
   "source": [
    "import pandas as pd\n",
    "import numpy as np"
   ]
  },
  {
   "cell_type": "markdown",
   "metadata": {},
   "source": [
    "## EPH survey data"
   ]
  },
  {
   "cell_type": "code",
   "execution_count": 2,
   "metadata": {
    "collapsed": false
   },
   "outputs": [],
   "source": [
    "df = pd.read_csv('./../resumen_EPH_hogar.csv')\n",
    "df = df.loc[df.IV1 != 9]\n",
    "df['IV10'] = df['IV10'].map({1: 1, 2: 2, 3: 2, 0: 0, 9: 9})\n",
    "df['II9'] = df['II9'].map({1: 1, 2: 2, 3: 2, 4: 4, 0: 0})\n",
    "df['II7'] = df['II7'].map({1: 1, 2: 2, 3: 3, 4: 4, 5: 5, 6: 6, 7: 6, 8: 6, 9: 6, 0: 0})\n",
    "df['IX_TOT'] = df['IX_TOT'].clip(0, 8)\n"
   ]
  },
  {
   "cell_type": "code",
   "execution_count": 3,
   "metadata": {
    "collapsed": false
   },
   "outputs": [],
   "source": [
    "# for col in df.iloc[:, 2:].columns:\n",
    "#     print col\n",
    "#     print sorted(df[col].unique())"
   ]
  },
  {
   "cell_type": "markdown",
   "metadata": {},
   "source": [
    "## 2010 ARG Census data"
   ]
  },
  {
   "cell_type": "code",
   "execution_count": 4,
   "metadata": {
    "collapsed": true
   },
   "outputs": [],
   "source": [
    "path = './../../Datos_censo/Preguntas/'\n",
    "\n",
    "VIVIENDA_V01 = pd.read_csv(path + 'VIVIENDA-V01.csv', encoding = 'latin-1')\n",
    "HOGAR_H05 = pd.read_csv(path + 'HOGAR-H05.csv', encoding = 'latin-1') # Pisos\n",
    "HOGAR_H06 = pd.read_csv(path + 'HOGAR-H06.csv', encoding = 'latin-1') # Cubierta techos\n",
    "HOGAR_H07 = pd.read_csv(path + 'HOGAR-H07.csv', encoding = 'latin-1') # Cielorraso\n",
    "HOGAR_H08 = pd.read_csv(path + 'HOGAR-H08.csv', encoding = 'latin-1') # Agua\n",
    "HOGAR_H09 = pd.read_csv(path + 'HOGAR-H09.csv', encoding = 'latin-1') # Procedencia agua\n",
    "HOGAR_H10 = pd.read_csv(path + 'HOGAR-H10.csv', encoding = 'latin-1') # Tiene baño\n",
    "HOGAR_H11 = pd.read_csv(path + 'HOGAR-H11.csv', encoding = 'latin-1') # Baño con cadena\n",
    "HOGAR_H12 = pd.read_csv(path + 'HOGAR-H12.csv', encoding = 'latin-1') # Desague baño\n",
    "HOGAR_H13 = pd.read_csv(path + 'HOGAR-H13.csv', encoding = 'latin-1') # Baño uso exclusivo\n",
    "HOGAR_H14 = pd.read_csv(path + 'HOGAR-H14.csv', encoding = 'latin-1') # Combustible cocina\n",
    "HOGAR_PROP = pd.read_csv(path + 'HOGAR-PROP.csv', encoding = 'latin-1') # Regimen tenencia\n",
    "HOGAR_TOTPERS = pd.read_csv(path + 'HOGAR-TOTPERS.csv', encoding = 'latin-1') # Personas en hogar\n",
    "\n",
    "df_list = [VIVIENDA_V01, HOGAR_H05, HOGAR_H06, HOGAR_H07, HOGAR_H08, HOGAR_H09, \n",
    "          HOGAR_H10, HOGAR_H11, HOGAR_H12, HOGAR_H13, HOGAR_H14, HOGAR_PROP, HOGAR_TOTPERS]"
   ]
  },
  {
   "cell_type": "markdown",
   "metadata": {},
   "source": [
    "## Harmonise variables (let valid answers match exactly in both datasets)"
   ]
  },
  {
   "cell_type": "code",
   "execution_count": 5,
   "metadata": {
    "collapsed": false
   },
   "outputs": [],
   "source": [
    "\n",
    "VIVIENDA_V01['2 Departamento'] = VIVIENDA_V01['4 Departamento']\n",
    "VIVIENDA_V01['3 Pieza de inquilinato'] = VIVIENDA_V01['5 Pieza en inquilinato']\n",
    "VIVIENDA_V01[u'4 Pieza en hotel / pensión'] = VIVIENDA_V01[u'6 Pieza en hotel familiar o pensión']\n",
    "VIVIENDA_V01[u'5 Local no construido para habitación'] = VIVIENDA_V01[u'7 Local no construido para habitación']\n",
    "VIVIENDA_V01['6 Otros'] = VIVIENDA_V01['2 Rancho'] + VIVIENDA_V01['3 Casilla'] + VIVIENDA_V01[u'8 Vivienda móvil'] + VIVIENDA_V01['9 Persona/s viviendo en la calle']\n",
    "\n",
    "IV1_censo = VIVIENDA_V01[['radio', '1 Casa', '2 Departamento', '3 Pieza de inquilinato', u'4 Pieza en hotel / pensión',\n",
    "                         u'5 Local no construido para habitación', '6 Otros', 'TOTAL']]\n",
    "IV3_censo = HOGAR_H05\n",
    "IV3_censo.columns = ['radio', '1 Mosaico / baldosa / madera / cerámica / alfombra', \n",
    "                    '2 Cemento / ladrillo fijo', '3 Ladrillo suelto / tierra', '4 Otro', 'TOTAL']\n",
    "\n",
    "IV4_censo = HOGAR_H06\n",
    "IV4_censo.columns = ['radio', '1 Membrana / cubierta asfáltica', '2 Baldosa / losa sin cubierta', '3 Pizarra / teja', \n",
    "                     '4 Chapa de metal sin cubierta', '5 Chapa de fibrocemento / plástico', '6 Chapa de cartón', \n",
    "                     '7 Caña / tabla / paja con barro / paja sola', '9 N/S. Depto en propiedad horizontal', 'TOTAL']\n",
    "\n",
    "IV5_censo = HOGAR_H07\n",
    "IV6_censo = HOGAR_H08\n",
    "IV7_censo = HOGAR_H09\n",
    "IV7_censo['4 Otra fuente'] = HOGAR_H09['4 Pozo'] + HOGAR_H09['5 Transporte por cisterna'] + \\\n",
    " HOGAR_H09[u'6 Agua de lluvia, río, canal, arroyo o acequia']\n",
    "IV7_censo = IV7_censo[[u'radio', u'1 Red pública', u'2 Perforación con bomba a motor',\n",
    "                      u'3 Perforación con bomba manual', u'4 Otra fuente', u'TOTAL']]\n",
    "\n",
    "IV8_censo = HOGAR_H10\n",
    "IV10_censo = HOGAR_H11\n",
    "IV11_censo = HOGAR_H12\n",
    "II9_censo = HOGAR_H13\n",
    "\n",
    "II8_censo = HOGAR_H14\n",
    "II8_censo['2 Gas de tubo / garrafa'] = HOGAR_H14['3 Gas en tubo'] + HOGAR_H14['4 Gas en garrafa']\n",
    "II8_censo[u'3 Kerosene / leña/ carbón'] = HOGAR_H14[u'6 Leña o carbón']\n",
    "II8_censo['4 Otro'] = HOGAR_H14[u'2 Gas a granel (zeppelin)'] + HOGAR_H14[u'5 Electricidad'] + HOGAR_H14[u'7 Otro']\n",
    "\n",
    "II8_censo = II8_censo[['radio', '1 Gas de red', '2 Gas de tubo / garrafa', u'3 Kerosene / leña/ carbón', '4 Otro', 'TOTAL']]\n",
    "\n",
    "II7_censo = HOGAR_PROP\n",
    "\n",
    "IX_TOT_censo = HOGAR_TOTPERS"
   ]
  },
  {
   "cell_type": "markdown",
   "metadata": {},
   "source": [
    "## Intento Max Ent\n",
    "\n",
    "#### Margins"
   ]
  },
  {
   "cell_type": "code",
   "execution_count": 6,
   "metadata": {
    "collapsed": false
   },
   "outputs": [
    {
     "data": {
      "text/plain": [
       "1 Membrana / cubierta asfáltica                0.179288\n",
       "2 Baldosa / losa sin cubierta                  0.305800\n",
       "3 Pizarra / teja                               0.095610\n",
       "4 Chapa de metal sin cubierta                  0.361516\n",
       "5 Chapa de fibrocemento / plástico             0.024129\n",
       "6 Chapa de cartón                              0.008900\n",
       "7 Caña / tabla / paja con barro / paja sola    0.014952\n",
       "9 N/S. Depto en propiedad horizontal           0.009804\n",
       "TOTAL                                          1.000000\n",
       "dtype: float64"
      ]
     },
     "execution_count": 6,
     "metadata": {},
     "output_type": "execute_result"
    }
   ],
   "source": [
    "# From whole country data, we can only have margins. Same for a given district or precint.\n",
    "\n",
    "tot_viviendas = 12171675.\n",
    "IV4_censo.iloc[:, 1:].sum()/tot_viviendas"
   ]
  },
  {
   "cell_type": "code",
   "execution_count": 7,
   "metadata": {
    "collapsed": false
   },
   "outputs": [
    {
     "data": {
      "text/plain": [
       "1 Mosaico / baldosa / madera / cerámica / alfombra    0.765829\n",
       "2 Cemento / ladrillo fijo                             0.202845\n",
       "3 Ladrillo suelto / tierra                            0.025842\n",
       "4 Otro                                                0.005484\n",
       "TOTAL                                                 1.000000\n",
       "dtype: float64"
      ]
     },
     "execution_count": 7,
     "metadata": {},
     "output_type": "execute_result"
    }
   ],
   "source": [
    "IV3_censo.iloc[:, 1:].sum()/tot_viviendas"
   ]
  },
  {
   "cell_type": "code",
   "execution_count": 8,
   "metadata": {
    "collapsed": false
   },
   "outputs": [
    {
     "data": {
      "text/plain": [
       "1 Red pública                      0.839292\n",
       "2 Perforación con bomba a motor    0.116497\n",
       "3 Perforación con bomba manual     0.007038\n",
       "4 Otra fuente                      0.037174\n",
       "TOTAL                              1.000000\n",
       "dtype: float64"
      ]
     },
     "execution_count": 8,
     "metadata": {},
     "output_type": "execute_result"
    }
   ],
   "source": [
    "IV7_censo.iloc[:, 1:].sum()/tot_viviendas"
   ]
  },
  {
   "cell_type": "markdown",
   "metadata": {},
   "source": [
    "#### Prior probabilities (matrix entries) from survey info"
   ]
  },
  {
   "cell_type": "code",
   "execution_count": 9,
   "metadata": {
    "collapsed": false
   },
   "outputs": [],
   "source": [
    "qjkl = df.groupby(['IV4', 'IV3', 'IV7'])[['CODUSU']].nunique() # how many IDs with each combination\n",
    "qjkl /= qjkl.sum()\n",
    "qjkl = qjkl.unstack().unstack().fillna(0)"
   ]
  },
  {
   "cell_type": "code",
   "execution_count": 10,
   "metadata": {
    "collapsed": false
   },
   "outputs": [
    {
     "data": {
      "text/html": [
       "<div>\n",
       "<style scoped>\n",
       "    .dataframe tbody tr th:only-of-type {\n",
       "        vertical-align: middle;\n",
       "    }\n",
       "\n",
       "    .dataframe tbody tr th {\n",
       "        vertical-align: top;\n",
       "    }\n",
       "\n",
       "    .dataframe thead tr th {\n",
       "        text-align: left;\n",
       "    }\n",
       "\n",
       "    .dataframe thead tr:last-of-type th {\n",
       "        text-align: right;\n",
       "    }\n",
       "</style>\n",
       "<table border=\"1\" class=\"dataframe\">\n",
       "  <thead>\n",
       "    <tr>\n",
       "      <th></th>\n",
       "      <th colspan=\"16\" halign=\"left\">CODUSU</th>\n",
       "    </tr>\n",
       "    <tr>\n",
       "      <th>IV7</th>\n",
       "      <th colspan=\"4\" halign=\"left\">1</th>\n",
       "      <th colspan=\"4\" halign=\"left\">2</th>\n",
       "      <th colspan=\"4\" halign=\"left\">3</th>\n",
       "      <th colspan=\"4\" halign=\"left\">4</th>\n",
       "    </tr>\n",
       "    <tr>\n",
       "      <th>IV3</th>\n",
       "      <th>1</th>\n",
       "      <th>2</th>\n",
       "      <th>3</th>\n",
       "      <th>4</th>\n",
       "      <th>1</th>\n",
       "      <th>2</th>\n",
       "      <th>3</th>\n",
       "      <th>4</th>\n",
       "      <th>1</th>\n",
       "      <th>2</th>\n",
       "      <th>3</th>\n",
       "      <th>4</th>\n",
       "      <th>1</th>\n",
       "      <th>2</th>\n",
       "      <th>3</th>\n",
       "      <th>4</th>\n",
       "    </tr>\n",
       "    <tr>\n",
       "      <th>IV4</th>\n",
       "      <th></th>\n",
       "      <th></th>\n",
       "      <th></th>\n",
       "      <th></th>\n",
       "      <th></th>\n",
       "      <th></th>\n",
       "      <th></th>\n",
       "      <th></th>\n",
       "      <th></th>\n",
       "      <th></th>\n",
       "      <th></th>\n",
       "      <th></th>\n",
       "      <th></th>\n",
       "      <th></th>\n",
       "      <th></th>\n",
       "      <th></th>\n",
       "    </tr>\n",
       "  </thead>\n",
       "  <tbody>\n",
       "    <tr>\n",
       "      <th>1</th>\n",
       "      <td>0.261151</td>\n",
       "      <td>0.012960</td>\n",
       "      <td>0.000843</td>\n",
       "      <td>0.000695</td>\n",
       "      <td>0.005977</td>\n",
       "      <td>0.001006</td>\n",
       "      <td>0.000030</td>\n",
       "      <td>0.000015</td>\n",
       "      <td>0.000030</td>\n",
       "      <td>0.000030</td>\n",
       "      <td>0.000000</td>\n",
       "      <td>0.0</td>\n",
       "      <td>0.000104</td>\n",
       "      <td>0.000000</td>\n",
       "      <td>0.000000</td>\n",
       "      <td>0.000000</td>\n",
       "    </tr>\n",
       "    <tr>\n",
       "      <th>2</th>\n",
       "      <td>0.199962</td>\n",
       "      <td>0.022206</td>\n",
       "      <td>0.000429</td>\n",
       "      <td>0.000429</td>\n",
       "      <td>0.009735</td>\n",
       "      <td>0.001923</td>\n",
       "      <td>0.000000</td>\n",
       "      <td>0.000000</td>\n",
       "      <td>0.000089</td>\n",
       "      <td>0.000059</td>\n",
       "      <td>0.000000</td>\n",
       "      <td>0.0</td>\n",
       "      <td>0.000118</td>\n",
       "      <td>0.000133</td>\n",
       "      <td>0.000015</td>\n",
       "      <td>0.000000</td>\n",
       "    </tr>\n",
       "    <tr>\n",
       "      <th>3</th>\n",
       "      <td>0.063986</td>\n",
       "      <td>0.001894</td>\n",
       "      <td>0.000044</td>\n",
       "      <td>0.000104</td>\n",
       "      <td>0.005918</td>\n",
       "      <td>0.000237</td>\n",
       "      <td>0.000030</td>\n",
       "      <td>0.000000</td>\n",
       "      <td>0.000089</td>\n",
       "      <td>0.000030</td>\n",
       "      <td>0.000000</td>\n",
       "      <td>0.0</td>\n",
       "      <td>0.000089</td>\n",
       "      <td>0.000000</td>\n",
       "      <td>0.000000</td>\n",
       "      <td>0.000015</td>\n",
       "    </tr>\n",
       "    <tr>\n",
       "      <th>4</th>\n",
       "      <td>0.235794</td>\n",
       "      <td>0.059237</td>\n",
       "      <td>0.001583</td>\n",
       "      <td>0.000429</td>\n",
       "      <td>0.011480</td>\n",
       "      <td>0.005933</td>\n",
       "      <td>0.000133</td>\n",
       "      <td>0.000030</td>\n",
       "      <td>0.000118</td>\n",
       "      <td>0.000133</td>\n",
       "      <td>0.000015</td>\n",
       "      <td>0.0</td>\n",
       "      <td>0.000636</td>\n",
       "      <td>0.000473</td>\n",
       "      <td>0.000015</td>\n",
       "      <td>0.000015</td>\n",
       "    </tr>\n",
       "    <tr>\n",
       "      <th>5</th>\n",
       "      <td>0.009350</td>\n",
       "      <td>0.002264</td>\n",
       "      <td>0.000207</td>\n",
       "      <td>0.000192</td>\n",
       "      <td>0.000784</td>\n",
       "      <td>0.000325</td>\n",
       "      <td>0.000015</td>\n",
       "      <td>0.000000</td>\n",
       "      <td>0.000000</td>\n",
       "      <td>0.000000</td>\n",
       "      <td>0.000015</td>\n",
       "      <td>0.0</td>\n",
       "      <td>0.000000</td>\n",
       "      <td>0.000030</td>\n",
       "      <td>0.000030</td>\n",
       "      <td>0.000000</td>\n",
       "    </tr>\n",
       "    <tr>\n",
       "      <th>6</th>\n",
       "      <td>0.000473</td>\n",
       "      <td>0.000592</td>\n",
       "      <td>0.000296</td>\n",
       "      <td>0.000044</td>\n",
       "      <td>0.000059</td>\n",
       "      <td>0.000178</td>\n",
       "      <td>0.000044</td>\n",
       "      <td>0.000000</td>\n",
       "      <td>0.000000</td>\n",
       "      <td>0.000000</td>\n",
       "      <td>0.000000</td>\n",
       "      <td>0.0</td>\n",
       "      <td>0.000015</td>\n",
       "      <td>0.000000</td>\n",
       "      <td>0.000000</td>\n",
       "      <td>0.000000</td>\n",
       "    </tr>\n",
       "    <tr>\n",
       "      <th>7</th>\n",
       "      <td>0.003181</td>\n",
       "      <td>0.002915</td>\n",
       "      <td>0.000518</td>\n",
       "      <td>0.000044</td>\n",
       "      <td>0.000044</td>\n",
       "      <td>0.000074</td>\n",
       "      <td>0.000015</td>\n",
       "      <td>0.000000</td>\n",
       "      <td>0.000000</td>\n",
       "      <td>0.000000</td>\n",
       "      <td>0.000000</td>\n",
       "      <td>0.0</td>\n",
       "      <td>0.000000</td>\n",
       "      <td>0.000015</td>\n",
       "      <td>0.000000</td>\n",
       "      <td>0.000000</td>\n",
       "    </tr>\n",
       "    <tr>\n",
       "      <th>9</th>\n",
       "      <td>0.070540</td>\n",
       "      <td>0.000473</td>\n",
       "      <td>0.000015</td>\n",
       "      <td>0.000399</td>\n",
       "      <td>0.000399</td>\n",
       "      <td>0.000044</td>\n",
       "      <td>0.000000</td>\n",
       "      <td>0.000000</td>\n",
       "      <td>0.000015</td>\n",
       "      <td>0.000000</td>\n",
       "      <td>0.000000</td>\n",
       "      <td>0.0</td>\n",
       "      <td>0.000000</td>\n",
       "      <td>0.000000</td>\n",
       "      <td>0.000000</td>\n",
       "      <td>0.000000</td>\n",
       "    </tr>\n",
       "  </tbody>\n",
       "</table>\n",
       "</div>"
      ],
      "text/plain": [
       "       CODUSU                                                              \\\n",
       "IV7         1                                       2                       \n",
       "IV3         1         2         3         4         1         2         3   \n",
       "IV4                                                                         \n",
       "1    0.261151  0.012960  0.000843  0.000695  0.005977  0.001006  0.000030   \n",
       "2    0.199962  0.022206  0.000429  0.000429  0.009735  0.001923  0.000000   \n",
       "3    0.063986  0.001894  0.000044  0.000104  0.005918  0.000237  0.000030   \n",
       "4    0.235794  0.059237  0.001583  0.000429  0.011480  0.005933  0.000133   \n",
       "5    0.009350  0.002264  0.000207  0.000192  0.000784  0.000325  0.000015   \n",
       "6    0.000473  0.000592  0.000296  0.000044  0.000059  0.000178  0.000044   \n",
       "7    0.003181  0.002915  0.000518  0.000044  0.000044  0.000074  0.000015   \n",
       "9    0.070540  0.000473  0.000015  0.000399  0.000399  0.000044  0.000000   \n",
       "\n",
       "                                                                      \\\n",
       "IV7                   3                                  4             \n",
       "IV3         4         1         2         3    4         1         2   \n",
       "IV4                                                                    \n",
       "1    0.000015  0.000030  0.000030  0.000000  0.0  0.000104  0.000000   \n",
       "2    0.000000  0.000089  0.000059  0.000000  0.0  0.000118  0.000133   \n",
       "3    0.000000  0.000089  0.000030  0.000000  0.0  0.000089  0.000000   \n",
       "4    0.000030  0.000118  0.000133  0.000015  0.0  0.000636  0.000473   \n",
       "5    0.000000  0.000000  0.000000  0.000015  0.0  0.000000  0.000030   \n",
       "6    0.000000  0.000000  0.000000  0.000000  0.0  0.000015  0.000000   \n",
       "7    0.000000  0.000000  0.000000  0.000000  0.0  0.000000  0.000015   \n",
       "9    0.000000  0.000015  0.000000  0.000000  0.0  0.000000  0.000000   \n",
       "\n",
       "                         \n",
       "IV7                      \n",
       "IV3         3         4  \n",
       "IV4                      \n",
       "1    0.000000  0.000000  \n",
       "2    0.000015  0.000000  \n",
       "3    0.000000  0.000015  \n",
       "4    0.000015  0.000015  \n",
       "5    0.000030  0.000000  \n",
       "6    0.000000  0.000000  \n",
       "7    0.000000  0.000000  \n",
       "9    0.000000  0.000000  "
      ]
     },
     "execution_count": 10,
     "metadata": {},
     "output_type": "execute_result"
    }
   ],
   "source": [
    "qjkl #This is like a 8 x 4 x 4 cube"
   ]
  },
  {
   "cell_type": "code",
   "execution_count": 11,
   "metadata": {
    "collapsed": true
   },
   "outputs": [],
   "source": [
    "## Model?\n",
    "# It would be a max ent prolem minimizing distance between pjkl and priors qjkl, \n",
    "# using lagrange multipliers with the conditions that (hyper-) row and column sums match the margins."
   ]
  },
  {
   "cell_type": "code",
   "execution_count": 12,
   "metadata": {
    "collapsed": true
   },
   "outputs": [],
   "source": [
    "# import scipy.maxentropy.conditionalmodel as cm"
   ]
  },
  {
   "cell_type": "code",
   "execution_count": 13,
   "metadata": {
    "collapsed": false
   },
   "outputs": [],
   "source": [
    "# def f_1(x):\n",
    "#     return x\n",
    "\n",
    "# F = [f_1]\n",
    "# samplespace = np.ones((8, 4, 4))\n",
    "# K = qjkl.values.reshape(8, 4, 4)\n",
    "# cm(F, samplespace, K)"
   ]
  },
  {
   "cell_type": "code",
   "execution_count": null,
   "metadata": {
    "collapsed": true
   },
   "outputs": [],
   "source": []
  }
 ],
 "metadata": {
  "kernelspec": {
   "display_name": "Python 2",
   "language": "python",
   "name": "python2"
  },
  "language_info": {
   "codemirror_mode": {
    "name": "ipython",
    "version": 2
   },
   "file_extension": ".py",
   "mimetype": "text/x-python",
   "name": "python",
   "nbconvert_exporter": "python",
   "pygments_lexer": "ipython2",
   "version": "2.7.13"
  }
 },
 "nbformat": 4,
 "nbformat_minor": 2
}
